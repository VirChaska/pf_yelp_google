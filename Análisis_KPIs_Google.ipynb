{
 "cells": [
  {
   "cell_type": "markdown",
   "metadata": {},
   "source": [
    "# Análisis KPIs Propuestos \n",
    "Primero que nada, trabajaremos la data cruda del mismo modo que lo hicimos en el EDA de google, para luego poder analizarla.  \n",
    "No comentamos, ya que todo este mismo trabajo se realizo en el archivo antes mencionado."
   ]
  },
  {
   "cell_type": "code",
   "execution_count": 1,
   "metadata": {},
   "outputs": [],
   "source": [
    "import pandas as pd\n",
    "import matplotlib.pyplot as plt\n",
    "import json\n",
    "import os\n",
    "import seaborn as sns\n",
    "from collections import Counter\n",
    "import numpy as np\n",
    "import warnings\n",
    "warnings.simplefilter(action='ignore', category=FutureWarning)\n"
   ]
  },
  {
   "cell_type": "code",
   "execution_count": 2,
   "metadata": {},
   "outputs": [],
   "source": [
    "reviews = pd.read_parquet(\"Bases_de_datos/Google Maps/reviews-estados/data/review-Florida.parquet\")"
   ]
  },
  {
   "cell_type": "markdown",
   "metadata": {},
   "source": [
    "A partir del archivo de base de locales, traemos la categoría para así poder trabajar solamente con los locales de las categorías en las que estamos interesados."
   ]
  },
  {
   "cell_type": "code",
   "execution_count": 3,
   "metadata": {},
   "outputs": [],
   "source": [
    "sitios = pd.read_parquet(\"Bases_de_datos/data_filtrada.parquet\")"
   ]
  },
  {
   "cell_type": "code",
   "execution_count": 4,
   "metadata": {},
   "outputs": [],
   "source": [
    "reviews = reviews.merge(sitios[['gmap_id', 'category']], on='gmap_id', how='left')"
   ]
  },
  {
   "cell_type": "code",
   "execution_count": 5,
   "metadata": {},
   "outputs": [],
   "source": [
    "keywords = [\"restaurant\", \"grill\"]\n",
    "reviews = reviews[reviews['category'].fillna('').str.contains('|'.join(keywords), case=False)]"
   ]
  },
  {
   "cell_type": "code",
   "execution_count": 6,
   "metadata": {},
   "outputs": [],
   "source": [
    "reviews['resp'] = reviews['resp'].apply(lambda x: x.get('text') if isinstance(x, dict) else x)"
   ]
  },
  {
   "cell_type": "code",
   "execution_count": 7,
   "metadata": {},
   "outputs": [],
   "source": [
    "reviews['text'] = reviews['text'].str.replace(')', '').str.replace('(', '').str.replace('&', '').str.replace('.', '')\n",
    "reviews['resp'] = reviews['resp'].str.replace(')', '').str.replace('(', '').str.replace('&', '').str.replace('.', '')"
   ]
  },
  {
   "cell_type": "code",
   "execution_count": 8,
   "metadata": {},
   "outputs": [],
   "source": [
    "# Suponiendo que 'florida' es tu DataFrame\n",
    "reviews['pics'] = reviews['pics'].apply(lambda x: 1 if isinstance(x, list) and len(x) > 0 else x)"
   ]
  },
  {
   "cell_type": "code",
   "execution_count": 9,
   "metadata": {},
   "outputs": [],
   "source": [
    "sitios = sitios[sitios['state'] == 'Florida']"
   ]
  },
  {
   "cell_type": "markdown",
   "metadata": {},
   "source": [
    "## Análisis Categorías\n",
    "Como podemos ver a continuación, analizando las categorías vemos que existen 1517 categorías únicas. Yendo al detalle y análisis, vemos que hay muchos registros que tienen en un mismo registro varias categorías, (por ejemplo restaurant, Italian restaurant).  \n",
    "Esto es lo que hace que tengamos tantas categorias. Para lograr generalizar esto y poder realizar un mejor análisis a futuro, vamos a realizar lo siguiente:   \n",
    "    - Tomar como categorías, las 10 categorías únicas que más se repiten ordenadas de mayor cantidad de veces a menor: [\"Restaurant\", \"Mexican restaurant\",\"Pizza restaurant\", \"American restaurant\", \"Bar & grill\", \"Seafood restaurant\", \"Italian restaurant\", \"Barbecue restaurant\", \"Fast food restaurant\", \"Cuban restaurant\"]  \n",
    "    - Estos registros dejarlos así, para los restantes mediante un ciclo for revisaremos si tienen alguna categoría de las que se encuentran en el top 10, y dejaremos esa como categoría  \n",
    "    - Con este análisis pasamos de tener 1517 categorías a 10 y de 467000 registros reducimos a 388000.\n"
   ]
  },
  {
   "cell_type": "code",
   "execution_count": 10,
   "metadata": {},
   "outputs": [
    {
     "name": "stdout",
     "output_type": "stream",
     "text": [
      "Tenemos originalmente 467440 registros con  1517  categorías únicas: ['Modern French restaurant, Restaurant' 'Restaurant' 'American restaurant'\n",
      " ... 'Breakfast restaurant, American restaurant, Brunch restaurant, Diner'\n",
      " 'Video arcade, Event venue, Restaurant, Sports bar'\n",
      " 'American restaurant, Bar & grill, Restaurant, Southern restaurant (US)']\n"
     ]
    }
   ],
   "source": [
    "print('Tenemos originalmente', len(reviews),'registros con ', len(reviews['category'].unique()),' categorías únicas:',reviews['category'].unique())"
   ]
  },
  {
   "cell_type": "code",
   "execution_count": 11,
   "metadata": {},
   "outputs": [
    {
     "data": {
      "text/plain": [
       "category\n",
       "Restaurant                                                                                                                                   24409\n",
       "Mexican restaurant                                                                                                                           12373\n",
       "Seafood restaurant                                                                                                                           10850\n",
       "American restaurant                                                                                                                           9324\n",
       "Barbecue restaurant                                                                                                                           7164\n",
       "Seafood restaurant, Restaurant                                                                                                                6982\n",
       "Italian restaurant                                                                                                                            6498\n",
       "Bar & grill                                                                                                                                   6361\n",
       "Cuban restaurant                                                                                                                              5350\n",
       "Seafood restaurant, Bar, Cajun restaurant, Live music venue                                                                                   4914\n",
       "Pizza restaurant, Caterer, Gluten-free restaurant, Restaurant, Sandwich shop, Vegan restaurant                                                4912\n",
       "Seafood restaurant, Bar, Restaurant                                                                                                           4368\n",
       "Restaurant, American restaurant, Breakfast restaurant, Deli, Gift shop, Market, Produce market                                                3864\n",
       "Steak house, Restaurant                                                                                                                       3821\n",
       "American restaurant, Bar, Restaurant                                                                                                          3708\n",
       "Italian restaurant, Pizza restaurant                                                                                                          3550\n",
       "Seafood restaurant, Bar                                                                                                                       3377\n",
       "Mexican restaurant, Restaurant                                                                                                                3307\n",
       "Eclectic restaurant, Buffet restaurant, Chinese restaurant, Dominican restaurant, Puerto Rican restaurant, Restaurant, Spanish restaurant     3208\n",
       "Pizza restaurant                                                                                                                              3152\n",
       "Buffet restaurant, Barbecue restaurant, Restaurant                                                                                            3078\n",
       "Seafood restaurant, Fine dining restaurant                                                                                                    2791\n",
       "Chinese restaurant                                                                                                                            2672\n",
       "Name: category, dtype: int64"
      ]
     },
     "execution_count": 11,
     "metadata": {},
     "output_type": "execute_result"
    }
   ],
   "source": [
    "reviews.groupby(['category'])['category'].count().sort_values(ascending = False).head(23)"
   ]
  },
  {
   "cell_type": "code",
   "execution_count": 12,
   "metadata": {},
   "outputs": [],
   "source": [
    "categories_def = [\"Restaurant\", \"Mexican restaurant\",\"Pizza restaurant\", \"American restaurant\", \"Bar & grill\", \"Seafood restaurant\", \"Italian restaurant\", \"Barbecue restaurant\", \"Fast food restaurant\", \"Cuban restaurant\"]\n",
    "reviews_final = reviews.copy()\n",
    "\n",
    "def replace_categories(categories):\n",
    "    categories = categories.split(', ')  # Dividir las categorías separadas por comas en una lista\n",
    "    last_valid_category = ''\n",
    "    for category in categories:\n",
    "        if category in categories_def:\n",
    "            last_valid_category = category\n",
    "    return last_valid_category\n",
    "\n",
    "# Aplicar la función a la columna 'Restaurant' del DataFrame\n",
    "reviews_final['category'] = reviews_final['category'].apply(replace_categories)"
   ]
  },
  {
   "cell_type": "code",
   "execution_count": 13,
   "metadata": {},
   "outputs": [],
   "source": [
    "reviews_final = reviews_final[reviews_final['category'].isin(categories_def)]"
   ]
  },
  {
   "cell_type": "code",
   "execution_count": 14,
   "metadata": {},
   "outputs": [
    {
     "name": "stdout",
     "output_type": "stream",
     "text": [
      "Nos quedamos con 388710 registros con  10  categorías únicas: ['Restaurant' 'American restaurant' 'Pizza restaurant'\n",
      " 'Seafood restaurant' 'Cuban restaurant' 'Italian restaurant'\n",
      " 'Bar & grill' 'Fast food restaurant' 'Mexican restaurant'\n",
      " 'Barbecue restaurant']\n"
     ]
    }
   ],
   "source": [
    "print('Nos quedamos con', len(reviews_final),'registros con ', len(reviews_final['category'].unique()),' categorías únicas:',reviews_final['category'].unique())"
   ]
  },
  {
   "cell_type": "markdown",
   "metadata": {},
   "source": [
    "reviews_final.groupby(['category'])['category'].count().sort_values(ascending = False).head(23)"
   ]
  },
  {
   "cell_type": "code",
   "execution_count": 15,
   "metadata": {},
   "outputs": [
    {
     "data": {
      "text/html": [
       "<div>\n",
       "<style scoped>\n",
       "    .dataframe tbody tr th:only-of-type {\n",
       "        vertical-align: middle;\n",
       "    }\n",
       "\n",
       "    .dataframe tbody tr th {\n",
       "        vertical-align: top;\n",
       "    }\n",
       "\n",
       "    .dataframe thead th {\n",
       "        text-align: right;\n",
       "    }\n",
       "</style>\n",
       "<table border=\"1\" class=\"dataframe\">\n",
       "  <thead>\n",
       "    <tr style=\"text-align: right;\">\n",
       "      <th></th>\n",
       "      <th>user_id</th>\n",
       "      <th>name</th>\n",
       "      <th>time</th>\n",
       "      <th>rating</th>\n",
       "      <th>text</th>\n",
       "      <th>pics</th>\n",
       "      <th>resp</th>\n",
       "      <th>gmap_id</th>\n",
       "      <th>state</th>\n",
       "      <th>year</th>\n",
       "      <th>category</th>\n",
       "    </tr>\n",
       "  </thead>\n",
       "  <tbody>\n",
       "    <tr>\n",
       "      <th>2844769</th>\n",
       "      <td>107168603440985823672</td>\n",
       "      <td>Nicole Agostini</td>\n",
       "      <td>2016-08-07 15:59:46.994</td>\n",
       "      <td>4</td>\n",
       "      <td>None</td>\n",
       "      <td>None</td>\n",
       "      <td>None</td>\n",
       "      <td>0x88e77a7ca8450fbd:0xfb0b4a6a6f39353a</td>\n",
       "      <td>Florida</td>\n",
       "      <td>2016</td>\n",
       "      <td>American restaurant, Bar &amp; grill, Restaurant, ...</td>\n",
       "    </tr>\n",
       "    <tr>\n",
       "      <th>2844770</th>\n",
       "      <td>108914971201741263081</td>\n",
       "      <td>mariella vernazzaro</td>\n",
       "      <td>2018-10-14 08:32:50.275</td>\n",
       "      <td>3</td>\n",
       "      <td>None</td>\n",
       "      <td>None</td>\n",
       "      <td>None</td>\n",
       "      <td>0x88e77a7ca8450fbd:0xfb0b4a6a6f39353a</td>\n",
       "      <td>Florida</td>\n",
       "      <td>2018</td>\n",
       "      <td>American restaurant, Bar &amp; grill, Restaurant, ...</td>\n",
       "    </tr>\n",
       "    <tr>\n",
       "      <th>2844771</th>\n",
       "      <td>117220186391575033294</td>\n",
       "      <td>bobbifette</td>\n",
       "      <td>2019-04-05 00:08:18.227</td>\n",
       "      <td>5</td>\n",
       "      <td>None</td>\n",
       "      <td>None</td>\n",
       "      <td>None</td>\n",
       "      <td>0x88e77a7ca8450fbd:0xfb0b4a6a6f39353a</td>\n",
       "      <td>Florida</td>\n",
       "      <td>2019</td>\n",
       "      <td>American restaurant, Bar &amp; grill, Restaurant, ...</td>\n",
       "    </tr>\n",
       "    <tr>\n",
       "      <th>2844772</th>\n",
       "      <td>118338591478240420713</td>\n",
       "      <td>Gates McClain</td>\n",
       "      <td>2020-02-15 20:39:15.115</td>\n",
       "      <td>5</td>\n",
       "      <td>None</td>\n",
       "      <td>None</td>\n",
       "      <td>None</td>\n",
       "      <td>0x88e77a7ca8450fbd:0xfb0b4a6a6f39353a</td>\n",
       "      <td>Florida</td>\n",
       "      <td>2020</td>\n",
       "      <td>American restaurant, Bar &amp; grill, Restaurant, ...</td>\n",
       "    </tr>\n",
       "    <tr>\n",
       "      <th>2844773</th>\n",
       "      <td>109659207944175514556</td>\n",
       "      <td>Kent Early</td>\n",
       "      <td>2018-09-10 11:20:35.073</td>\n",
       "      <td>5</td>\n",
       "      <td>None</td>\n",
       "      <td>None</td>\n",
       "      <td>None</td>\n",
       "      <td>0x88e77a7ca8450fbd:0xfb0b4a6a6f39353a</td>\n",
       "      <td>Florida</td>\n",
       "      <td>2018</td>\n",
       "      <td>American restaurant, Bar &amp; grill, Restaurant, ...</td>\n",
       "    </tr>\n",
       "  </tbody>\n",
       "</table>\n",
       "</div>"
      ],
      "text/plain": [
       "                       user_id                 name                    time   \n",
       "2844769  107168603440985823672      Nicole Agostini 2016-08-07 15:59:46.994  \\\n",
       "2844770  108914971201741263081  mariella vernazzaro 2018-10-14 08:32:50.275   \n",
       "2844771  117220186391575033294           bobbifette 2019-04-05 00:08:18.227   \n",
       "2844772  118338591478240420713        Gates McClain 2020-02-15 20:39:15.115   \n",
       "2844773  109659207944175514556           Kent Early 2018-09-10 11:20:35.073   \n",
       "\n",
       "         rating  text  pics  resp                                gmap_id   \n",
       "2844769       4  None  None  None  0x88e77a7ca8450fbd:0xfb0b4a6a6f39353a  \\\n",
       "2844770       3  None  None  None  0x88e77a7ca8450fbd:0xfb0b4a6a6f39353a   \n",
       "2844771       5  None  None  None  0x88e77a7ca8450fbd:0xfb0b4a6a6f39353a   \n",
       "2844772       5  None  None  None  0x88e77a7ca8450fbd:0xfb0b4a6a6f39353a   \n",
       "2844773       5  None  None  None  0x88e77a7ca8450fbd:0xfb0b4a6a6f39353a   \n",
       "\n",
       "           state  year                                           category  \n",
       "2844769  Florida  2016  American restaurant, Bar & grill, Restaurant, ...  \n",
       "2844770  Florida  2018  American restaurant, Bar & grill, Restaurant, ...  \n",
       "2844771  Florida  2019  American restaurant, Bar & grill, Restaurant, ...  \n",
       "2844772  Florida  2020  American restaurant, Bar & grill, Restaurant, ...  \n",
       "2844773  Florida  2018  American restaurant, Bar & grill, Restaurant, ...  "
      ]
     },
     "execution_count": 15,
     "metadata": {},
     "output_type": "execute_result"
    }
   ],
   "source": [
    "reviews.tail()"
   ]
  },
  {
   "cell_type": "code",
   "execution_count": 16,
   "metadata": {},
   "outputs": [
    {
     "data": {
      "text/html": [
       "<div>\n",
       "<style scoped>\n",
       "    .dataframe tbody tr th:only-of-type {\n",
       "        vertical-align: middle;\n",
       "    }\n",
       "\n",
       "    .dataframe tbody tr th {\n",
       "        vertical-align: top;\n",
       "    }\n",
       "\n",
       "    .dataframe thead th {\n",
       "        text-align: right;\n",
       "    }\n",
       "</style>\n",
       "<table border=\"1\" class=\"dataframe\">\n",
       "  <thead>\n",
       "    <tr style=\"text-align: right;\">\n",
       "      <th></th>\n",
       "      <th>user_id</th>\n",
       "      <th>name</th>\n",
       "      <th>time</th>\n",
       "      <th>rating</th>\n",
       "      <th>text</th>\n",
       "      <th>pics</th>\n",
       "      <th>resp</th>\n",
       "      <th>gmap_id</th>\n",
       "      <th>state</th>\n",
       "      <th>year</th>\n",
       "      <th>category</th>\n",
       "    </tr>\n",
       "  </thead>\n",
       "  <tbody>\n",
       "    <tr>\n",
       "      <th>2844769</th>\n",
       "      <td>107168603440985823672</td>\n",
       "      <td>Nicole Agostini</td>\n",
       "      <td>2016-08-07 15:59:46.994</td>\n",
       "      <td>4</td>\n",
       "      <td>None</td>\n",
       "      <td>None</td>\n",
       "      <td>None</td>\n",
       "      <td>0x88e77a7ca8450fbd:0xfb0b4a6a6f39353a</td>\n",
       "      <td>Florida</td>\n",
       "      <td>2016</td>\n",
       "      <td>Restaurant</td>\n",
       "    </tr>\n",
       "    <tr>\n",
       "      <th>2844770</th>\n",
       "      <td>108914971201741263081</td>\n",
       "      <td>mariella vernazzaro</td>\n",
       "      <td>2018-10-14 08:32:50.275</td>\n",
       "      <td>3</td>\n",
       "      <td>None</td>\n",
       "      <td>None</td>\n",
       "      <td>None</td>\n",
       "      <td>0x88e77a7ca8450fbd:0xfb0b4a6a6f39353a</td>\n",
       "      <td>Florida</td>\n",
       "      <td>2018</td>\n",
       "      <td>Restaurant</td>\n",
       "    </tr>\n",
       "    <tr>\n",
       "      <th>2844771</th>\n",
       "      <td>117220186391575033294</td>\n",
       "      <td>bobbifette</td>\n",
       "      <td>2019-04-05 00:08:18.227</td>\n",
       "      <td>5</td>\n",
       "      <td>None</td>\n",
       "      <td>None</td>\n",
       "      <td>None</td>\n",
       "      <td>0x88e77a7ca8450fbd:0xfb0b4a6a6f39353a</td>\n",
       "      <td>Florida</td>\n",
       "      <td>2019</td>\n",
       "      <td>Restaurant</td>\n",
       "    </tr>\n",
       "    <tr>\n",
       "      <th>2844772</th>\n",
       "      <td>118338591478240420713</td>\n",
       "      <td>Gates McClain</td>\n",
       "      <td>2020-02-15 20:39:15.115</td>\n",
       "      <td>5</td>\n",
       "      <td>None</td>\n",
       "      <td>None</td>\n",
       "      <td>None</td>\n",
       "      <td>0x88e77a7ca8450fbd:0xfb0b4a6a6f39353a</td>\n",
       "      <td>Florida</td>\n",
       "      <td>2020</td>\n",
       "      <td>Restaurant</td>\n",
       "    </tr>\n",
       "    <tr>\n",
       "      <th>2844773</th>\n",
       "      <td>109659207944175514556</td>\n",
       "      <td>Kent Early</td>\n",
       "      <td>2018-09-10 11:20:35.073</td>\n",
       "      <td>5</td>\n",
       "      <td>None</td>\n",
       "      <td>None</td>\n",
       "      <td>None</td>\n",
       "      <td>0x88e77a7ca8450fbd:0xfb0b4a6a6f39353a</td>\n",
       "      <td>Florida</td>\n",
       "      <td>2018</td>\n",
       "      <td>Restaurant</td>\n",
       "    </tr>\n",
       "  </tbody>\n",
       "</table>\n",
       "</div>"
      ],
      "text/plain": [
       "                       user_id                 name                    time   \n",
       "2844769  107168603440985823672      Nicole Agostini 2016-08-07 15:59:46.994  \\\n",
       "2844770  108914971201741263081  mariella vernazzaro 2018-10-14 08:32:50.275   \n",
       "2844771  117220186391575033294           bobbifette 2019-04-05 00:08:18.227   \n",
       "2844772  118338591478240420713        Gates McClain 2020-02-15 20:39:15.115   \n",
       "2844773  109659207944175514556           Kent Early 2018-09-10 11:20:35.073   \n",
       "\n",
       "         rating  text  pics  resp                                gmap_id   \n",
       "2844769       4  None  None  None  0x88e77a7ca8450fbd:0xfb0b4a6a6f39353a  \\\n",
       "2844770       3  None  None  None  0x88e77a7ca8450fbd:0xfb0b4a6a6f39353a   \n",
       "2844771       5  None  None  None  0x88e77a7ca8450fbd:0xfb0b4a6a6f39353a   \n",
       "2844772       5  None  None  None  0x88e77a7ca8450fbd:0xfb0b4a6a6f39353a   \n",
       "2844773       5  None  None  None  0x88e77a7ca8450fbd:0xfb0b4a6a6f39353a   \n",
       "\n",
       "           state  year    category  \n",
       "2844769  Florida  2016  Restaurant  \n",
       "2844770  Florida  2018  Restaurant  \n",
       "2844771  Florida  2019  Restaurant  \n",
       "2844772  Florida  2020  Restaurant  \n",
       "2844773  Florida  2018  Restaurant  "
      ]
     },
     "execution_count": 16,
     "metadata": {},
     "output_type": "execute_result"
    }
   ],
   "source": [
    "reviews_final.tail()"
   ]
  },
  {
   "cell_type": "markdown",
   "metadata": {},
   "source": [
    "## Análisis KPIs\n",
    "A continuación, vamos a analizar los valores históricos de los distintos kpis propuestos para la base obtenida de google para comenzar a comprender que valores objetivos podríamos considerar para evaluar la performance del negocio a futuro."
   ]
  },
  {
   "cell_type": "code",
   "execution_count": 18,
   "metadata": {},
   "outputs": [],
   "source": [
    "reviews_final['month'] = reviews_final['time'].dt.month"
   ]
  },
  {
   "cell_type": "markdown",
   "metadata": {},
   "source": [
    "### KPI 1 - Valoración media de las reseñas\n",
    "Es un indicador sobre el valor medio de las reseñas que van de 1 a 5. Su importancia radica en que la experiencia de los consumidores es clave en la decisión de consumo de otros consumidores.\n"
   ]
  },
  {
   "cell_type": "markdown",
   "metadata": {},
   "source": [
    "Primero que nada, analizaremos la media total de todas las evaluaciones y como fue evolucionando la media anual de todas las evaluaciones de todos los registros."
   ]
  },
  {
   "cell_type": "code",
   "execution_count": 19,
   "metadata": {},
   "outputs": [
    {
     "data": {
      "text/plain": [
       "4.4069975045663865"
      ]
     },
     "execution_count": 19,
     "metadata": {},
     "output_type": "execute_result"
    }
   ],
   "source": [
    "reviews_final['rating'].mean()"
   ]
  },
  {
   "cell_type": "code",
   "execution_count": 20,
   "metadata": {},
   "outputs": [
    {
     "data": {
      "text/plain": [
       "<Axes: xlabel='year', ylabel='rating'>"
      ]
     },
     "execution_count": 20,
     "metadata": {},
     "output_type": "execute_result"
    },
    {
     "data": {
      "image/png": "[encoded data removed]",
      "text/plain": [
       "<Figure size 640x480 with 1 Axes>"
      ]
     },
     "metadata": {},
     "output_type": "display_data"
    }
   ],
   "source": [
    "sns.lineplot(x='year',y='rating', data=reviews_final,ci=None)"
   ]
  },
  {
   "cell_type": "markdown",
   "metadata": {},
   "source": [
    "Podemos ver como fue aumentando la media de las ratings año a año, a pesar de que hubo una caida brusca durante los años 2008 y 2009.  \n",
    "\n",
    "A continuación vamos a revisar la media de ratings promedio de los restaurants (quitandole el peso que tienen la cantidad de clientes que hayan colocado ratings a cada restaurant). Para esto, vamos revisarlo desde la base de dato sitios que ya tiene el rating medio de cada restaurant."
   ]
  },
  {
   "cell_type": "code",
   "execution_count": 21,
   "metadata": {},
   "outputs": [
    {
     "data": {
      "text/html": [
       "<div>\n",
       "<style scoped>\n",
       "    .dataframe tbody tr th:only-of-type {\n",
       "        vertical-align: middle;\n",
       "    }\n",
       "\n",
       "    .dataframe tbody tr th {\n",
       "        vertical-align: top;\n",
       "    }\n",
       "\n",
       "    .dataframe thead th {\n",
       "        text-align: right;\n",
       "    }\n",
       "</style>\n",
       "<table border=\"1\" class=\"dataframe\">\n",
       "  <thead>\n",
       "    <tr style=\"text-align: right;\">\n",
       "      <th></th>\n",
       "      <th>name</th>\n",
       "      <th>address</th>\n",
       "      <th>gmap_id</th>\n",
       "      <th>latitude</th>\n",
       "      <th>longitude</th>\n",
       "      <th>category</th>\n",
       "      <th>avg_rating</th>\n",
       "      <th>num_of_reviews</th>\n",
       "      <th>MISC</th>\n",
       "      <th>state</th>\n",
       "    </tr>\n",
       "  </thead>\n",
       "  <tbody>\n",
       "    <tr>\n",
       "      <th>5</th>\n",
       "      <td>Cape Seafood Shack</td>\n",
       "      <td>Cape Seafood Shack, 603 Del Prado Blvd S, Cape...</td>\n",
       "      <td>0x88db4147b1d9e6f3:0x943dbd10a92ba1b1</td>\n",
       "      <td>26.641377</td>\n",
       "      <td>-81.940545</td>\n",
       "      <td>Restaurant</td>\n",
       "      <td>5.0</td>\n",
       "      <td>1</td>\n",
       "      <td>{'Accessibility': ['Wheelchair accessible entr...</td>\n",
       "      <td>Florida</td>\n",
       "    </tr>\n",
       "    <tr>\n",
       "      <th>32</th>\n",
       "      <td>Hot Box</td>\n",
       "      <td>Hot Box, 1-99 Kinkaid St, Pensacola, FL 32507</td>\n",
       "      <td>0x8890b9241e704667:0x3a1e565c17c00993</td>\n",
       "      <td>30.391411</td>\n",
       "      <td>-87.267220</td>\n",
       "      <td>Restaurant</td>\n",
       "      <td>4.2</td>\n",
       "      <td>5</td>\n",
       "      <td>{'Accessibility': None, 'Activities': None, 'A...</td>\n",
       "      <td>Florida</td>\n",
       "    </tr>\n",
       "    <tr>\n",
       "      <th>45</th>\n",
       "      <td>Gormley's on the river | Modern cuisine in his...</td>\n",
       "      <td>Gormley's on the river | Modern cuisine in his...</td>\n",
       "      <td>0x8894b5a7a7909725:0xe4687299fd288188</td>\n",
       "      <td>29.726949</td>\n",
       "      <td>-84.981535</td>\n",
       "      <td>Restaurant</td>\n",
       "      <td>4.3</td>\n",
       "      <td>17</td>\n",
       "      <td>{'Accessibility': None, 'Activities': None, 'A...</td>\n",
       "      <td>Florida</td>\n",
       "    </tr>\n",
       "    <tr>\n",
       "      <th>49</th>\n",
       "      <td>Shell</td>\n",
       "      <td>Shell, 15877 E, FL-40, Silver Springs, FL 34488</td>\n",
       "      <td>0x88e635378f43352f:0xa1b53c63436fa428</td>\n",
       "      <td>29.183272</td>\n",
       "      <td>-81.889965</td>\n",
       "      <td>Restaurant</td>\n",
       "      <td>1.8</td>\n",
       "      <td>5</td>\n",
       "      <td>{'Accessibility': ['Wheelchair accessible entr...</td>\n",
       "      <td>Florida</td>\n",
       "    </tr>\n",
       "  </tbody>\n",
       "</table>\n",
       "</div>"
      ],
      "text/plain": [
       "                                                 name   \n",
       "5                                  Cape Seafood Shack  \\\n",
       "32                                            Hot Box   \n",
       "45  Gormley's on the river | Modern cuisine in his...   \n",
       "49                                              Shell   \n",
       "\n",
       "                                              address   \n",
       "5   Cape Seafood Shack, 603 Del Prado Blvd S, Cape...  \\\n",
       "32      Hot Box, 1-99 Kinkaid St, Pensacola, FL 32507   \n",
       "45  Gormley's on the river | Modern cuisine in his...   \n",
       "49    Shell, 15877 E, FL-40, Silver Springs, FL 34488   \n",
       "\n",
       "                                  gmap_id   latitude  longitude    category   \n",
       "5   0x88db4147b1d9e6f3:0x943dbd10a92ba1b1  26.641377 -81.940545  Restaurant  \\\n",
       "32  0x8890b9241e704667:0x3a1e565c17c00993  30.391411 -87.267220  Restaurant   \n",
       "45  0x8894b5a7a7909725:0xe4687299fd288188  29.726949 -84.981535  Restaurant   \n",
       "49  0x88e635378f43352f:0xa1b53c63436fa428  29.183272 -81.889965  Restaurant   \n",
       "\n",
       "    avg_rating  num_of_reviews   \n",
       "5          5.0               1  \\\n",
       "32         4.2               5   \n",
       "45         4.3              17   \n",
       "49         1.8               5   \n",
       "\n",
       "                                                 MISC    state  \n",
       "5   {'Accessibility': ['Wheelchair accessible entr...  Florida  \n",
       "32  {'Accessibility': None, 'Activities': None, 'A...  Florida  \n",
       "45  {'Accessibility': None, 'Activities': None, 'A...  Florida  \n",
       "49  {'Accessibility': ['Wheelchair accessible entr...  Florida  "
      ]
     },
     "execution_count": 21,
     "metadata": {},
     "output_type": "execute_result"
    }
   ],
   "source": [
    "sitios['category'] = sitios['category'].apply(replace_categories)\n",
    "sitios = sitios[sitios['category'] != '']\n",
    "sitios.head(4)"
   ]
  },
  {
   "cell_type": "code",
   "execution_count": 22,
   "metadata": {},
   "outputs": [
    {
     "data": {
      "text/plain": [
       "4.262857528332433"
      ]
     },
     "execution_count": 22,
     "metadata": {},
     "output_type": "execute_result"
    }
   ],
   "source": [
    "sitios['avg_rating'].mean()"
   ]
  },
  {
   "cell_type": "code",
   "execution_count": 23,
   "metadata": {},
   "outputs": [
    {
     "data": {
      "text/plain": [
       "(array([0, 1, 2, 3, 4, 5, 6, 7, 8, 9]),\n",
       " [Text(0, 0, 'Restaurant'),\n",
       "  Text(1, 0, 'Mexican restaurant'),\n",
       "  Text(2, 0, 'American restaurant'),\n",
       "  Text(3, 0, 'Pizza restaurant'),\n",
       "  Text(4, 0, 'Seafood restaurant'),\n",
       "  Text(5, 0, 'Cuban restaurant'),\n",
       "  Text(6, 0, 'Italian restaurant'),\n",
       "  Text(7, 0, 'Fast food restaurant'),\n",
       "  Text(8, 0, 'Bar & grill'),\n",
       "  Text(9, 0, 'Barbecue restaurant')])"
      ]
     },
     "execution_count": 23,
     "metadata": {},
     "output_type": "execute_result"
    },
    {
     "data": {
      "image/png": "[encoded data removed]",
      "text/plain": [
       "<Figure size 640x480 with 1 Axes>"
      ]
     },
     "metadata": {},
     "output_type": "display_data"
    }
   ],
   "source": [
    "sns.boxplot(x='category',y='avg_rating',data=sitios)\n",
    "plt.xticks(rotation=90)"
   ]
  },
  {
   "cell_type": "markdown",
   "metadata": {},
   "source": [
    "Podemos ver una media levemente mayor en los restaurants de comida típica de algún país y de barbecue.  \n",
    "Teniendo en cuenta esto, la evolución analizada anteriormente y el target al que apunta a nuestro cliente el objetivo de este kpi será tener una media de reseñas con un rating mayo a 4.3."
   ]
  },
  {
   "cell_type": "markdown",
   "metadata": {},
   "source": [
    "### KPI 2 -Cantidad de reseñas del local en el último año"
   ]
  },
  {
   "cell_type": "code",
   "execution_count": 24,
   "metadata": {},
   "outputs": [
    {
     "data": {
      "text/plain": [
       "Text(0.5, 1.0, 'Avg_rating vs num_of_reviews (Histórico)')"
      ]
     },
     "execution_count": 24,
     "metadata": {},
     "output_type": "execute_result"
    },
    {
     "data": {
      "image/png": "[encoded data removed]",
      "text/plain": [
       "<Figure size 640x480 with 1 Axes>"
      ]
     },
     "metadata": {},
     "output_type": "display_data"
    }
   ],
   "source": [
    "sns.scatterplot(x='num_of_reviews', y='avg_rating', data=sitios, marker='o', color='b')\n",
    "plt.title('Avg_rating vs num_of_reviews (Histórico)')"
   ]
  },
  {
   "cell_type": "markdown",
   "metadata": {},
   "source": [
    "Cómo podemos ver a partir del gráfico anterior, existe una relación entre la cantidad de clientes que dejan ratings y los ratings promedio. Probablemente tenga que ver con que los altos promedios atraen más clientes"
   ]
  },
  {
   "cell_type": "code",
   "execution_count": 25,
   "metadata": {},
   "outputs": [
    {
     "data": {
      "text/plain": [
       "Text(0.5, 1.0, 'Avg_rating vs num_of_reviews (2020)')"
      ]
     },
     "execution_count": 25,
     "metadata": {},
     "output_type": "execute_result"
    },
    {
     "data": {
      "image/png": "[encoded data removed]",
      "text/plain": [
       "<Figure size 640x480 with 1 Axes>"
      ]
     },
     "metadata": {},
     "output_type": "display_data"
    }
   ],
   "source": [
    "aux = reviews_final[reviews_final['year']==2020].groupby('gmap_id').agg({'rating': 'mean', 'user_id': 'count'}).reset_index()\n",
    "aux.rename(columns={'user_id': 'cantidad'}, inplace=True)\n",
    "sns.scatterplot(x='cantidad', y='rating', data=aux, marker='o', color='b')\n",
    "plt.title('Avg_rating vs num_of_reviews (2020)')"
   ]
  },
  {
   "cell_type": "code",
   "execution_count": 26,
   "metadata": {},
   "outputs": [
    {
     "name": "stdout",
     "output_type": "stream",
     "text": [
      "La media de cantidad reseñas de los restaurants con más 4 como promedio de ratings es de 47.0050107372942\n"
     ]
    }
   ],
   "source": [
    "print('La media de cantidad reseñas de los restaurants con más 4 como promedio de ratings es de', aux[aux['rating']>4]['cantidad'].mean())"
   ]
  },
  {
   "cell_type": "markdown",
   "metadata": {},
   "source": [
    "Por otro lado, analizando durante el período 2020 y teniendo en cuenta que la media de cantidad de reseñas en el 2020 para restaurants con puntuacion es de 47, apuntaremos como objetivo recibir un mínimo de 50 reseñas anuales. Este objetivo a medida que el negocio crezca se podría ir revisando"
   ]
  },
  {
   "cell_type": "markdown",
   "metadata": {},
   "source": [
    "### KPI 3 - Customer Satisfaction Score (CSAT)\n",
    "Es un indicador que se utiliza para calcular el porcentaje de clientes satisfechos con tu marca y con la experiencia que brinda tu empresa en diferentes momentos. Se consideran como satisfechos aquellas puntuaciones con 4 y 5 estrellas\n"
   ]
  },
  {
   "cell_type": "code",
   "execution_count": 27,
   "metadata": {},
   "outputs": [],
   "source": [
    "\n",
    "reviews_final.reset_index(drop=True,inplace=True)\n",
    "def calcular_nueva_columna(valor):\n",
    "    if valor >= 4:\n",
    "        return 1\n",
    "    else:\n",
    "        return 0\n",
    "\n",
    "# Aplicar la función a la columna 'valor' para crear 'nueva_columna'\n",
    "reviews_final['Rating_Satif'] = reviews_final['rating'].apply(calcular_nueva_columna)\n",
    "\n"
   ]
  },
  {
   "cell_type": "code",
   "execution_count": 28,
   "metadata": {},
   "outputs": [
    {
     "name": "stdout",
     "output_type": "stream",
     "text": [
      "Media de CSAT de 85.30908939417202 y mediana de  90.0\n"
     ]
    }
   ],
   "source": [
    "aux2 = reviews_final[reviews_final['year']==2020].groupby('gmap_id').agg({'Rating_Satif': 'sum', 'name': 'count'}).reset_index()\n",
    "aux2.rename(columns={'name': 'cantidad'}, inplace=True)\n",
    "aux2['CSAT'] = 100*aux2['Rating_Satif']/aux2['cantidad']\n",
    "print('Media de CSAT de', aux2['CSAT'].mean(),'y mediana de ',aux2['CSAT'].median())"
   ]
  },
  {
   "cell_type": "code",
   "execution_count": 29,
   "metadata": {},
   "outputs": [
    {
     "data": {
      "text/plain": [
       "<Axes: xlabel='CSAT', ylabel='Count'>"
      ]
     },
     "execution_count": 29,
     "metadata": {},
     "output_type": "execute_result"
    },
    {
     "data": {
      "image/png": "[encoded data removed]",
      "text/plain": [
       "<Figure size 640x480 with 1 Axes>"
      ]
     },
     "metadata": {},
     "output_type": "display_data"
    }
   ],
   "source": [
    "sns.histplot(x='CSAT',data=aux2, bins = 20)"
   ]
  },
  {
   "cell_type": "markdown",
   "metadata": {},
   "source": [
    "Analizando la media, mediana y distribución de los CSAT de los restaurants durante el año 2020, proponemos como objetivo para el KPI un valor mínimo del 90 %"
   ]
  },
  {
   "cell_type": "markdown",
   "metadata": {},
   "source": [
    "### KPI 4 - Porcentaje de reseñas negativas\n",
    "Es un indicador que se utiliza para calcular el porcentaje de clientes no satisfechos con tu marca y con la experiencia que brinda tu empresa en diferentes momentos. Se consideran como no satisfechos aquellas puntuaciones con 1 y 2 estrellas\n"
   ]
  },
  {
   "cell_type": "code",
   "execution_count": 30,
   "metadata": {},
   "outputs": [
    {
     "name": "stdout",
     "output_type": "stream",
     "text": [
      "Media de Rneg de 8.37141599703419 y mediana de  2.6819096922634458\n"
     ]
    }
   ],
   "source": [
    "def res_neg(valor):\n",
    "    if valor <=2:\n",
    "        return 1\n",
    "    else:\n",
    "        return 0\n",
    "reviews_final['res_neg'] = reviews_final['rating'].apply(res_neg)\n",
    "aux3 = reviews_final[reviews_final['year']==2020].groupby('gmap_id').agg({'res_neg': 'sum', 'name': 'count'}).reset_index()\n",
    "aux3.rename(columns={'name': 'cantidad'}, inplace=True)\n",
    "aux3['Rneg'] = 100*aux3['res_neg']/aux3['cantidad']\n",
    "print('Media de Rneg de', aux3['Rneg'].mean(),'y mediana de ',aux3['Rneg'].median())"
   ]
  },
  {
   "cell_type": "code",
   "execution_count": 31,
   "metadata": {},
   "outputs": [
    {
     "data": {
      "text/plain": [
       "<Axes: xlabel='Rneg', ylabel='Count'>"
      ]
     },
     "execution_count": 31,
     "metadata": {},
     "output_type": "execute_result"
    },
    {
     "data": {
      "image/png": "[encoded data removed]",
      "text/plain": [
       "<Figure size 640x480 with 1 Axes>"
      ]
     },
     "metadata": {},
     "output_type": "display_data"
    }
   ],
   "source": [
    "sns.histplot(x='Rneg',data=aux3, bins = 20)"
   ]
  },
  {
   "cell_type": "markdown",
   "metadata": {},
   "source": [
    "Analizando la media, mediana y distribución de los Rneg de los restaurants durante el año 2020, proponemos como objetivo para el KPI un valor máximo del 5 %"
   ]
  },
  {
   "cell_type": "markdown",
   "metadata": {},
   "source": [
    "### KPI 5 - Tasa de Repetición de clientes"
   ]
  },
  {
   "cell_type": "code",
   "execution_count": 32,
   "metadata": {},
   "outputs": [
    {
     "data": {
      "text/html": [
       "<div>\n",
       "<style scoped>\n",
       "    .dataframe tbody tr th:only-of-type {\n",
       "        vertical-align: middle;\n",
       "    }\n",
       "\n",
       "    .dataframe tbody tr th {\n",
       "        vertical-align: top;\n",
       "    }\n",
       "\n",
       "    .dataframe thead th {\n",
       "        text-align: right;\n",
       "    }\n",
       "</style>\n",
       "<table border=\"1\" class=\"dataframe\">\n",
       "  <thead>\n",
       "    <tr style=\"text-align: right;\">\n",
       "      <th></th>\n",
       "      <th>gmap_id</th>\n",
       "      <th>num_of_reviews</th>\n",
       "    </tr>\n",
       "  </thead>\n",
       "  <tbody>\n",
       "    <tr>\n",
       "      <th>98289</th>\n",
       "      <td>0x88e4279668c1a2f1:0x8c1cd12f09764aeb</td>\n",
       "      <td>8116</td>\n",
       "    </tr>\n",
       "    <tr>\n",
       "      <th>93598</th>\n",
       "      <td>0x8890a84997a3ca01:0xb5c7b6fa2bbf6d9e</td>\n",
       "      <td>7471</td>\n",
       "    </tr>\n",
       "    <tr>\n",
       "      <th>91920</th>\n",
       "      <td>0x88d9ac593d9be06d:0x7571ded5edc4f9ba</td>\n",
       "      <td>6882</td>\n",
       "    </tr>\n",
       "    <tr>\n",
       "      <th>97071</th>\n",
       "      <td>0x8890c63dae1c2e73:0x1482c825e7f0d0ae</td>\n",
       "      <td>6398</td>\n",
       "    </tr>\n",
       "    <tr>\n",
       "      <th>91050</th>\n",
       "      <td>0x88d9b4f10e788681:0x7a7c53c1c75a3ceb</td>\n",
       "      <td>6388</td>\n",
       "    </tr>\n",
       "    <tr>\n",
       "      <th>...</th>\n",
       "      <td>...</td>\n",
       "      <td>...</td>\n",
       "    </tr>\n",
       "    <tr>\n",
       "      <th>4341</th>\n",
       "      <td>0x88d9b7745695a6a1:0x74e8bbc512964d02</td>\n",
       "      <td>1</td>\n",
       "    </tr>\n",
       "    <tr>\n",
       "      <th>25846</th>\n",
       "      <td>0x88e5b7f1971dc6ff:0x8c600adf29d89c82</td>\n",
       "      <td>1</td>\n",
       "    </tr>\n",
       "    <tr>\n",
       "      <th>25614</th>\n",
       "      <td>0x885318fdfc7c4a0b:0x684306c9c468cf3e</td>\n",
       "      <td>1</td>\n",
       "    </tr>\n",
       "    <tr>\n",
       "      <th>25332</th>\n",
       "      <td>0x88db57a14cac3007:0x4b5a6e7c0450b86b</td>\n",
       "      <td>1</td>\n",
       "    </tr>\n",
       "    <tr>\n",
       "      <th>5</th>\n",
       "      <td>0x88db4147b1d9e6f3:0x943dbd10a92ba1b1</td>\n",
       "      <td>1</td>\n",
       "    </tr>\n",
       "  </tbody>\n",
       "</table>\n",
       "<p>7412 rows × 2 columns</p>\n",
       "</div>"
      ],
      "text/plain": [
       "                                     gmap_id  num_of_reviews\n",
       "98289  0x88e4279668c1a2f1:0x8c1cd12f09764aeb            8116\n",
       "93598  0x8890a84997a3ca01:0xb5c7b6fa2bbf6d9e            7471\n",
       "91920  0x88d9ac593d9be06d:0x7571ded5edc4f9ba            6882\n",
       "97071  0x8890c63dae1c2e73:0x1482c825e7f0d0ae            6398\n",
       "91050  0x88d9b4f10e788681:0x7a7c53c1c75a3ceb            6388\n",
       "...                                      ...             ...\n",
       "4341   0x88d9b7745695a6a1:0x74e8bbc512964d02               1\n",
       "25846  0x88e5b7f1971dc6ff:0x8c600adf29d89c82               1\n",
       "25614  0x885318fdfc7c4a0b:0x684306c9c468cf3e               1\n",
       "25332  0x88db57a14cac3007:0x4b5a6e7c0450b86b               1\n",
       "5      0x88db4147b1d9e6f3:0x943dbd10a92ba1b1               1\n",
       "\n",
       "[7412 rows x 2 columns]"
      ]
     },
     "execution_count": 32,
     "metadata": {},
     "output_type": "execute_result"
    }
   ],
   "source": [
    "sitios[['gmap_id','num_of_reviews']].sort_values(by='num_of_reviews',ascending = False)"
   ]
  },
  {
   "cell_type": "markdown",
   "metadata": {},
   "source": [
    "reviews_final[reviews_final['gmap_id']=='0x88e4279668c1a2f1:0x8c1cd12f09764aeb']"
   ]
  },
  {
   "cell_type": "code",
   "execution_count": 33,
   "metadata": {},
   "outputs": [
    {
     "data": {
      "text/plain": [
       "356483    107678765385838856248\n",
       "356484    105448452003051661659\n",
       "356485    103456250441241108592\n",
       "356486    112862527410693501595\n",
       "356487    104699567269984599763\n",
       "                  ...          \n",
       "361392    100824042969959704136\n",
       "361393    118305769859612739413\n",
       "361394    104431457304026477902\n",
       "361395    108093635760378272633\n",
       "361396    100070244802651303881\n",
       "Name: user_id, Length: 4914, dtype: object"
      ]
     },
     "execution_count": 33,
     "metadata": {},
     "output_type": "execute_result"
    }
   ],
   "source": [
    "reviews_final[reviews_final['gmap_id']=='0x88e4279668c1a2f1:0x8c1cd12f09764aeb']['user_id']"
   ]
  },
  {
   "cell_type": "code",
   "execution_count": 34,
   "metadata": {},
   "outputs": [
    {
     "data": {
      "text/html": [
       "<div>\n",
       "<style scoped>\n",
       "    .dataframe tbody tr th:only-of-type {\n",
       "        vertical-align: middle;\n",
       "    }\n",
       "\n",
       "    .dataframe tbody tr th {\n",
       "        vertical-align: top;\n",
       "    }\n",
       "\n",
       "    .dataframe thead th {\n",
       "        text-align: right;\n",
       "    }\n",
       "</style>\n",
       "<table border=\"1\" class=\"dataframe\">\n",
       "  <thead>\n",
       "    <tr style=\"text-align: right;\">\n",
       "      <th></th>\n",
       "      <th>user_id</th>\n",
       "      <th>name</th>\n",
       "      <th>time</th>\n",
       "      <th>rating</th>\n",
       "      <th>text</th>\n",
       "      <th>pics</th>\n",
       "      <th>resp</th>\n",
       "      <th>gmap_id</th>\n",
       "      <th>state</th>\n",
       "      <th>year</th>\n",
       "      <th>category</th>\n",
       "      <th>month</th>\n",
       "      <th>Rating_Satif</th>\n",
       "      <th>res_neg</th>\n",
       "    </tr>\n",
       "  </thead>\n",
       "  <tbody>\n",
       "    <tr>\n",
       "      <th>358510</th>\n",
       "      <td>110081410709194030135</td>\n",
       "      <td>John Monteiro</td>\n",
       "      <td>2017-07-26 22:12:09.326</td>\n",
       "      <td>4</td>\n",
       "      <td>Very cool New Orleans style spot Awesome decor...</td>\n",
       "      <td>None</td>\n",
       "      <td>None</td>\n",
       "      <td>0x88e4279668c1a2f1:0x8c1cd12f09764aeb</td>\n",
       "      <td>Florida</td>\n",
       "      <td>2017</td>\n",
       "      <td>Seafood restaurant</td>\n",
       "      <td>7</td>\n",
       "      <td>1</td>\n",
       "      <td>0</td>\n",
       "    </tr>\n",
       "    <tr>\n",
       "      <th>358521</th>\n",
       "      <td>110081410709194030135</td>\n",
       "      <td>John Monteiro</td>\n",
       "      <td>2017-07-26 22:12:09.326</td>\n",
       "      <td>4</td>\n",
       "      <td>Very cool New Orleans style spot Awesome decor...</td>\n",
       "      <td>None</td>\n",
       "      <td>None</td>\n",
       "      <td>0x88e4279668c1a2f1:0x8c1cd12f09764aeb</td>\n",
       "      <td>Florida</td>\n",
       "      <td>2017</td>\n",
       "      <td>Seafood restaurant</td>\n",
       "      <td>7</td>\n",
       "      <td>1</td>\n",
       "      <td>0</td>\n",
       "    </tr>\n",
       "    <tr>\n",
       "      <th>358600</th>\n",
       "      <td>110081410709194030135</td>\n",
       "      <td>John Monteiro</td>\n",
       "      <td>2017-07-26 22:12:09.326</td>\n",
       "      <td>4</td>\n",
       "      <td>Very cool New Orleans style spot Awesome decor...</td>\n",
       "      <td>None</td>\n",
       "      <td>None</td>\n",
       "      <td>0x88e4279668c1a2f1:0x8c1cd12f09764aeb</td>\n",
       "      <td>Florida</td>\n",
       "      <td>2017</td>\n",
       "      <td>Seafood restaurant</td>\n",
       "      <td>7</td>\n",
       "      <td>1</td>\n",
       "      <td>0</td>\n",
       "    </tr>\n",
       "  </tbody>\n",
       "</table>\n",
       "</div>"
      ],
      "text/plain": [
       "                      user_id           name                    time  rating   \n",
       "358510  110081410709194030135  John Monteiro 2017-07-26 22:12:09.326       4  \\\n",
       "358521  110081410709194030135  John Monteiro 2017-07-26 22:12:09.326       4   \n",
       "358600  110081410709194030135  John Monteiro 2017-07-26 22:12:09.326       4   \n",
       "\n",
       "                                                     text  pics  resp   \n",
       "358510  Very cool New Orleans style spot Awesome decor...  None  None  \\\n",
       "358521  Very cool New Orleans style spot Awesome decor...  None  None   \n",
       "358600  Very cool New Orleans style spot Awesome decor...  None  None   \n",
       "\n",
       "                                      gmap_id    state  year   \n",
       "358510  0x88e4279668c1a2f1:0x8c1cd12f09764aeb  Florida  2017  \\\n",
       "358521  0x88e4279668c1a2f1:0x8c1cd12f09764aeb  Florida  2017   \n",
       "358600  0x88e4279668c1a2f1:0x8c1cd12f09764aeb  Florida  2017   \n",
       "\n",
       "                  category  month  Rating_Satif  res_neg  \n",
       "358510  Seafood restaurant      7             1        0  \n",
       "358521  Seafood restaurant      7             1        0  \n",
       "358600  Seafood restaurant      7             1        0  "
      ]
     },
     "execution_count": 34,
     "metadata": {},
     "output_type": "execute_result"
    }
   ],
   "source": [
    "reviews_final[(reviews_final['gmap_id']=='0x88e4279668c1a2f1:0x8c1cd12f09764aeb')& (reviews_final['user_id'] == '110081410709194030135')]"
   ]
  },
  {
   "cell_type": "markdown",
   "metadata": {},
   "source": [
    "Analizando, vemos que este KPI no nos servirá ya que no existen casos de clientes con más de 1 reseña. Probablemente sea porque no está permitido subir más de una reseña o porque de la API se descarga solo la última reseña"
   ]
  },
  {
   "cell_type": "markdown",
   "metadata": {},
   "source": [
    "### KPI 6 - Porcentaje de respuestas a reseñas negativas\n",
    "Es un indicador que se utiliza para calcular el porcentaje de respuestas que se dieron a reseñas negativas. Si bien \n"
   ]
  },
  {
   "cell_type": "code",
   "execution_count": 35,
   "metadata": {},
   "outputs": [
    {
     "name": "stdout",
     "output_type": "stream",
     "text": [
      "Media de Rneg de 22.181235630264695 y mediana de  0.0\n"
     ]
    }
   ],
   "source": [
    "def notnones(valor):\n",
    "    if pd.isna(valor):\n",
    "        return 0\n",
    "    else:\n",
    "        return 1\n",
    "reviews_final['Con_resp'] = reviews_final['resp'].apply(notnones)\n",
    "\n",
    "\n",
    "aux4 = reviews_final[(reviews_final['year']==2020)&(reviews_final['res_neg']==1)].groupby('gmap_id').agg({'Con_resp': 'sum', 'name': 'count'}).reset_index()\n",
    "\n",
    "\n",
    "aux4.rename(columns={'name': 'cantidad'}, inplace=True)\n",
    "aux4['%Resp'] = 100*aux4['Con_resp']/aux4['cantidad']\n",
    "print('Media de Rneg de', aux4['%Resp'].mean(),'y mediana de ',aux4['%Resp'].median())\n"
   ]
  },
  {
   "cell_type": "code",
   "execution_count": 36,
   "metadata": {},
   "outputs": [
    {
     "name": "stdout",
     "output_type": "stream",
     "text": [
      "<class 'pandas.core.frame.DataFrame'>\n",
      "RangeIndex: 903 entries, 0 to 902\n",
      "Data columns (total 4 columns):\n",
      " #   Column    Non-Null Count  Dtype  \n",
      "---  ------    --------------  -----  \n",
      " 0   gmap_id   903 non-null    object \n",
      " 1   Con_resp  903 non-null    int64  \n",
      " 2   cantidad  903 non-null    int64  \n",
      " 3   %Resp     903 non-null    float64\n",
      "dtypes: float64(1), int64(2), object(1)\n",
      "memory usage: 28.3+ KB\n"
     ]
    }
   ],
   "source": [
    "aux4.info()"
   ]
  }
 ],
 "metadata": {
  "kernelspec": {
   "display_name": "Python 3",
   "language": "python",
   "name": "python3"
  },
  "language_info": {
   "codemirror_mode": {
    "name": "ipython",
    "version": 3
   },
   "file_extension": ".py",
   "mimetype": "text/x-python",
   "name": "python",
   "nbconvert_exporter": "python",
   "pygments_lexer": "ipython3",
   "version": "3.11.1"
  },
  "orig_nbformat": 4
 },
 "nbformat": 4,
 "nbformat_minor": 2
}
