{
 "cells": [
  {
   "cell_type": "markdown",
   "metadata": {},
   "source": [
    "## **Dataset de Google Maps - Sitios**"
   ]
  },
  {
   "cell_type": "markdown",
   "metadata": {},
   "source": [
    "Definimos un proceso eficiente para lidiar con la información de 11 archivos de establecimientos. Cargamos la mitad en un DataFrame y luego la otra mitad en otro para un procesamiento más rápido. Luego, unificamos los DataFrames para un análisis completo. Este enfoque optimizado mejora la velocidad y el uso de recursos, lo que nos permite obtener una visión global de los datos."
   ]
  },
  {
   "cell_type": "code",
   "execution_count": 3,
   "metadata": {},
   "outputs": [],
   "source": [
    "import json\n",
    "import os\n",
    "import pandas as pd\n",
    "import matplotlib.pyplot as plt\n",
    "import numpy as np\n",
    "import seaborn as sns\n",
    "import math\n",
    "import plotly.express as px"
   ]
  },
  {
   "cell_type": "code",
   "execution_count": 5,
   "metadata": {},
   "outputs": [],
   "source": [
    "data_folder = 'Dataset de Google Maps\\\\metadata.sitios\\\\metadata.sitios'\n",
    "file_names_to_read = ['1.json', '2.json', '3.json', '4.json', '5.json', '6.json']\n",
    "rows = []\n",
    "\n",
    "for filename in file_names_to_read:\n",
    "    file_path = os.path.join(data_folder, filename)\n",
    "    with open(file_path) as f:\n",
    "        for line in f:\n",
    "            try:\n",
    "                data = json.loads(line)\n",
    "                rows.append(data)\n",
    "            except json.JSONDecodeError as e:\n",
    "                print(f\"Error decoding JSON in {filename}: {e}\")\n",
    "\n",
    "data_sitios1 = pd.DataFrame(rows)"
   ]
  },
  {
   "cell_type": "code",
   "execution_count": 6,
   "metadata": {},
   "outputs": [],
   "source": [
    "data_folder = 'Dataset de Google Maps\\\\metadata.sitios\\\\metadata.sitios'\n",
    "file_names_to_read = ['7.json', '8.json', '9.json', '10.json', '11.json']\n",
    "rows = []\n",
    "\n",
    "for filename in file_names_to_read:\n",
    "    file_path = os.path.join(data_folder, filename)\n",
    "    with open(file_path) as f:\n",
    "        for line in f:\n",
    "            try:\n",
    "                data = json.loads(line)\n",
    "                rows.append(data)\n",
    "            except json.JSONDecodeError as e:\n",
    "                print(f\"Error decoding JSON in {filename}: {e}\")\n",
    "\n",
    "data_sitios2 = pd.DataFrame(rows)"
   ]
  },
  {
   "cell_type": "markdown",
   "metadata": {},
   "source": [
    "Unificar los df"
   ]
  },
  {
   "cell_type": "code",
   "execution_count": 7,
   "metadata": {},
   "outputs": [],
   "source": [
    "data_sitios = pd.concat([data_sitios1, data_sitios2], ignore_index=True)"
   ]
  },
  {
   "cell_type": "markdown",
   "metadata": {},
   "source": [
    "---"
   ]
  },
  {
   "cell_type": "code",
   "execution_count": 8,
   "metadata": {},
   "outputs": [
    {
     "name": "stdout",
     "output_type": "stream",
     "text": [
      "<class 'pandas.core.frame.DataFrame'>\n",
      "RangeIndex: 3025011 entries, 0 to 3025010\n",
      "Data columns (total 15 columns):\n",
      " #   Column            Dtype  \n",
      "---  ------            -----  \n",
      " 0   name              object \n",
      " 1   address           object \n",
      " 2   gmap_id           object \n",
      " 3   description       object \n",
      " 4   latitude          float64\n",
      " 5   longitude         float64\n",
      " 6   category          object \n",
      " 7   avg_rating        float64\n",
      " 8   num_of_reviews    int64  \n",
      " 9   price             object \n",
      " 10  hours             object \n",
      " 11  MISC              object \n",
      " 12  state             object \n",
      " 13  relative_results  object \n",
      " 14  url               object \n",
      "dtypes: float64(3), int64(1), object(11)\n",
      "memory usage: 346.2+ MB\n"
     ]
    }
   ],
   "source": [
    "data_sitios.info()"
   ]
  },
  {
   "cell_type": "code",
   "execution_count": 10,
   "metadata": {},
   "outputs": [
    {
     "data": {
      "text/html": [
       "<div>\n",
       "<style scoped>\n",
       "    .dataframe tbody tr th:only-of-type {\n",
       "        vertical-align: middle;\n",
       "    }\n",
       "\n",
       "    .dataframe tbody tr th {\n",
       "        vertical-align: top;\n",
       "    }\n",
       "\n",
       "    .dataframe thead th {\n",
       "        text-align: right;\n",
       "    }\n",
       "</style>\n",
       "<table border=\"1\" class=\"dataframe\">\n",
       "  <thead>\n",
       "    <tr style=\"text-align: right;\">\n",
       "      <th></th>\n",
       "      <th>name</th>\n",
       "      <th>address</th>\n",
       "      <th>gmap_id</th>\n",
       "      <th>description</th>\n",
       "      <th>latitude</th>\n",
       "      <th>longitude</th>\n",
       "      <th>category</th>\n",
       "      <th>avg_rating</th>\n",
       "      <th>num_of_reviews</th>\n",
       "      <th>price</th>\n",
       "      <th>hours</th>\n",
       "      <th>MISC</th>\n",
       "      <th>state</th>\n",
       "      <th>relative_results</th>\n",
       "      <th>url</th>\n",
       "    </tr>\n",
       "  </thead>\n",
       "  <tbody>\n",
       "    <tr>\n",
       "      <th>0</th>\n",
       "      <td>Porter Pharmacy</td>\n",
       "      <td>Porter Pharmacy, 129 N Second St, Cochran, GA ...</td>\n",
       "      <td>0x88f16e41928ff687:0x883dad4fd048e8f8</td>\n",
       "      <td>None</td>\n",
       "      <td>32.388300</td>\n",
       "      <td>-83.357100</td>\n",
       "      <td>[Pharmacy]</td>\n",
       "      <td>4.9</td>\n",
       "      <td>16</td>\n",
       "      <td>None</td>\n",
       "      <td>[[Friday, 8AM–6PM], [Saturday, 8AM–12PM], [Sun...</td>\n",
       "      <td>{'Service options': ['In-store shopping', 'Sam...</td>\n",
       "      <td>Open ⋅ Closes 6PM</td>\n",
       "      <td>[0x88f16e41929435cf:0x5b2532a2885e9ef6, 0x88f1...</td>\n",
       "      <td>https://www.google.com/maps/place//data=!4m2!3...</td>\n",
       "    </tr>\n",
       "    <tr>\n",
       "      <th>1</th>\n",
       "      <td>City Textile</td>\n",
       "      <td>City Textile, 3001 E Pico Blvd, Los Angeles, C...</td>\n",
       "      <td>0x80c2c98c0e3c16fd:0x29ec8a728764fdf9</td>\n",
       "      <td>None</td>\n",
       "      <td>34.018891</td>\n",
       "      <td>-118.215290</td>\n",
       "      <td>[Textile exporter]</td>\n",
       "      <td>4.5</td>\n",
       "      <td>6</td>\n",
       "      <td>None</td>\n",
       "      <td>None</td>\n",
       "      <td>None</td>\n",
       "      <td>Open now</td>\n",
       "      <td>[0x80c2c624136ea88b:0xb0315367ed448771, 0x80c2...</td>\n",
       "      <td>https://www.google.com/maps/place//data=!4m2!3...</td>\n",
       "    </tr>\n",
       "    <tr>\n",
       "      <th>2</th>\n",
       "      <td>San Soo Dang</td>\n",
       "      <td>San Soo Dang, 761 S Vermont Ave, Los Angeles, ...</td>\n",
       "      <td>0x80c2c778e3b73d33:0xbdc58662a4a97d49</td>\n",
       "      <td>None</td>\n",
       "      <td>34.058092</td>\n",
       "      <td>-118.292130</td>\n",
       "      <td>[Korean restaurant]</td>\n",
       "      <td>4.4</td>\n",
       "      <td>18</td>\n",
       "      <td>None</td>\n",
       "      <td>[[Thursday, 6:30AM–6PM], [Friday, 6:30AM–6PM],...</td>\n",
       "      <td>{'Service options': ['Takeout', 'Dine-in', 'De...</td>\n",
       "      <td>Open ⋅ Closes 6PM</td>\n",
       "      <td>[0x80c2c78249aba68f:0x35bf16ce61be751d, 0x80c2...</td>\n",
       "      <td>https://www.google.com/maps/place//data=!4m2!3...</td>\n",
       "    </tr>\n",
       "    <tr>\n",
       "      <th>3</th>\n",
       "      <td>Nova Fabrics</td>\n",
       "      <td>Nova Fabrics, 2200 E 11th St, Los Angeles, CA ...</td>\n",
       "      <td>0x80c2c89923b27a41:0x32041559418d447</td>\n",
       "      <td>None</td>\n",
       "      <td>34.023669</td>\n",
       "      <td>-118.232930</td>\n",
       "      <td>[Fabric store]</td>\n",
       "      <td>3.3</td>\n",
       "      <td>6</td>\n",
       "      <td>None</td>\n",
       "      <td>[[Thursday, 9AM–5PM], [Friday, 9AM–5PM], [Satu...</td>\n",
       "      <td>{'Service options': ['In-store shopping'], 'Pa...</td>\n",
       "      <td>Open ⋅ Closes 5PM</td>\n",
       "      <td>[0x80c2c8811477253f:0x23a8a492df1918f7, 0x80c2...</td>\n",
       "      <td>https://www.google.com/maps/place//data=!4m2!3...</td>\n",
       "    </tr>\n",
       "    <tr>\n",
       "      <th>4</th>\n",
       "      <td>Nobel Textile Co</td>\n",
       "      <td>Nobel Textile Co, 719 E 9th St, Los Angeles, C...</td>\n",
       "      <td>0x80c2c632f933b073:0xc31785961fe826a6</td>\n",
       "      <td>None</td>\n",
       "      <td>34.036694</td>\n",
       "      <td>-118.249421</td>\n",
       "      <td>[Fabric store]</td>\n",
       "      <td>4.3</td>\n",
       "      <td>7</td>\n",
       "      <td>None</td>\n",
       "      <td>[[Thursday, 9AM–5PM], [Friday, 9AM–5PM], [Satu...</td>\n",
       "      <td>{'Service options': ['In-store pickup']}</td>\n",
       "      <td>Open ⋅ Closes 5PM</td>\n",
       "      <td>[0x80c2c62c496083d1:0xdefa11317fe870a1, 0x80c2...</td>\n",
       "      <td>https://www.google.com/maps/place//data=!4m2!3...</td>\n",
       "    </tr>\n",
       "  </tbody>\n",
       "</table>\n",
       "</div>"
      ],
      "text/plain": [
       "               name                                            address   \n",
       "0   Porter Pharmacy  Porter Pharmacy, 129 N Second St, Cochran, GA ...  \\\n",
       "1      City Textile  City Textile, 3001 E Pico Blvd, Los Angeles, C...   \n",
       "2      San Soo Dang  San Soo Dang, 761 S Vermont Ave, Los Angeles, ...   \n",
       "3      Nova Fabrics  Nova Fabrics, 2200 E 11th St, Los Angeles, CA ...   \n",
       "4  Nobel Textile Co  Nobel Textile Co, 719 E 9th St, Los Angeles, C...   \n",
       "\n",
       "                                 gmap_id description   latitude   longitude   \n",
       "0  0x88f16e41928ff687:0x883dad4fd048e8f8        None  32.388300  -83.357100  \\\n",
       "1  0x80c2c98c0e3c16fd:0x29ec8a728764fdf9        None  34.018891 -118.215290   \n",
       "2  0x80c2c778e3b73d33:0xbdc58662a4a97d49        None  34.058092 -118.292130   \n",
       "3   0x80c2c89923b27a41:0x32041559418d447        None  34.023669 -118.232930   \n",
       "4  0x80c2c632f933b073:0xc31785961fe826a6        None  34.036694 -118.249421   \n",
       "\n",
       "              category  avg_rating  num_of_reviews price   \n",
       "0           [Pharmacy]         4.9              16  None  \\\n",
       "1   [Textile exporter]         4.5               6  None   \n",
       "2  [Korean restaurant]         4.4              18  None   \n",
       "3       [Fabric store]         3.3               6  None   \n",
       "4       [Fabric store]         4.3               7  None   \n",
       "\n",
       "                                               hours   \n",
       "0  [[Friday, 8AM–6PM], [Saturday, 8AM–12PM], [Sun...  \\\n",
       "1                                               None   \n",
       "2  [[Thursday, 6:30AM–6PM], [Friday, 6:30AM–6PM],...   \n",
       "3  [[Thursday, 9AM–5PM], [Friday, 9AM–5PM], [Satu...   \n",
       "4  [[Thursday, 9AM–5PM], [Friday, 9AM–5PM], [Satu...   \n",
       "\n",
       "                                                MISC              state   \n",
       "0  {'Service options': ['In-store shopping', 'Sam...  Open ⋅ Closes 6PM  \\\n",
       "1                                               None           Open now   \n",
       "2  {'Service options': ['Takeout', 'Dine-in', 'De...  Open ⋅ Closes 6PM   \n",
       "3  {'Service options': ['In-store shopping'], 'Pa...  Open ⋅ Closes 5PM   \n",
       "4           {'Service options': ['In-store pickup']}  Open ⋅ Closes 5PM   \n",
       "\n",
       "                                    relative_results   \n",
       "0  [0x88f16e41929435cf:0x5b2532a2885e9ef6, 0x88f1...  \\\n",
       "1  [0x80c2c624136ea88b:0xb0315367ed448771, 0x80c2...   \n",
       "2  [0x80c2c78249aba68f:0x35bf16ce61be751d, 0x80c2...   \n",
       "3  [0x80c2c8811477253f:0x23a8a492df1918f7, 0x80c2...   \n",
       "4  [0x80c2c62c496083d1:0xdefa11317fe870a1, 0x80c2...   \n",
       "\n",
       "                                                 url  \n",
       "0  https://www.google.com/maps/place//data=!4m2!3...  \n",
       "1  https://www.google.com/maps/place//data=!4m2!3...  \n",
       "2  https://www.google.com/maps/place//data=!4m2!3...  \n",
       "3  https://www.google.com/maps/place//data=!4m2!3...  \n",
       "4  https://www.google.com/maps/place//data=!4m2!3...  "
      ]
     },
     "execution_count": 10,
     "metadata": {},
     "output_type": "execute_result"
    }
   ],
   "source": [
    "data_sitios.head()"
   ]
  },
  {
   "cell_type": "markdown",
   "metadata": {},
   "source": [
    "Convertir las listas de la columna \"category\" en valores únicos separados por comas"
   ]
  },
  {
   "cell_type": "code",
   "execution_count": 10,
   "metadata": {},
   "outputs": [
    {
     "data": {
      "text/html": [
       "<div>\n",
       "<style scoped>\n",
       "    .dataframe tbody tr th:only-of-type {\n",
       "        vertical-align: middle;\n",
       "    }\n",
       "\n",
       "    .dataframe tbody tr th {\n",
       "        vertical-align: top;\n",
       "    }\n",
       "\n",
       "    .dataframe thead th {\n",
       "        text-align: right;\n",
       "    }\n",
       "</style>\n",
       "<table border=\"1\" class=\"dataframe\">\n",
       "  <thead>\n",
       "    <tr style=\"text-align: right;\">\n",
       "      <th></th>\n",
       "      <th>name</th>\n",
       "      <th>address</th>\n",
       "      <th>gmap_id</th>\n",
       "      <th>description</th>\n",
       "      <th>latitude</th>\n",
       "      <th>longitude</th>\n",
       "      <th>category</th>\n",
       "      <th>avg_rating</th>\n",
       "      <th>num_of_reviews</th>\n",
       "      <th>price</th>\n",
       "      <th>hours</th>\n",
       "      <th>MISC</th>\n",
       "      <th>state</th>\n",
       "      <th>relative_results</th>\n",
       "      <th>url</th>\n",
       "    </tr>\n",
       "  </thead>\n",
       "  <tbody>\n",
       "    <tr>\n",
       "      <th>0</th>\n",
       "      <td>Porter Pharmacy</td>\n",
       "      <td>Porter Pharmacy, 129 N Second St, Cochran, GA ...</td>\n",
       "      <td>0x88f16e41928ff687:0x883dad4fd048e8f8</td>\n",
       "      <td>None</td>\n",
       "      <td>32.388300</td>\n",
       "      <td>-83.357100</td>\n",
       "      <td>Pharmacy</td>\n",
       "      <td>4.9</td>\n",
       "      <td>16</td>\n",
       "      <td>None</td>\n",
       "      <td>[[Friday, 8AM–6PM], [Saturday, 8AM–12PM], [Sun...</td>\n",
       "      <td>{'Service options': ['In-store shopping', 'Sam...</td>\n",
       "      <td>Open ⋅ Closes 6PM</td>\n",
       "      <td>[0x88f16e41929435cf:0x5b2532a2885e9ef6, 0x88f1...</td>\n",
       "      <td>https://www.google.com/maps/place//data=!4m2!3...</td>\n",
       "    </tr>\n",
       "    <tr>\n",
       "      <th>1</th>\n",
       "      <td>City Textile</td>\n",
       "      <td>City Textile, 3001 E Pico Blvd, Los Angeles, C...</td>\n",
       "      <td>0x80c2c98c0e3c16fd:0x29ec8a728764fdf9</td>\n",
       "      <td>None</td>\n",
       "      <td>34.018891</td>\n",
       "      <td>-118.215290</td>\n",
       "      <td>Textile exporter</td>\n",
       "      <td>4.5</td>\n",
       "      <td>6</td>\n",
       "      <td>None</td>\n",
       "      <td>None</td>\n",
       "      <td>None</td>\n",
       "      <td>Open now</td>\n",
       "      <td>[0x80c2c624136ea88b:0xb0315367ed448771, 0x80c2...</td>\n",
       "      <td>https://www.google.com/maps/place//data=!4m2!3...</td>\n",
       "    </tr>\n",
       "    <tr>\n",
       "      <th>2</th>\n",
       "      <td>San Soo Dang</td>\n",
       "      <td>San Soo Dang, 761 S Vermont Ave, Los Angeles, ...</td>\n",
       "      <td>0x80c2c778e3b73d33:0xbdc58662a4a97d49</td>\n",
       "      <td>None</td>\n",
       "      <td>34.058092</td>\n",
       "      <td>-118.292130</td>\n",
       "      <td>Korean restaurant</td>\n",
       "      <td>4.4</td>\n",
       "      <td>18</td>\n",
       "      <td>None</td>\n",
       "      <td>[[Thursday, 6:30AM–6PM], [Friday, 6:30AM–6PM],...</td>\n",
       "      <td>{'Service options': ['Takeout', 'Dine-in', 'De...</td>\n",
       "      <td>Open ⋅ Closes 6PM</td>\n",
       "      <td>[0x80c2c78249aba68f:0x35bf16ce61be751d, 0x80c2...</td>\n",
       "      <td>https://www.google.com/maps/place//data=!4m2!3...</td>\n",
       "    </tr>\n",
       "    <tr>\n",
       "      <th>3</th>\n",
       "      <td>Nova Fabrics</td>\n",
       "      <td>Nova Fabrics, 2200 E 11th St, Los Angeles, CA ...</td>\n",
       "      <td>0x80c2c89923b27a41:0x32041559418d447</td>\n",
       "      <td>None</td>\n",
       "      <td>34.023669</td>\n",
       "      <td>-118.232930</td>\n",
       "      <td>Fabric store</td>\n",
       "      <td>3.3</td>\n",
       "      <td>6</td>\n",
       "      <td>None</td>\n",
       "      <td>[[Thursday, 9AM–5PM], [Friday, 9AM–5PM], [Satu...</td>\n",
       "      <td>{'Service options': ['In-store shopping'], 'Pa...</td>\n",
       "      <td>Open ⋅ Closes 5PM</td>\n",
       "      <td>[0x80c2c8811477253f:0x23a8a492df1918f7, 0x80c2...</td>\n",
       "      <td>https://www.google.com/maps/place//data=!4m2!3...</td>\n",
       "    </tr>\n",
       "    <tr>\n",
       "      <th>4</th>\n",
       "      <td>Nobel Textile Co</td>\n",
       "      <td>Nobel Textile Co, 719 E 9th St, Los Angeles, C...</td>\n",
       "      <td>0x80c2c632f933b073:0xc31785961fe826a6</td>\n",
       "      <td>None</td>\n",
       "      <td>34.036694</td>\n",
       "      <td>-118.249421</td>\n",
       "      <td>Fabric store</td>\n",
       "      <td>4.3</td>\n",
       "      <td>7</td>\n",
       "      <td>None</td>\n",
       "      <td>[[Thursday, 9AM–5PM], [Friday, 9AM–5PM], [Satu...</td>\n",
       "      <td>{'Service options': ['In-store pickup']}</td>\n",
       "      <td>Open ⋅ Closes 5PM</td>\n",
       "      <td>[0x80c2c62c496083d1:0xdefa11317fe870a1, 0x80c2...</td>\n",
       "      <td>https://www.google.com/maps/place//data=!4m2!3...</td>\n",
       "    </tr>\n",
       "  </tbody>\n",
       "</table>\n",
       "</div>"
      ],
      "text/plain": [
       "               name                                            address   \n",
       "0   Porter Pharmacy  Porter Pharmacy, 129 N Second St, Cochran, GA ...  \\\n",
       "1      City Textile  City Textile, 3001 E Pico Blvd, Los Angeles, C...   \n",
       "2      San Soo Dang  San Soo Dang, 761 S Vermont Ave, Los Angeles, ...   \n",
       "3      Nova Fabrics  Nova Fabrics, 2200 E 11th St, Los Angeles, CA ...   \n",
       "4  Nobel Textile Co  Nobel Textile Co, 719 E 9th St, Los Angeles, C...   \n",
       "\n",
       "                                 gmap_id description   latitude   longitude   \n",
       "0  0x88f16e41928ff687:0x883dad4fd048e8f8        None  32.388300  -83.357100  \\\n",
       "1  0x80c2c98c0e3c16fd:0x29ec8a728764fdf9        None  34.018891 -118.215290   \n",
       "2  0x80c2c778e3b73d33:0xbdc58662a4a97d49        None  34.058092 -118.292130   \n",
       "3   0x80c2c89923b27a41:0x32041559418d447        None  34.023669 -118.232930   \n",
       "4  0x80c2c632f933b073:0xc31785961fe826a6        None  34.036694 -118.249421   \n",
       "\n",
       "            category  avg_rating  num_of_reviews price   \n",
       "0           Pharmacy         4.9              16  None  \\\n",
       "1   Textile exporter         4.5               6  None   \n",
       "2  Korean restaurant         4.4              18  None   \n",
       "3       Fabric store         3.3               6  None   \n",
       "4       Fabric store         4.3               7  None   \n",
       "\n",
       "                                               hours   \n",
       "0  [[Friday, 8AM–6PM], [Saturday, 8AM–12PM], [Sun...  \\\n",
       "1                                               None   \n",
       "2  [[Thursday, 6:30AM–6PM], [Friday, 6:30AM–6PM],...   \n",
       "3  [[Thursday, 9AM–5PM], [Friday, 9AM–5PM], [Satu...   \n",
       "4  [[Thursday, 9AM–5PM], [Friday, 9AM–5PM], [Satu...   \n",
       "\n",
       "                                                MISC              state   \n",
       "0  {'Service options': ['In-store shopping', 'Sam...  Open ⋅ Closes 6PM  \\\n",
       "1                                               None           Open now   \n",
       "2  {'Service options': ['Takeout', 'Dine-in', 'De...  Open ⋅ Closes 6PM   \n",
       "3  {'Service options': ['In-store shopping'], 'Pa...  Open ⋅ Closes 5PM   \n",
       "4           {'Service options': ['In-store pickup']}  Open ⋅ Closes 5PM   \n",
       "\n",
       "                                    relative_results   \n",
       "0  [0x88f16e41929435cf:0x5b2532a2885e9ef6, 0x88f1...  \\\n",
       "1  [0x80c2c624136ea88b:0xb0315367ed448771, 0x80c2...   \n",
       "2  [0x80c2c78249aba68f:0x35bf16ce61be751d, 0x80c2...   \n",
       "3  [0x80c2c8811477253f:0x23a8a492df1918f7, 0x80c2...   \n",
       "4  [0x80c2c62c496083d1:0xdefa11317fe870a1, 0x80c2...   \n",
       "\n",
       "                                                 url  \n",
       "0  https://www.google.com/maps/place//data=!4m2!3...  \n",
       "1  https://www.google.com/maps/place//data=!4m2!3...  \n",
       "2  https://www.google.com/maps/place//data=!4m2!3...  \n",
       "3  https://www.google.com/maps/place//data=!4m2!3...  \n",
       "4  https://www.google.com/maps/place//data=!4m2!3...  "
      ]
     },
     "execution_count": 10,
     "metadata": {},
     "output_type": "execute_result"
    }
   ],
   "source": [
    "data_sitios['category'] = data_sitios['category'].apply(lambda x: ', '.join(x) if isinstance(x, list) else x)\n",
    "\n",
    "data_sitios.head()"
   ]
  },
  {
   "cell_type": "markdown",
   "metadata": {},
   "source": [
    "Realizamos un análisis de duplicados en base a la columna \"gmap_id\" para tomar decisiones respecto al manejo de los datos. Este proceso nos permite garantizar la integridad y calidad de la información."
   ]
  },
  {
   "cell_type": "code",
   "execution_count": 12,
   "metadata": {},
   "outputs": [
    {
     "name": "stdout",
     "output_type": "stream",
     "text": [
      "Total de duplicados en 'gmap_id': 53156\n"
     ]
    }
   ],
   "source": [
    "duplicates = data_sitios[data_sitios['gmap_id'].duplicated(keep=False)]\n",
    "duplicates_count = duplicates['gmap_id'].value_counts()\n",
    "\n",
    "print(\"Total de duplicados en 'gmap_id':\", len(duplicates))"
   ]
  },
  {
   "cell_type": "markdown",
   "metadata": {},
   "source": [
    "\n",
    "Seleccionamos un registro al azar para examinar sus duplicados y evaluar si comparten la misma información en todas las columnas. Este enfoque nos ayuda a identificar duplicados y asegurarnos de que la eliminación de registros no tenga un impacto significativo en la cantidad total de datos en el conjunto."
   ]
  },
  {
   "cell_type": "code",
   "execution_count": 13,
   "metadata": {},
   "outputs": [
    {
     "data": {
      "text/html": [
       "<div>\n",
       "<style scoped>\n",
       "    .dataframe tbody tr th:only-of-type {\n",
       "        vertical-align: middle;\n",
       "    }\n",
       "\n",
       "    .dataframe tbody tr th {\n",
       "        vertical-align: top;\n",
       "    }\n",
       "\n",
       "    .dataframe thead th {\n",
       "        text-align: right;\n",
       "    }\n",
       "</style>\n",
       "<table border=\"1\" class=\"dataframe\">\n",
       "  <thead>\n",
       "    <tr style=\"text-align: right;\">\n",
       "      <th></th>\n",
       "      <th>name</th>\n",
       "      <th>address</th>\n",
       "      <th>gmap_id</th>\n",
       "      <th>description</th>\n",
       "      <th>latitude</th>\n",
       "      <th>longitude</th>\n",
       "      <th>category</th>\n",
       "      <th>avg_rating</th>\n",
       "      <th>num_of_reviews</th>\n",
       "      <th>price</th>\n",
       "      <th>hours</th>\n",
       "      <th>MISC</th>\n",
       "      <th>state</th>\n",
       "      <th>relative_results</th>\n",
       "      <th>url</th>\n",
       "    </tr>\n",
       "  </thead>\n",
       "  <tbody>\n",
       "    <tr>\n",
       "      <th>26632</th>\n",
       "      <td>T-Mobile</td>\n",
       "      <td>T-Mobile, 3923 103rd St, Queens, NY 11368</td>\n",
       "      <td>0x89c25fc9494dce47:0x6d63c807b59a55</td>\n",
       "      <td>None</td>\n",
       "      <td>40.750146</td>\n",
       "      <td>-73.862536</td>\n",
       "      <td>Cell phone store, Electronic parts supplier, E...</td>\n",
       "      <td>3.5</td>\n",
       "      <td>95</td>\n",
       "      <td>$$</td>\n",
       "      <td>[[Thursday, 10AM–8PM], [Friday, 10AM–8PM], [Sa...</td>\n",
       "      <td>{'Service options': ['In-store shopping', 'Del...</td>\n",
       "      <td>Open ⋅ Closes 8PM</td>\n",
       "      <td>[0x89c25fc7a91c609f:0xb103d6a261373fd, 0x89c25...</td>\n",
       "      <td>https://www.google.com/maps/place//data=!4m2!3...</td>\n",
       "    </tr>\n",
       "  </tbody>\n",
       "</table>\n",
       "</div>"
      ],
      "text/plain": [
       "           name                                    address   \n",
       "26632  T-Mobile  T-Mobile, 3923 103rd St, Queens, NY 11368  \\\n",
       "\n",
       "                                   gmap_id description   latitude  longitude   \n",
       "26632  0x89c25fc9494dce47:0x6d63c807b59a55        None  40.750146 -73.862536  \\\n",
       "\n",
       "                                                category  avg_rating   \n",
       "26632  Cell phone store, Electronic parts supplier, E...         3.5  \\\n",
       "\n",
       "       num_of_reviews price   \n",
       "26632              95    $$  \\\n",
       "\n",
       "                                                   hours   \n",
       "26632  [[Thursday, 10AM–8PM], [Friday, 10AM–8PM], [Sa...  \\\n",
       "\n",
       "                                                    MISC              state   \n",
       "26632  {'Service options': ['In-store shopping', 'Del...  Open ⋅ Closes 8PM  \\\n",
       "\n",
       "                                        relative_results   \n",
       "26632  [0x89c25fc7a91c609f:0xb103d6a261373fd, 0x89c25...  \\\n",
       "\n",
       "                                                     url  \n",
       "26632  https://www.google.com/maps/place//data=!4m2!3...  "
      ]
     },
     "execution_count": 13,
     "metadata": {},
     "output_type": "execute_result"
    }
   ],
   "source": [
    "duplicates.sample()"
   ]
  },
  {
   "cell_type": "code",
   "execution_count": 14,
   "metadata": {},
   "outputs": [
    {
     "data": {
      "text/html": [
       "<div>\n",
       "<style scoped>\n",
       "    .dataframe tbody tr th:only-of-type {\n",
       "        vertical-align: middle;\n",
       "    }\n",
       "\n",
       "    .dataframe tbody tr th {\n",
       "        vertical-align: top;\n",
       "    }\n",
       "\n",
       "    .dataframe thead th {\n",
       "        text-align: right;\n",
       "    }\n",
       "</style>\n",
       "<table border=\"1\" class=\"dataframe\">\n",
       "  <thead>\n",
       "    <tr style=\"text-align: right;\">\n",
       "      <th></th>\n",
       "      <th>name</th>\n",
       "      <th>address</th>\n",
       "      <th>gmap_id</th>\n",
       "      <th>description</th>\n",
       "      <th>latitude</th>\n",
       "      <th>longitude</th>\n",
       "      <th>category</th>\n",
       "      <th>avg_rating</th>\n",
       "      <th>num_of_reviews</th>\n",
       "      <th>price</th>\n",
       "      <th>hours</th>\n",
       "      <th>MISC</th>\n",
       "      <th>state</th>\n",
       "      <th>relative_results</th>\n",
       "      <th>url</th>\n",
       "    </tr>\n",
       "  </thead>\n",
       "  <tbody>\n",
       "    <tr>\n",
       "      <th>25136</th>\n",
       "      <td>London Go Karts</td>\n",
       "      <td>London Go Karts, 323 Levi Jackson Mill Rd, Lon...</td>\n",
       "      <td>0x885ccdb4d45f1757:0x848ff530a65c115f</td>\n",
       "      <td>None</td>\n",
       "      <td>37.085907</td>\n",
       "      <td>-84.058622</td>\n",
       "      <td>Go-kart track</td>\n",
       "      <td>5.0</td>\n",
       "      <td>3</td>\n",
       "      <td>None</td>\n",
       "      <td>[[Tuesday, 9AM–10PM], [Wednesday, 9AM–10PM], [...</td>\n",
       "      <td>{'Amenities': ['Good for kids']}</td>\n",
       "      <td>Permanently closed</td>\n",
       "      <td>[0x88434e1ca4a62b7b:0xf303151389c11883, 0x885c...</td>\n",
       "      <td>https://www.google.com/maps/place//data=!4m2!3...</td>\n",
       "    </tr>\n",
       "    <tr>\n",
       "      <th>51709</th>\n",
       "      <td>London Go Karts</td>\n",
       "      <td>London Go Karts, 323 Levi Jackson Mill Rd, Lon...</td>\n",
       "      <td>0x885ccdb4d45f1757:0x848ff530a65c115f</td>\n",
       "      <td>None</td>\n",
       "      <td>37.085907</td>\n",
       "      <td>-84.058622</td>\n",
       "      <td>Go-kart track</td>\n",
       "      <td>5.0</td>\n",
       "      <td>3</td>\n",
       "      <td>None</td>\n",
       "      <td>[[Tuesday, 9AM–10PM], [Wednesday, 9AM–10PM], [...</td>\n",
       "      <td>{'Amenities': ['Good for kids']}</td>\n",
       "      <td>Permanently closed</td>\n",
       "      <td>[0x88434e1ca4a62b7b:0xf303151389c11883, 0x885c...</td>\n",
       "      <td>https://www.google.com/maps/place//data=!4m2!3...</td>\n",
       "    </tr>\n",
       "  </tbody>\n",
       "</table>\n",
       "</div>"
      ],
      "text/plain": [
       "                  name                                            address   \n",
       "25136  London Go Karts  London Go Karts, 323 Levi Jackson Mill Rd, Lon...  \\\n",
       "51709  London Go Karts  London Go Karts, 323 Levi Jackson Mill Rd, Lon...   \n",
       "\n",
       "                                     gmap_id description   latitude   \n",
       "25136  0x885ccdb4d45f1757:0x848ff530a65c115f        None  37.085907  \\\n",
       "51709  0x885ccdb4d45f1757:0x848ff530a65c115f        None  37.085907   \n",
       "\n",
       "       longitude       category  avg_rating  num_of_reviews price   \n",
       "25136 -84.058622  Go-kart track         5.0               3  None  \\\n",
       "51709 -84.058622  Go-kart track         5.0               3  None   \n",
       "\n",
       "                                                   hours   \n",
       "25136  [[Tuesday, 9AM–10PM], [Wednesday, 9AM–10PM], [...  \\\n",
       "51709  [[Tuesday, 9AM–10PM], [Wednesday, 9AM–10PM], [...   \n",
       "\n",
       "                                   MISC               state   \n",
       "25136  {'Amenities': ['Good for kids']}  Permanently closed  \\\n",
       "51709  {'Amenities': ['Good for kids']}  Permanently closed   \n",
       "\n",
       "                                        relative_results   \n",
       "25136  [0x88434e1ca4a62b7b:0xf303151389c11883, 0x885c...  \\\n",
       "51709  [0x88434e1ca4a62b7b:0xf303151389c11883, 0x885c...   \n",
       "\n",
       "                                                     url  \n",
       "25136  https://www.google.com/maps/place//data=!4m2!3...  \n",
       "51709  https://www.google.com/maps/place//data=!4m2!3...  "
      ]
     },
     "execution_count": 14,
     "metadata": {},
     "output_type": "execute_result"
    }
   ],
   "source": [
    "filtered_result = data_sitios[data_sitios['name'] == 'London Go Karts']\n",
    "\n",
    "filtered_result"
   ]
  },
  {
   "cell_type": "markdown",
   "metadata": {},
   "source": [
    "Después de confirmar que los duplicados comparten la misma información en todas sus columnas, procedemos a eliminar estos registros."
   ]
  },
  {
   "cell_type": "code",
   "execution_count": 11,
   "metadata": {},
   "outputs": [
    {
     "data": {
      "text/html": [
       "<div>\n",
       "<style scoped>\n",
       "    .dataframe tbody tr th:only-of-type {\n",
       "        vertical-align: middle;\n",
       "    }\n",
       "\n",
       "    .dataframe tbody tr th {\n",
       "        vertical-align: top;\n",
       "    }\n",
       "\n",
       "    .dataframe thead th {\n",
       "        text-align: right;\n",
       "    }\n",
       "</style>\n",
       "<table border=\"1\" class=\"dataframe\">\n",
       "  <thead>\n",
       "    <tr style=\"text-align: right;\">\n",
       "      <th></th>\n",
       "      <th>name</th>\n",
       "      <th>address</th>\n",
       "      <th>gmap_id</th>\n",
       "      <th>description</th>\n",
       "      <th>latitude</th>\n",
       "      <th>longitude</th>\n",
       "      <th>category</th>\n",
       "      <th>avg_rating</th>\n",
       "      <th>num_of_reviews</th>\n",
       "      <th>price</th>\n",
       "      <th>hours</th>\n",
       "      <th>MISC</th>\n",
       "      <th>state</th>\n",
       "      <th>relative_results</th>\n",
       "      <th>url</th>\n",
       "    </tr>\n",
       "  </thead>\n",
       "  <tbody>\n",
       "    <tr>\n",
       "      <th>0</th>\n",
       "      <td>Porter Pharmacy</td>\n",
       "      <td>Porter Pharmacy, 129 N Second St, Cochran, GA ...</td>\n",
       "      <td>0x88f16e41928ff687:0x883dad4fd048e8f8</td>\n",
       "      <td>None</td>\n",
       "      <td>32.388300</td>\n",
       "      <td>-83.357100</td>\n",
       "      <td>Pharmacy</td>\n",
       "      <td>4.9</td>\n",
       "      <td>16</td>\n",
       "      <td>None</td>\n",
       "      <td>[[Friday, 8AM–6PM], [Saturday, 8AM–12PM], [Sun...</td>\n",
       "      <td>{'Service options': ['In-store shopping', 'Sam...</td>\n",
       "      <td>Open ⋅ Closes 6PM</td>\n",
       "      <td>[0x88f16e41929435cf:0x5b2532a2885e9ef6, 0x88f1...</td>\n",
       "      <td>https://www.google.com/maps/place//data=!4m2!3...</td>\n",
       "    </tr>\n",
       "    <tr>\n",
       "      <th>1</th>\n",
       "      <td>City Textile</td>\n",
       "      <td>City Textile, 3001 E Pico Blvd, Los Angeles, C...</td>\n",
       "      <td>0x80c2c98c0e3c16fd:0x29ec8a728764fdf9</td>\n",
       "      <td>None</td>\n",
       "      <td>34.018891</td>\n",
       "      <td>-118.215290</td>\n",
       "      <td>Textile exporter</td>\n",
       "      <td>4.5</td>\n",
       "      <td>6</td>\n",
       "      <td>None</td>\n",
       "      <td>None</td>\n",
       "      <td>None</td>\n",
       "      <td>Open now</td>\n",
       "      <td>[0x80c2c624136ea88b:0xb0315367ed448771, 0x80c2...</td>\n",
       "      <td>https://www.google.com/maps/place//data=!4m2!3...</td>\n",
       "    </tr>\n",
       "    <tr>\n",
       "      <th>2</th>\n",
       "      <td>San Soo Dang</td>\n",
       "      <td>San Soo Dang, 761 S Vermont Ave, Los Angeles, ...</td>\n",
       "      <td>0x80c2c778e3b73d33:0xbdc58662a4a97d49</td>\n",
       "      <td>None</td>\n",
       "      <td>34.058092</td>\n",
       "      <td>-118.292130</td>\n",
       "      <td>Korean restaurant</td>\n",
       "      <td>4.4</td>\n",
       "      <td>18</td>\n",
       "      <td>None</td>\n",
       "      <td>[[Thursday, 6:30AM–6PM], [Friday, 6:30AM–6PM],...</td>\n",
       "      <td>{'Service options': ['Takeout', 'Dine-in', 'De...</td>\n",
       "      <td>Open ⋅ Closes 6PM</td>\n",
       "      <td>[0x80c2c78249aba68f:0x35bf16ce61be751d, 0x80c2...</td>\n",
       "      <td>https://www.google.com/maps/place//data=!4m2!3...</td>\n",
       "    </tr>\n",
       "    <tr>\n",
       "      <th>3</th>\n",
       "      <td>Nova Fabrics</td>\n",
       "      <td>Nova Fabrics, 2200 E 11th St, Los Angeles, CA ...</td>\n",
       "      <td>0x80c2c89923b27a41:0x32041559418d447</td>\n",
       "      <td>None</td>\n",
       "      <td>34.023669</td>\n",
       "      <td>-118.232930</td>\n",
       "      <td>Fabric store</td>\n",
       "      <td>3.3</td>\n",
       "      <td>6</td>\n",
       "      <td>None</td>\n",
       "      <td>[[Thursday, 9AM–5PM], [Friday, 9AM–5PM], [Satu...</td>\n",
       "      <td>{'Service options': ['In-store shopping'], 'Pa...</td>\n",
       "      <td>Open ⋅ Closes 5PM</td>\n",
       "      <td>[0x80c2c8811477253f:0x23a8a492df1918f7, 0x80c2...</td>\n",
       "      <td>https://www.google.com/maps/place//data=!4m2!3...</td>\n",
       "    </tr>\n",
       "    <tr>\n",
       "      <th>4</th>\n",
       "      <td>Nobel Textile Co</td>\n",
       "      <td>Nobel Textile Co, 719 E 9th St, Los Angeles, C...</td>\n",
       "      <td>0x80c2c632f933b073:0xc31785961fe826a6</td>\n",
       "      <td>None</td>\n",
       "      <td>34.036694</td>\n",
       "      <td>-118.249421</td>\n",
       "      <td>Fabric store</td>\n",
       "      <td>4.3</td>\n",
       "      <td>7</td>\n",
       "      <td>None</td>\n",
       "      <td>[[Thursday, 9AM–5PM], [Friday, 9AM–5PM], [Satu...</td>\n",
       "      <td>{'Service options': ['In-store pickup']}</td>\n",
       "      <td>Open ⋅ Closes 5PM</td>\n",
       "      <td>[0x80c2c62c496083d1:0xdefa11317fe870a1, 0x80c2...</td>\n",
       "      <td>https://www.google.com/maps/place//data=!4m2!3...</td>\n",
       "    </tr>\n",
       "  </tbody>\n",
       "</table>\n",
       "</div>"
      ],
      "text/plain": [
       "               name                                            address   \n",
       "0   Porter Pharmacy  Porter Pharmacy, 129 N Second St, Cochran, GA ...  \\\n",
       "1      City Textile  City Textile, 3001 E Pico Blvd, Los Angeles, C...   \n",
       "2      San Soo Dang  San Soo Dang, 761 S Vermont Ave, Los Angeles, ...   \n",
       "3      Nova Fabrics  Nova Fabrics, 2200 E 11th St, Los Angeles, CA ...   \n",
       "4  Nobel Textile Co  Nobel Textile Co, 719 E 9th St, Los Angeles, C...   \n",
       "\n",
       "                                 gmap_id description   latitude   longitude   \n",
       "0  0x88f16e41928ff687:0x883dad4fd048e8f8        None  32.388300  -83.357100  \\\n",
       "1  0x80c2c98c0e3c16fd:0x29ec8a728764fdf9        None  34.018891 -118.215290   \n",
       "2  0x80c2c778e3b73d33:0xbdc58662a4a97d49        None  34.058092 -118.292130   \n",
       "3   0x80c2c89923b27a41:0x32041559418d447        None  34.023669 -118.232930   \n",
       "4  0x80c2c632f933b073:0xc31785961fe826a6        None  34.036694 -118.249421   \n",
       "\n",
       "            category  avg_rating  num_of_reviews price   \n",
       "0           Pharmacy         4.9              16  None  \\\n",
       "1   Textile exporter         4.5               6  None   \n",
       "2  Korean restaurant         4.4              18  None   \n",
       "3       Fabric store         3.3               6  None   \n",
       "4       Fabric store         4.3               7  None   \n",
       "\n",
       "                                               hours   \n",
       "0  [[Friday, 8AM–6PM], [Saturday, 8AM–12PM], [Sun...  \\\n",
       "1                                               None   \n",
       "2  [[Thursday, 6:30AM–6PM], [Friday, 6:30AM–6PM],...   \n",
       "3  [[Thursday, 9AM–5PM], [Friday, 9AM–5PM], [Satu...   \n",
       "4  [[Thursday, 9AM–5PM], [Friday, 9AM–5PM], [Satu...   \n",
       "\n",
       "                                                MISC              state   \n",
       "0  {'Service options': ['In-store shopping', 'Sam...  Open ⋅ Closes 6PM  \\\n",
       "1                                               None           Open now   \n",
       "2  {'Service options': ['Takeout', 'Dine-in', 'De...  Open ⋅ Closes 6PM   \n",
       "3  {'Service options': ['In-store shopping'], 'Pa...  Open ⋅ Closes 5PM   \n",
       "4           {'Service options': ['In-store pickup']}  Open ⋅ Closes 5PM   \n",
       "\n",
       "                                    relative_results   \n",
       "0  [0x88f16e41929435cf:0x5b2532a2885e9ef6, 0x88f1...  \\\n",
       "1  [0x80c2c624136ea88b:0xb0315367ed448771, 0x80c2...   \n",
       "2  [0x80c2c78249aba68f:0x35bf16ce61be751d, 0x80c2...   \n",
       "3  [0x80c2c8811477253f:0x23a8a492df1918f7, 0x80c2...   \n",
       "4  [0x80c2c62c496083d1:0xdefa11317fe870a1, 0x80c2...   \n",
       "\n",
       "                                                 url  \n",
       "0  https://www.google.com/maps/place//data=!4m2!3...  \n",
       "1  https://www.google.com/maps/place//data=!4m2!3...  \n",
       "2  https://www.google.com/maps/place//data=!4m2!3...  \n",
       "3  https://www.google.com/maps/place//data=!4m2!3...  \n",
       "4  https://www.google.com/maps/place//data=!4m2!3...  "
      ]
     },
     "execution_count": 11,
     "metadata": {},
     "output_type": "execute_result"
    }
   ],
   "source": [
    "data_sitios.drop_duplicates(subset='name', inplace=True)\n",
    "\n",
    "data_sitios.head()"
   ]
  },
  {
   "cell_type": "markdown",
   "metadata": {},
   "source": [
    "Realizamos una inspección detallada de la columna \"MISC\" para evaluar su contribución al enfoque del proyecto. Al notar que esta columna contiene información sobre características, comodidades y aspectos destacados de cada ubicación, hemos decidido eliminarla. Esta decisión se tomó para simplificar el conjunto de datos y centrarnos en las columnas más relevantes para nuestros objetivos."
   ]
  },
  {
   "cell_type": "code",
   "execution_count": 12,
   "metadata": {},
   "outputs": [
    {
     "name": "stdout",
     "output_type": "stream",
     "text": [
      "{'From the business': ['Identifies as women-led'], 'Accessibility': ['Wheelchair accessible entrance']}\n",
      "{'Accessibility': ['Wheelchair accessible entrance'], 'Offerings': ['Oil change'], 'Amenities': ['Mechanic'], 'Planning': ['Appointments recommended']}\n",
      "{'Accessibility': ['Wheelchair accessible entrance'], 'Planning': ['Appointments recommended']}\n",
      "None\n",
      "None\n"
     ]
    }
   ],
   "source": [
    "for value in data_sitios['MISC'].sample(n=5, random_state=42):\n",
    "    print(value)"
   ]
  },
  {
   "cell_type": "markdown",
   "metadata": {},
   "source": [
    "Realizamos un análisis exhaustivo de la cantidad de valores nulos por columna en el conjunto de datos. Evaluamos la relevancia de la información que aportan estas columnas y cómo contribuyen a nuestros objetivos. Con base en esta evaluación, consideramos la posibilidad de reducir la cantidad de datos en el dataset eliminando aquellas columnas con una cantidad significativa de valores nulos que no aportan información crucial para el proyecto. Esta estrategia nos ayuda a concentrarnos en los datos más relevantes y a mejorar la eficiencia del análisis."
   ]
  },
  {
   "cell_type": "code",
   "execution_count": 23,
   "metadata": {},
   "outputs": [
    {
     "data": {
      "text/html": [
       "<div>\n",
       "<style scoped>\n",
       "    .dataframe tbody tr th:only-of-type {\n",
       "        vertical-align: middle;\n",
       "    }\n",
       "\n",
       "    .dataframe tbody tr th {\n",
       "        vertical-align: top;\n",
       "    }\n",
       "\n",
       "    .dataframe thead th {\n",
       "        text-align: right;\n",
       "    }\n",
       "</style>\n",
       "<table border=\"1\" class=\"dataframe\">\n",
       "  <thead>\n",
       "    <tr style=\"text-align: right;\">\n",
       "      <th></th>\n",
       "      <th>Columna</th>\n",
       "      <th>Cantidad_Nulos</th>\n",
       "      <th>Porcentaje_Nulos</th>\n",
       "    </tr>\n",
       "  </thead>\n",
       "  <tbody>\n",
       "    <tr>\n",
       "      <th>0</th>\n",
       "      <td>name</td>\n",
       "      <td>1</td>\n",
       "      <td>0.00</td>\n",
       "    </tr>\n",
       "    <tr>\n",
       "      <th>1</th>\n",
       "      <td>address</td>\n",
       "      <td>75478</td>\n",
       "      <td>3.27</td>\n",
       "    </tr>\n",
       "    <tr>\n",
       "      <th>2</th>\n",
       "      <td>gmap_id</td>\n",
       "      <td>0</td>\n",
       "      <td>0.00</td>\n",
       "    </tr>\n",
       "    <tr>\n",
       "      <th>3</th>\n",
       "      <td>description</td>\n",
       "      <td>2230159</td>\n",
       "      <td>96.63</td>\n",
       "    </tr>\n",
       "    <tr>\n",
       "      <th>4</th>\n",
       "      <td>latitude</td>\n",
       "      <td>0</td>\n",
       "      <td>0.00</td>\n",
       "    </tr>\n",
       "    <tr>\n",
       "      <th>5</th>\n",
       "      <td>longitude</td>\n",
       "      <td>0</td>\n",
       "      <td>0.00</td>\n",
       "    </tr>\n",
       "    <tr>\n",
       "      <th>6</th>\n",
       "      <td>category</td>\n",
       "      <td>15828</td>\n",
       "      <td>0.69</td>\n",
       "    </tr>\n",
       "    <tr>\n",
       "      <th>7</th>\n",
       "      <td>avg_rating</td>\n",
       "      <td>0</td>\n",
       "      <td>0.00</td>\n",
       "    </tr>\n",
       "    <tr>\n",
       "      <th>8</th>\n",
       "      <td>num_of_reviews</td>\n",
       "      <td>0</td>\n",
       "      <td>0.00</td>\n",
       "    </tr>\n",
       "    <tr>\n",
       "      <th>9</th>\n",
       "      <td>price</td>\n",
       "      <td>2222011</td>\n",
       "      <td>96.27</td>\n",
       "    </tr>\n",
       "    <tr>\n",
       "      <th>10</th>\n",
       "      <td>hours</td>\n",
       "      <td>638443</td>\n",
       "      <td>27.66</td>\n",
       "    </tr>\n",
       "    <tr>\n",
       "      <th>11</th>\n",
       "      <td>MISC</td>\n",
       "      <td>596401</td>\n",
       "      <td>25.84</td>\n",
       "    </tr>\n",
       "    <tr>\n",
       "      <th>12</th>\n",
       "      <td>state</td>\n",
       "      <td>607665</td>\n",
       "      <td>26.33</td>\n",
       "    </tr>\n",
       "    <tr>\n",
       "      <th>13</th>\n",
       "      <td>relative_results</td>\n",
       "      <td>234211</td>\n",
       "      <td>10.15</td>\n",
       "    </tr>\n",
       "    <tr>\n",
       "      <th>14</th>\n",
       "      <td>url</td>\n",
       "      <td>0</td>\n",
       "      <td>0.00</td>\n",
       "    </tr>\n",
       "  </tbody>\n",
       "</table>\n",
       "</div>"
      ],
      "text/plain": [
       "             Columna  Cantidad_Nulos  Porcentaje_Nulos\n",
       "0               name               1              0.00\n",
       "1            address           75478              3.27\n",
       "2            gmap_id               0              0.00\n",
       "3        description         2230159             96.63\n",
       "4           latitude               0              0.00\n",
       "5          longitude               0              0.00\n",
       "6           category           15828              0.69\n",
       "7         avg_rating               0              0.00\n",
       "8     num_of_reviews               0              0.00\n",
       "9              price         2222011             96.27\n",
       "10             hours          638443             27.66\n",
       "11              MISC          596401             25.84\n",
       "12             state          607665             26.33\n",
       "13  relative_results          234211             10.15\n",
       "14               url               0              0.00"
      ]
     },
     "execution_count": 23,
     "metadata": {},
     "output_type": "execute_result"
    }
   ],
   "source": [
    "null_percentages = (data_sitios.isnull().sum() / len(data_sitios)) * 100\n",
    "\n",
    "null_info_df = pd.DataFrame({\n",
    "    'Columna': null_percentages.index,\n",
    "    'Cantidad_Nulos': null_counts.values,\n",
    "    'Porcentaje_Nulos': null_percentages.values.round(2)\n",
    "})\n",
    "\n",
    "null_info_df"
   ]
  },
  {
   "cell_type": "code",
   "execution_count": 30,
   "metadata": {},
   "outputs": [
    {
     "data": {
      "image/png": "[encoded data removed]",
      "text/plain": [
       "<Figure size 1000x600 with 1 Axes>"
      ]
     },
     "metadata": {},
     "output_type": "display_data"
    }
   ],
   "source": [
    "# Calcular la cantidad de nulos por columna\n",
    "null_counts = data_sitios.isnull().sum()\n",
    "\n",
    "# Filtrar las columnas que tienen nulos\n",
    "columns_with_nans = null_counts[null_counts > 0]\n",
    "\n",
    "# Ordenar las columnas de mayor a menor cantidad de nulos\n",
    "sorted_null_counts = columns_with_nans.sort_values(ascending=False)\n",
    "\n",
    "# Crear la figura y el gráfico de barras\n",
    "plt.figure(figsize=(10, 6))\n",
    "plot = sorted_null_counts.plot(kind='bar', color=plt.cm.Pastel1(np.arange(len(sorted_null_counts))), edgecolor='black')\n",
    "\n",
    "# Agregar números formateados en las barras\n",
    "for i, v in enumerate(sorted_null_counts):\n",
    "    formatted_value = '{:,.0f}'.format(v)  # Formatear el número con separadores de miles\n",
    "    plt.text(i, v + 50, formatted_value, ha='center', va='bottom', fontsize=8, fontweight='bold')\n",
    "\n",
    "# Agregar etiquetas y título en negritas\n",
    "plt.xlabel('Columnas', fontweight='bold')\n",
    "plt.ylabel('Cantidad de Nulos', fontweight='bold')\n",
    "plt.title('Cantidad de Valores Nulos por Columna', fontweight='bold')\n",
    "\n",
    "# Cambiar el estilo de las etiquetas del eje x a negritas\n",
    "plt.xticks(range(len(sorted_null_counts.index)), sorted_null_counts.index, rotation=90, fontweight='bold')\n",
    "\n",
    "# Mostrar el gráfico\n",
    "plt.tight_layout()\n",
    "plt.show()"
   ]
  },
  {
   "cell_type": "code",
   "execution_count": 31,
   "metadata": {},
   "outputs": [
    {
     "data": {
      "text/html": [
       "<div>\n",
       "<style scoped>\n",
       "    .dataframe tbody tr th:only-of-type {\n",
       "        vertical-align: middle;\n",
       "    }\n",
       "\n",
       "    .dataframe tbody tr th {\n",
       "        vertical-align: top;\n",
       "    }\n",
       "\n",
       "    .dataframe thead th {\n",
       "        text-align: right;\n",
       "    }\n",
       "</style>\n",
       "<table border=\"1\" class=\"dataframe\">\n",
       "  <thead>\n",
       "    <tr style=\"text-align: right;\">\n",
       "      <th></th>\n",
       "      <th>name</th>\n",
       "      <th>address</th>\n",
       "      <th>gmap_id</th>\n",
       "      <th>latitude</th>\n",
       "      <th>longitude</th>\n",
       "      <th>category</th>\n",
       "      <th>avg_rating</th>\n",
       "      <th>num_of_reviews</th>\n",
       "    </tr>\n",
       "  </thead>\n",
       "  <tbody>\n",
       "    <tr>\n",
       "      <th>0</th>\n",
       "      <td>Porter Pharmacy</td>\n",
       "      <td>Porter Pharmacy, 129 N Second St, Cochran, GA ...</td>\n",
       "      <td>0x88f16e41928ff687:0x883dad4fd048e8f8</td>\n",
       "      <td>32.388300</td>\n",
       "      <td>-83.357100</td>\n",
       "      <td>Pharmacy</td>\n",
       "      <td>4.9</td>\n",
       "      <td>16</td>\n",
       "    </tr>\n",
       "    <tr>\n",
       "      <th>1</th>\n",
       "      <td>City Textile</td>\n",
       "      <td>City Textile, 3001 E Pico Blvd, Los Angeles, C...</td>\n",
       "      <td>0x80c2c98c0e3c16fd:0x29ec8a728764fdf9</td>\n",
       "      <td>34.018891</td>\n",
       "      <td>-118.215290</td>\n",
       "      <td>Textile exporter</td>\n",
       "      <td>4.5</td>\n",
       "      <td>6</td>\n",
       "    </tr>\n",
       "    <tr>\n",
       "      <th>2</th>\n",
       "      <td>San Soo Dang</td>\n",
       "      <td>San Soo Dang, 761 S Vermont Ave, Los Angeles, ...</td>\n",
       "      <td>0x80c2c778e3b73d33:0xbdc58662a4a97d49</td>\n",
       "      <td>34.058092</td>\n",
       "      <td>-118.292130</td>\n",
       "      <td>Korean restaurant</td>\n",
       "      <td>4.4</td>\n",
       "      <td>18</td>\n",
       "    </tr>\n",
       "    <tr>\n",
       "      <th>3</th>\n",
       "      <td>Nova Fabrics</td>\n",
       "      <td>Nova Fabrics, 2200 E 11th St, Los Angeles, CA ...</td>\n",
       "      <td>0x80c2c89923b27a41:0x32041559418d447</td>\n",
       "      <td>34.023669</td>\n",
       "      <td>-118.232930</td>\n",
       "      <td>Fabric store</td>\n",
       "      <td>3.3</td>\n",
       "      <td>6</td>\n",
       "    </tr>\n",
       "    <tr>\n",
       "      <th>4</th>\n",
       "      <td>Nobel Textile Co</td>\n",
       "      <td>Nobel Textile Co, 719 E 9th St, Los Angeles, C...</td>\n",
       "      <td>0x80c2c632f933b073:0xc31785961fe826a6</td>\n",
       "      <td>34.036694</td>\n",
       "      <td>-118.249421</td>\n",
       "      <td>Fabric store</td>\n",
       "      <td>4.3</td>\n",
       "      <td>7</td>\n",
       "    </tr>\n",
       "    <tr>\n",
       "      <th>...</th>\n",
       "      <td>...</td>\n",
       "      <td>...</td>\n",
       "      <td>...</td>\n",
       "      <td>...</td>\n",
       "      <td>...</td>\n",
       "      <td>...</td>\n",
       "      <td>...</td>\n",
       "      <td>...</td>\n",
       "    </tr>\n",
       "    <tr>\n",
       "      <th>3025006</th>\n",
       "      <td>Steak 48</td>\n",
       "      <td>Steak 48, 260 S Broad St, Philadelphia, PA 19102</td>\n",
       "      <td>0x89c6c74f43a49b55:0x6be6995921c58b12</td>\n",
       "      <td>39.947254</td>\n",
       "      <td>-75.164953</td>\n",
       "      <td>Steak house, Fine dining restaurant, Seafood r...</td>\n",
       "      <td>4.6</td>\n",
       "      <td>308</td>\n",
       "    </tr>\n",
       "    <tr>\n",
       "      <th>3025007</th>\n",
       "      <td>Jack Mcnerney Chevrolet, Inc.</td>\n",
       "      <td>Jack Mcnerney Chevrolet, Inc., 363 NY-281, Tul...</td>\n",
       "      <td>0x89da1787d3fdc4a5:0xce92ea6e3cd4d1cc</td>\n",
       "      <td>42.788636</td>\n",
       "      <td>-76.122120</td>\n",
       "      <td>Chevrolet dealer</td>\n",
       "      <td>4.4</td>\n",
       "      <td>143</td>\n",
       "    </tr>\n",
       "    <tr>\n",
       "      <th>3025008</th>\n",
       "      <td>Central Ny Spay Neuter Assista</td>\n",
       "      <td>Central Ny Spay Neuter Assista, 17 Salisbury S...</td>\n",
       "      <td>0x89da6b9ce832726f:0xbd0d3630f1e3b42e</td>\n",
       "      <td>42.603831</td>\n",
       "      <td>-76.165286</td>\n",
       "      <td>Veterinarian</td>\n",
       "      <td>4.3</td>\n",
       "      <td>88</td>\n",
       "    </tr>\n",
       "    <tr>\n",
       "      <th>3025009</th>\n",
       "      <td>Ok Feed Store</td>\n",
       "      <td>Ok Feed Store, 16300 SW 296th St, Homestead, F...</td>\n",
       "      <td>0x88d9e872a9e39f3d:0x5de29f50507e5d73</td>\n",
       "      <td>25.491641</td>\n",
       "      <td>-80.456076</td>\n",
       "      <td>Animal feed store</td>\n",
       "      <td>4.9</td>\n",
       "      <td>13</td>\n",
       "    </tr>\n",
       "    <tr>\n",
       "      <th>3025010</th>\n",
       "      <td>Crestview Crossing</td>\n",
       "      <td>Crestview Crossing, Newberg, OR 97132</td>\n",
       "      <td>0x54956b3944b1654d:0x7797cead9a485c22</td>\n",
       "      <td>45.310254</td>\n",
       "      <td>-122.935500</td>\n",
       "      <td>Lodging</td>\n",
       "      <td>5.0</td>\n",
       "      <td>1</td>\n",
       "    </tr>\n",
       "  </tbody>\n",
       "</table>\n",
       "<p>2308006 rows × 8 columns</p>\n",
       "</div>"
      ],
      "text/plain": [
       "                                   name   \n",
       "0                       Porter Pharmacy  \\\n",
       "1                          City Textile   \n",
       "2                          San Soo Dang   \n",
       "3                          Nova Fabrics   \n",
       "4                      Nobel Textile Co   \n",
       "...                                 ...   \n",
       "3025006                        Steak 48   \n",
       "3025007   Jack Mcnerney Chevrolet, Inc.   \n",
       "3025008  Central Ny Spay Neuter Assista   \n",
       "3025009                   Ok Feed Store   \n",
       "3025010              Crestview Crossing   \n",
       "\n",
       "                                                   address   \n",
       "0        Porter Pharmacy, 129 N Second St, Cochran, GA ...  \\\n",
       "1        City Textile, 3001 E Pico Blvd, Los Angeles, C...   \n",
       "2        San Soo Dang, 761 S Vermont Ave, Los Angeles, ...   \n",
       "3        Nova Fabrics, 2200 E 11th St, Los Angeles, CA ...   \n",
       "4        Nobel Textile Co, 719 E 9th St, Los Angeles, C...   \n",
       "...                                                    ...   \n",
       "3025006   Steak 48, 260 S Broad St, Philadelphia, PA 19102   \n",
       "3025007  Jack Mcnerney Chevrolet, Inc., 363 NY-281, Tul...   \n",
       "3025008  Central Ny Spay Neuter Assista, 17 Salisbury S...   \n",
       "3025009  Ok Feed Store, 16300 SW 296th St, Homestead, F...   \n",
       "3025010              Crestview Crossing, Newberg, OR 97132   \n",
       "\n",
       "                                       gmap_id   latitude   longitude   \n",
       "0        0x88f16e41928ff687:0x883dad4fd048e8f8  32.388300  -83.357100  \\\n",
       "1        0x80c2c98c0e3c16fd:0x29ec8a728764fdf9  34.018891 -118.215290   \n",
       "2        0x80c2c778e3b73d33:0xbdc58662a4a97d49  34.058092 -118.292130   \n",
       "3         0x80c2c89923b27a41:0x32041559418d447  34.023669 -118.232930   \n",
       "4        0x80c2c632f933b073:0xc31785961fe826a6  34.036694 -118.249421   \n",
       "...                                        ...        ...         ...   \n",
       "3025006  0x89c6c74f43a49b55:0x6be6995921c58b12  39.947254  -75.164953   \n",
       "3025007  0x89da1787d3fdc4a5:0xce92ea6e3cd4d1cc  42.788636  -76.122120   \n",
       "3025008  0x89da6b9ce832726f:0xbd0d3630f1e3b42e  42.603831  -76.165286   \n",
       "3025009  0x88d9e872a9e39f3d:0x5de29f50507e5d73  25.491641  -80.456076   \n",
       "3025010  0x54956b3944b1654d:0x7797cead9a485c22  45.310254 -122.935500   \n",
       "\n",
       "                                                  category  avg_rating   \n",
       "0                                                 Pharmacy         4.9  \\\n",
       "1                                         Textile exporter         4.5   \n",
       "2                                        Korean restaurant         4.4   \n",
       "3                                             Fabric store         3.3   \n",
       "4                                             Fabric store         4.3   \n",
       "...                                                    ...         ...   \n",
       "3025006  Steak house, Fine dining restaurant, Seafood r...         4.6   \n",
       "3025007                                   Chevrolet dealer         4.4   \n",
       "3025008                                       Veterinarian         4.3   \n",
       "3025009                                  Animal feed store         4.9   \n",
       "3025010                                            Lodging         5.0   \n",
       "\n",
       "         num_of_reviews  \n",
       "0                    16  \n",
       "1                     6  \n",
       "2                    18  \n",
       "3                     6  \n",
       "4                     7  \n",
       "...                 ...  \n",
       "3025006             308  \n",
       "3025007             143  \n",
       "3025008              88  \n",
       "3025009              13  \n",
       "3025010               1  \n",
       "\n",
       "[2308006 rows x 8 columns]"
      ]
     },
     "execution_count": 31,
     "metadata": {},
     "output_type": "execute_result"
    }
   ],
   "source": [
    "columns_to_drop = ['price', 'hours', 'MISC', 'state', 'relative_results', 'description', 'url']\n",
    "data_sitios.drop(columns=columns_to_drop, inplace=True)\n",
    "\n",
    "data_sitios"
   ]
  },
  {
   "cell_type": "markdown",
   "metadata": {},
   "source": [
    "Tomamos la decisión de enfocarnos en la columna \"category\" como parte fundamental para nuestras decisiones. Dado que esta columna es crucial para determinar cómo trabajar con diferentes porciones de datos, optamos por eliminar los registros con valores nulos en esta columna. Esto nos permite mantener la integridad de los datos relevantes para nuestro análisis y tomar decisiones basadas en información valiosa."
   ]
  },
  {
   "cell_type": "code",
   "execution_count": 32,
   "metadata": {},
   "outputs": [
    {
     "data": {
      "text/html": [
       "<div>\n",
       "<style scoped>\n",
       "    .dataframe tbody tr th:only-of-type {\n",
       "        vertical-align: middle;\n",
       "    }\n",
       "\n",
       "    .dataframe tbody tr th {\n",
       "        vertical-align: top;\n",
       "    }\n",
       "\n",
       "    .dataframe thead th {\n",
       "        text-align: right;\n",
       "    }\n",
       "</style>\n",
       "<table border=\"1\" class=\"dataframe\">\n",
       "  <thead>\n",
       "    <tr style=\"text-align: right;\">\n",
       "      <th></th>\n",
       "      <th>name</th>\n",
       "      <th>address</th>\n",
       "      <th>gmap_id</th>\n",
       "      <th>latitude</th>\n",
       "      <th>longitude</th>\n",
       "      <th>category</th>\n",
       "      <th>avg_rating</th>\n",
       "      <th>num_of_reviews</th>\n",
       "    </tr>\n",
       "  </thead>\n",
       "  <tbody>\n",
       "    <tr>\n",
       "      <th>0</th>\n",
       "      <td>Porter Pharmacy</td>\n",
       "      <td>Porter Pharmacy, 129 N Second St, Cochran, GA ...</td>\n",
       "      <td>0x88f16e41928ff687:0x883dad4fd048e8f8</td>\n",
       "      <td>32.388300</td>\n",
       "      <td>-83.357100</td>\n",
       "      <td>Pharmacy</td>\n",
       "      <td>4.9</td>\n",
       "      <td>16</td>\n",
       "    </tr>\n",
       "    <tr>\n",
       "      <th>1</th>\n",
       "      <td>City Textile</td>\n",
       "      <td>City Textile, 3001 E Pico Blvd, Los Angeles, C...</td>\n",
       "      <td>0x80c2c98c0e3c16fd:0x29ec8a728764fdf9</td>\n",
       "      <td>34.018891</td>\n",
       "      <td>-118.215290</td>\n",
       "      <td>Textile exporter</td>\n",
       "      <td>4.5</td>\n",
       "      <td>6</td>\n",
       "    </tr>\n",
       "    <tr>\n",
       "      <th>2</th>\n",
       "      <td>San Soo Dang</td>\n",
       "      <td>San Soo Dang, 761 S Vermont Ave, Los Angeles, ...</td>\n",
       "      <td>0x80c2c778e3b73d33:0xbdc58662a4a97d49</td>\n",
       "      <td>34.058092</td>\n",
       "      <td>-118.292130</td>\n",
       "      <td>Korean restaurant</td>\n",
       "      <td>4.4</td>\n",
       "      <td>18</td>\n",
       "    </tr>\n",
       "    <tr>\n",
       "      <th>3</th>\n",
       "      <td>Nova Fabrics</td>\n",
       "      <td>Nova Fabrics, 2200 E 11th St, Los Angeles, CA ...</td>\n",
       "      <td>0x80c2c89923b27a41:0x32041559418d447</td>\n",
       "      <td>34.023669</td>\n",
       "      <td>-118.232930</td>\n",
       "      <td>Fabric store</td>\n",
       "      <td>3.3</td>\n",
       "      <td>6</td>\n",
       "    </tr>\n",
       "    <tr>\n",
       "      <th>4</th>\n",
       "      <td>Nobel Textile Co</td>\n",
       "      <td>Nobel Textile Co, 719 E 9th St, Los Angeles, C...</td>\n",
       "      <td>0x80c2c632f933b073:0xc31785961fe826a6</td>\n",
       "      <td>34.036694</td>\n",
       "      <td>-118.249421</td>\n",
       "      <td>Fabric store</td>\n",
       "      <td>4.3</td>\n",
       "      <td>7</td>\n",
       "    </tr>\n",
       "    <tr>\n",
       "      <th>...</th>\n",
       "      <td>...</td>\n",
       "      <td>...</td>\n",
       "      <td>...</td>\n",
       "      <td>...</td>\n",
       "      <td>...</td>\n",
       "      <td>...</td>\n",
       "      <td>...</td>\n",
       "      <td>...</td>\n",
       "    </tr>\n",
       "    <tr>\n",
       "      <th>3025006</th>\n",
       "      <td>Steak 48</td>\n",
       "      <td>Steak 48, 260 S Broad St, Philadelphia, PA 19102</td>\n",
       "      <td>0x89c6c74f43a49b55:0x6be6995921c58b12</td>\n",
       "      <td>39.947254</td>\n",
       "      <td>-75.164953</td>\n",
       "      <td>Steak house, Fine dining restaurant, Seafood r...</td>\n",
       "      <td>4.6</td>\n",
       "      <td>308</td>\n",
       "    </tr>\n",
       "    <tr>\n",
       "      <th>3025007</th>\n",
       "      <td>Jack Mcnerney Chevrolet, Inc.</td>\n",
       "      <td>Jack Mcnerney Chevrolet, Inc., 363 NY-281, Tul...</td>\n",
       "      <td>0x89da1787d3fdc4a5:0xce92ea6e3cd4d1cc</td>\n",
       "      <td>42.788636</td>\n",
       "      <td>-76.122120</td>\n",
       "      <td>Chevrolet dealer</td>\n",
       "      <td>4.4</td>\n",
       "      <td>143</td>\n",
       "    </tr>\n",
       "    <tr>\n",
       "      <th>3025008</th>\n",
       "      <td>Central Ny Spay Neuter Assista</td>\n",
       "      <td>Central Ny Spay Neuter Assista, 17 Salisbury S...</td>\n",
       "      <td>0x89da6b9ce832726f:0xbd0d3630f1e3b42e</td>\n",
       "      <td>42.603831</td>\n",
       "      <td>-76.165286</td>\n",
       "      <td>Veterinarian</td>\n",
       "      <td>4.3</td>\n",
       "      <td>88</td>\n",
       "    </tr>\n",
       "    <tr>\n",
       "      <th>3025009</th>\n",
       "      <td>Ok Feed Store</td>\n",
       "      <td>Ok Feed Store, 16300 SW 296th St, Homestead, F...</td>\n",
       "      <td>0x88d9e872a9e39f3d:0x5de29f50507e5d73</td>\n",
       "      <td>25.491641</td>\n",
       "      <td>-80.456076</td>\n",
       "      <td>Animal feed store</td>\n",
       "      <td>4.9</td>\n",
       "      <td>13</td>\n",
       "    </tr>\n",
       "    <tr>\n",
       "      <th>3025010</th>\n",
       "      <td>Crestview Crossing</td>\n",
       "      <td>Crestview Crossing, Newberg, OR 97132</td>\n",
       "      <td>0x54956b3944b1654d:0x7797cead9a485c22</td>\n",
       "      <td>45.310254</td>\n",
       "      <td>-122.935500</td>\n",
       "      <td>Lodging</td>\n",
       "      <td>5.0</td>\n",
       "      <td>1</td>\n",
       "    </tr>\n",
       "  </tbody>\n",
       "</table>\n",
       "<p>2292178 rows × 8 columns</p>\n",
       "</div>"
      ],
      "text/plain": [
       "                                   name   \n",
       "0                       Porter Pharmacy  \\\n",
       "1                          City Textile   \n",
       "2                          San Soo Dang   \n",
       "3                          Nova Fabrics   \n",
       "4                      Nobel Textile Co   \n",
       "...                                 ...   \n",
       "3025006                        Steak 48   \n",
       "3025007   Jack Mcnerney Chevrolet, Inc.   \n",
       "3025008  Central Ny Spay Neuter Assista   \n",
       "3025009                   Ok Feed Store   \n",
       "3025010              Crestview Crossing   \n",
       "\n",
       "                                                   address   \n",
       "0        Porter Pharmacy, 129 N Second St, Cochran, GA ...  \\\n",
       "1        City Textile, 3001 E Pico Blvd, Los Angeles, C...   \n",
       "2        San Soo Dang, 761 S Vermont Ave, Los Angeles, ...   \n",
       "3        Nova Fabrics, 2200 E 11th St, Los Angeles, CA ...   \n",
       "4        Nobel Textile Co, 719 E 9th St, Los Angeles, C...   \n",
       "...                                                    ...   \n",
       "3025006   Steak 48, 260 S Broad St, Philadelphia, PA 19102   \n",
       "3025007  Jack Mcnerney Chevrolet, Inc., 363 NY-281, Tul...   \n",
       "3025008  Central Ny Spay Neuter Assista, 17 Salisbury S...   \n",
       "3025009  Ok Feed Store, 16300 SW 296th St, Homestead, F...   \n",
       "3025010              Crestview Crossing, Newberg, OR 97132   \n",
       "\n",
       "                                       gmap_id   latitude   longitude   \n",
       "0        0x88f16e41928ff687:0x883dad4fd048e8f8  32.388300  -83.357100  \\\n",
       "1        0x80c2c98c0e3c16fd:0x29ec8a728764fdf9  34.018891 -118.215290   \n",
       "2        0x80c2c778e3b73d33:0xbdc58662a4a97d49  34.058092 -118.292130   \n",
       "3         0x80c2c89923b27a41:0x32041559418d447  34.023669 -118.232930   \n",
       "4        0x80c2c632f933b073:0xc31785961fe826a6  34.036694 -118.249421   \n",
       "...                                        ...        ...         ...   \n",
       "3025006  0x89c6c74f43a49b55:0x6be6995921c58b12  39.947254  -75.164953   \n",
       "3025007  0x89da1787d3fdc4a5:0xce92ea6e3cd4d1cc  42.788636  -76.122120   \n",
       "3025008  0x89da6b9ce832726f:0xbd0d3630f1e3b42e  42.603831  -76.165286   \n",
       "3025009  0x88d9e872a9e39f3d:0x5de29f50507e5d73  25.491641  -80.456076   \n",
       "3025010  0x54956b3944b1654d:0x7797cead9a485c22  45.310254 -122.935500   \n",
       "\n",
       "                                                  category  avg_rating   \n",
       "0                                                 Pharmacy         4.9  \\\n",
       "1                                         Textile exporter         4.5   \n",
       "2                                        Korean restaurant         4.4   \n",
       "3                                             Fabric store         3.3   \n",
       "4                                             Fabric store         4.3   \n",
       "...                                                    ...         ...   \n",
       "3025006  Steak house, Fine dining restaurant, Seafood r...         4.6   \n",
       "3025007                                   Chevrolet dealer         4.4   \n",
       "3025008                                       Veterinarian         4.3   \n",
       "3025009                                  Animal feed store         4.9   \n",
       "3025010                                            Lodging         5.0   \n",
       "\n",
       "         num_of_reviews  \n",
       "0                    16  \n",
       "1                     6  \n",
       "2                    18  \n",
       "3                     6  \n",
       "4                     7  \n",
       "...                 ...  \n",
       "3025006             308  \n",
       "3025007             143  \n",
       "3025008              88  \n",
       "3025009              13  \n",
       "3025010               1  \n",
       "\n",
       "[2292178 rows x 8 columns]"
      ]
     },
     "execution_count": 32,
     "metadata": {},
     "output_type": "execute_result"
    }
   ],
   "source": [
    "data_sitios.dropna(subset=['category'], inplace=True)\n",
    "\n",
    "data_sitios"
   ]
  },
  {
   "cell_type": "markdown",
   "metadata": {},
   "source": [
    "Con el objetivo de asegurar la integridad y utilidad de nuestros datos, hemos procedido a eliminar los valores nulos restantes en las columnas 'address' y 'name'. Esta medida nos permitirá contar con una base de datos más limpia y coherente, preparada para su utilización sin inconvenientes. La eliminación de estos valores nulos contribuye a garantizar la calidad de la información que ponemos a disposición y a optimizar su aprovechamiento en nuestras futuras tareas y análisis."
   ]
  },
  {
   "cell_type": "code",
   "execution_count": 36,
   "metadata": {},
   "outputs": [],
   "source": [
    "data_sitios = data_sitios.dropna()"
   ]
  },
  {
   "cell_type": "markdown",
   "metadata": {},
   "source": [
    "Se ha tomado la acción de guardar los datos limpios en un archivo con formato Parquet. Esta elección proporciona beneficios significativos para futuros análisis y procesamientos. El formato Parquet es altamente eficiente en términos de almacenamiento y compresión, lo que ayuda a reducir el espacio ocupado por los datos en el almacenamiento. Además, Parquet es compatible con la ejecución paralela y la compresión de datos columnares, lo que acelera las consultas y el procesamiento en sistemas distribuidos. Al elegir el formato Parquet, estamos preparando nuestros datos para un acceso más rápido y eficiente en futuras etapas de análisis, permitiendo un flujo de trabajo más eficiente y una mejor utilización de los recursos de cómputo."
   ]
  },
  {
   "cell_type": "code",
   "execution_count": 38,
   "metadata": {},
   "outputs": [
    {
     "name": "stdout",
     "output_type": "stream",
     "text": [
      "Datos guardados en Dataset de Google Maps\\metadata.sitios\\data_sitios.parquet\n"
     ]
    }
   ],
   "source": [
    "data_folder = 'Dataset de Google Maps\\\\metadata.sitios'\n",
    "parquet_filepath = os.path.join(data_folder, 'data_sitios.parquet')\n",
    "\n",
    "data_sitios.to_parquet(parquet_filepath, index=False)\n",
    "\n",
    "print(f\"Datos guardados en {parquet_filepath}\")"
   ]
  },
  {
   "cell_type": "markdown",
   "metadata": {},
   "source": [
    "---\n",
    "---"
   ]
  },
  {
   "cell_type": "markdown",
   "metadata": {},
   "source": [
    "Luego de haber guardado los datos en el formato Parquet, procedemos a evaluar el tiempo requerido para cargar el archivo. Esta verificación nos permite tener una idea clara del rendimiento y la eficiencia del formato Parquet en términos de velocidad de carga. Al conocer el tiempo de procesamiento, podemos asegurarnos de que nuestras decisiones de almacenamiento estén respaldadas por resultados tangibles y tomar medidas para optimizar aún más nuestro flujo de trabajo si es necesario."
   ]
  },
  {
   "cell_type": "code",
   "execution_count": 71,
   "metadata": {},
   "outputs": [],
   "source": [
    "parquet_filepath = 'Dataset de Google Maps\\\\metadata.sitios\\\\data_sitios.parquet'\n",
    "\n",
    "data_sitios = pd.read_parquet(parquet_filepath)"
   ]
  },
  {
   "cell_type": "code",
   "execution_count": 40,
   "metadata": {},
   "outputs": [
    {
     "name": "stdout",
     "output_type": "stream",
     "text": [
      "<class 'pandas.core.frame.DataFrame'>\n",
      "RangeIndex: 2216703 entries, 0 to 2216702\n",
      "Data columns (total 8 columns):\n",
      " #   Column          Dtype  \n",
      "---  ------          -----  \n",
      " 0   name            object \n",
      " 1   address         object \n",
      " 2   gmap_id         object \n",
      " 3   latitude        float64\n",
      " 4   longitude       float64\n",
      " 5   category        object \n",
      " 6   avg_rating      float64\n",
      " 7   num_of_reviews  int64  \n",
      "dtypes: float64(3), int64(1), object(4)\n",
      "memory usage: 135.3+ MB\n"
     ]
    }
   ],
   "source": [
    "data_sitios.info()"
   ]
  },
  {
   "cell_type": "markdown",
   "metadata": {},
   "source": [
    "Hemos iniciado el proceso de validar la cantidad de categorías diferentes disponibles en nuestros datos. Esta validación es esencial para comprender la diversidad y amplitud de las categorías presentes en el conjunto de datos. Al conocer el número y la variedad de categorías, podremos tomar decisiones más informadas sobre cómo enfocar nuestro análisis y aprovechar al máximo la información proporcionada en cada categoría."
   ]
  },
  {
   "cell_type": "code",
   "execution_count": 41,
   "metadata": {},
   "outputs": [
    {
     "name": "stdout",
     "output_type": "stream",
     "text": [
      "Número de categorías únicas: 310064\n"
     ]
    }
   ],
   "source": [
    "num_unique_categories = data_sitios['category'].nunique()\n",
    "print(\"Número de categorías únicas:\", num_unique_categories)"
   ]
  },
  {
   "cell_type": "code",
   "execution_count": 42,
   "metadata": {},
   "outputs": [
    {
     "data": {
      "text/plain": [
       "category\n",
       "Restaurant                                                                                                                                                  34542\n",
       "Auto repair shop                                                                                                                                            29093\n",
       "Church                                                                                                                                                      25750\n",
       "Park                                                                                                                                                        23649\n",
       "Beauty salon                                                                                                                                                21151\n",
       "                                                                                                                                                            ...  \n",
       "Towing service, Auto body shop, Auto repair shop, Auto wrecker, Automobile storage facility, Junkyard, Locksmith, Salvage yard                                  1\n",
       "Pawn shop, Antique store, Coin dealer, Collectibles store, Diamond buyer, Estate appraiser, Gold dealer, Jewelry appraiser, Jewelry buyer, Jewelry store        1\n",
       "Furnace repair service, Air conditioning contractor, Air conditioning repair service, Electrician, Generator shop, HVAC contractor                              1\n",
       "Veterinarian, Animal rescue service, Pet adoption service, Pet boarding service, Pet groomer                                                                    1\n",
       "Truck dealer, Car dealer, Car repair and maintenance, RV repair shop, Truck repair shop                                                                         1\n",
       "Name: count, Length: 310064, dtype: int64"
      ]
     },
     "execution_count": 42,
     "metadata": {},
     "output_type": "execute_result"
    }
   ],
   "source": [
    "category_counts = data_sitios['category'].value_counts()\n",
    "category_counts"
   ]
  },
  {
   "cell_type": "markdown",
   "metadata": {},
   "source": [
    "Utilizando un gráfico de barras, visualizamos el top 10 de las categorías con la mayor cantidad de registros. Este enfoque nos permite identificar rápidamente las categorías más predominantes en el conjunto de datos. Al segmentar y filtrar los datos en función de estas categorías principales, estamos preparando una base sólida para nuestras futuras exploraciones y análisis más detallados. Esta estrategia nos ayuda a concentrarnos en áreas específicas de interés y a obtener insights más precisos y significativos."
   ]
  },
  {
   "cell_type": "code",
   "execution_count": 44,
   "metadata": {},
   "outputs": [
    {
     "data": {
      "image/png": "[encoded data removed]",
      "text/plain": [
       "<Figure size 1000x600 with 1 Axes>"
      ]
     },
     "metadata": {},
     "output_type": "display_data"
    }
   ],
   "source": [
    "# Obtener el conteo de registros por categoría\n",
    "category_counts = data_sitios['category'].value_counts()\n",
    "\n",
    "# Tomar las primeras 10 categorías con mayor conteo\n",
    "top_10_categories = category_counts.head(10)\n",
    "\n",
    "# Crear una paleta de colores tipo arcoíris\n",
    "num_colors = len(top_10_categories)\n",
    "colors = plt.cm.rainbow(np.linspace(0, 1, num_colors))\n",
    "\n",
    "# Graficar las primeras 10 categorías con colores arcoíris\n",
    "plt.figure(figsize=(10, 6))\n",
    "bars = top_10_categories.plot(kind='bar', color=colors)  # Asignar los colores arcoíris\n",
    "\n",
    "plt.title('Top 10 Categorías con Mayor Cantidad de Registros', fontweight='bold')\n",
    "plt.xlabel('Categoría', fontweight='bold')\n",
    "plt.ylabel('Cantidad de Registros', fontweight='bold')\n",
    "plt.xticks(rotation=45)\n",
    "\n",
    "# Agregar cuadrícula\n",
    "plt.grid(True, axis='y', linestyle='--', alpha=0.7)\n",
    "\n",
    "# Mostrar valores en las barras con separador de miles\n",
    "for bar, color in zip(bars.patches, colors):\n",
    "    yval = bar.get_height()\n",
    "    formatted_value = '{:,.0f}'.format(yval)  # Formatear el número con separadores de miles\n",
    "    plt.text(bar.get_x() + bar.get_width()/2, yval, formatted_value, ha='center', va='bottom', color='black', fontweight='bold', fontsize=8)\n",
    "\n",
    "plt.tight_layout()\n",
    "plt.show()"
   ]
  },
  {
   "cell_type": "markdown",
   "metadata": {},
   "source": [
    "Aprovechando la columna \"num_of_reviews\", generamos una visualización que muestra las categorías con la mayor cantidad de reseñas (reviews). Esta representación gráfica nos permite comparar y contrastar con la visualización anterior y verificar si hay coincidencias en las categorías más destacadas en términos de registros y reseñas. Al analizar estas coincidencias, obtenemos una comprensión más profunda de las categorías que generan más atención y participación por parte de los usuarios, lo que puede influir en nuestras decisiones y enfoques futuros."
   ]
  },
  {
   "cell_type": "code",
   "execution_count": 52,
   "metadata": {},
   "outputs": [
    {
     "data": {
      "text/plain": [
       "category\n",
       "Restaurant                                                                                                                                                                                             1348616\n",
       "Shopping mall                                                                                                                                                                                          1115315\n",
       "Nail salon                                                                                                                                                                                             1009614\n",
       "Dentist                                                                                                                                                                                                 912376\n",
       "Barber shop                                                                                                                                                                                             879916\n",
       "                                                                                                                                                                                                        ...   \n",
       "Roofing contractor, Custom home builder, General contractor, Siding contractor                                                                                                                               1\n",
       "Natural goods store, Caterer, Soup shop                                                                                                                                                                      1\n",
       "Equestrian facility, Animal rescue service, Stable                                                                                                                                                           1\n",
       "Rehabilitation center, Orthopedic clinic                                                                                                                                                                     1\n",
       "Bookkeeping service, Accountant, Business management consultant, Business to business service, Human resource consulting, Payroll service, Tax consultant, Tax preparation, Tax preparation service          1\n",
       "Name: num_of_reviews, Length: 310064, dtype: int64"
      ]
     },
     "execution_count": 52,
     "metadata": {},
     "output_type": "execute_result"
    }
   ],
   "source": [
    "# Agrupar por \"category\" y sumar los valores de \"num_of_reviews\"\n",
    "sum_reviews_by_category = data_sitios.groupby('category')['num_of_reviews'].sum()\n",
    "\n",
    "sum_reviews_by_category = sum_reviews_by_category.sort_values(ascending=False)\n",
    "\n",
    "sum_reviews_by_category"
   ]
  },
  {
   "cell_type": "code",
   "execution_count": 56,
   "metadata": {},
   "outputs": [
    {
     "data": {
      "image/png": "[encoded data removed]",
      "text/plain": [
       "<Figure size 1000x600 with 1 Axes>"
      ]
     },
     "metadata": {},
     "output_type": "display_data"
    }
   ],
   "source": [
    "# Graficar las primeras 10 categorías\n",
    "plt.figure(figsize=(10, 6))\n",
    "bars = sum_reviews_by_category.head(10).plot(kind='bar', color=plt.cm.rainbow(np.linspace(0, 1, 10)))\n",
    "\n",
    "plt.title('Top 10 Categorías con Mayor cantidad de Reviews', fontweight='bold')\n",
    "plt.xlabel('Categoría', fontweight='bold')\n",
    "plt.ylabel('Cantidad de Reviews', fontweight='bold')\n",
    "plt.xticks(rotation=45)\n",
    "\n",
    "# Agregar cuadrícula\n",
    "plt.grid(True, axis='y', linestyle='--', alpha=0.7)\n",
    "\n",
    "# Mostrar valores en las barras\n",
    "for bar in bars.patches:\n",
    "    yval = bar.get_height()\n",
    "    plt.text(bar.get_x() + bar.get_width()/2, yval, '{:,.0f}'.format(yval).replace(',', '.'), ha='center', va='bottom', color='black', fontweight='bold', fontsize=8)\n",
    "\n",
    "plt.tight_layout()\n",
    "plt.show()\n"
   ]
  },
  {
   "cell_type": "markdown",
   "metadata": {},
   "source": [
    "Observamos que la categoría \"Restaurant\" es una de las más sobresalientes en los análisis anteriores. Dada su prominencia y relevancia, podemos considerar filtrar nuestro conjunto de datos en función de esta categoría. Esta decisión nos permitiría centrarnos en un segmento específico que ha demostrado ser influyente en nuestras exploraciones anteriores, lo que posiblemente nos llevaría a obtener información más profunda y significativa sobre establecimientos del tipo \"Restaurant\"."
   ]
  },
  {
   "cell_type": "markdown",
   "metadata": {},
   "source": [
    "\n",
    "Realizamos una exploración mediante un gráfico de bigotes en la columna 'avg_rating' con el objetivo de identificar posibles valores atípicos. Esta visualización nos ayuda a comprender mejor la distribución de los datos y detectar valores que se apartan significativamente de la norma. Al identificar estos valores atípicos, podemos tomar decisiones informadas sobre si es necesario aplicar algún tipo de tratamiento a la columna 'avg_rating', lo que contribuiría a la integridad y la calidad de nuestros análisis subsiguientes."
   ]
  },
  {
   "cell_type": "code",
   "execution_count": 57,
   "metadata": {},
   "outputs": [
    {
     "data": {
      "image/png": "[encoded data removed]",
      "text/plain": [
       "<Figure size 800x600 with 1 Axes>"
      ]
     },
     "metadata": {},
     "output_type": "display_data"
    }
   ],
   "source": [
    "# Definir una paleta de colores personalizada (verde claro)\n",
    "custom_palette = [\"#A7E9AF\"]  # Puedes ajustar el código de color según tus preferencias\n",
    "\n",
    "# Configurar el estilo de los gráficos de Seaborn\n",
    "sns.set(style=\"whitegrid\", palette=custom_palette)\n",
    "\n",
    "# Crear un gráfico de bigotes con personalizaciones\n",
    "plt.figure(figsize=(8, 6))\n",
    "ax = sns.boxplot(data=data_sitios['avg_rating'], orient='h')\n",
    "\n",
    "# Personalizar el título y etiquetas con negritas\n",
    "plt.title(\"Valores Atípicos de avg_rating\", fontweight='bold')\n",
    "plt.xlabel(\"avg_rating\", fontweight='bold')\n",
    "\n",
    "# Mostrar el gráfico\n",
    "plt.show()"
   ]
  },
  {
   "cell_type": "markdown",
   "metadata": {},
   "source": [
    "Exploramos en detalle la distribución de calificaciones, enfocándonos en el rango de 1 a 5. Esta concentración es esencial para entender la opinión predominante de los usuarios. La visualización revela patrones en la cantidad de reseñas para cada nivel de calificación."
   ]
  },
  {
   "cell_type": "code",
   "execution_count": 59,
   "metadata": {},
   "outputs": [
    {
     "data": {
      "image/png": "[encoded data removed]",
      "text/plain": [
       "<Figure size 800x600 with 1 Axes>"
      ]
     },
     "metadata": {},
     "output_type": "display_data"
    }
   ],
   "source": [
    "# Filtrar los valores enteros en el rango de 1 a 5\n",
    "filtered_data = data_sitios[data_sitios['avg_rating'].between(1, 5, inclusive='both')]\n",
    "filtered_data['avg_rating'] = filtered_data['avg_rating'].astype(int)  # Convertir a enteros\n",
    "\n",
    "# Contar la frecuencia de cada valor entero en la columna \"avg_rating\"\n",
    "rating_counts = filtered_data['avg_rating'].value_counts().sort_index()\n",
    "\n",
    "# Crear una paleta de colores del arcoíris\n",
    "num_colors = len(rating_counts)\n",
    "rainbow_palette = plt.cm.rainbow(np.linspace(0, 1, num_colors))\n",
    "\n",
    "# Crear un gráfico de barras con colores personalizados\n",
    "plt.figure(figsize=(8, 6))\n",
    "bars = plt.bar(rating_counts.index, rating_counts.values, color=rainbow_palette)\n",
    "\n",
    "# Agregar título y etiquetas a los ejes en negrita\n",
    "plt.title(\"Cantidad de reviews por rating\", fontweight='bold')\n",
    "plt.xlabel(\"avg_rating\", fontweight='bold')\n",
    "plt.ylabel(\"Cantidad\", fontweight='bold')\n",
    "\n",
    "# Personalizar las etiquetas del eje x para mostrar solo números enteros\n",
    "plt.xticks(rating_counts.index, rating_counts.index)\n",
    "\n",
    "# Agregar el valor en cada barra\n",
    "for bar, value in zip(bars, rating_counts.values):\n",
    "    formatted_value = '{:,.0f}'.format(value).replace(',', '.')\n",
    "    plt.text(bar.get_x() + bar.get_width() / 2, bar.get_height(), formatted_value,\n",
    "             va='bottom', ha='center', fontweight='bold')\n",
    "\n",
    "# Mostrar el gráfico\n",
    "plt.show()"
   ]
  },
  {
   "cell_type": "markdown",
   "metadata": {},
   "source": [
    "Dado que la categoría 'Restaurante' se destaca significativamente con la mayor cantidad de registros y reseñas en nuestro conjunto de datos, hemos tomado la decisión de enfocar nuestro análisis exclusivamente en esta porción específica. Mediante la aplicación de un filtro, hemos segmentado el conjunto de datos para incluir únicamente aquellos registros que pertenecen a la categoría 'Restaurante'. Esta elección nos permite dirigir nuestros esfuerzos hacia un análisis más profundo y detallado de esta categoría en particular, lo que a su vez nos proporcionará insights más relevantes y concretos para nuestra investigación."
   ]
  },
  {
   "cell_type": "code",
   "execution_count": 72,
   "metadata": {},
   "outputs": [
    {
     "data": {
      "text/html": [
       "<div>\n",
       "<style scoped>\n",
       "    .dataframe tbody tr th:only-of-type {\n",
       "        vertical-align: middle;\n",
       "    }\n",
       "\n",
       "    .dataframe tbody tr th {\n",
       "        vertical-align: top;\n",
       "    }\n",
       "\n",
       "    .dataframe thead th {\n",
       "        text-align: right;\n",
       "    }\n",
       "</style>\n",
       "<table border=\"1\" class=\"dataframe\">\n",
       "  <thead>\n",
       "    <tr style=\"text-align: right;\">\n",
       "      <th></th>\n",
       "      <th>name</th>\n",
       "      <th>address</th>\n",
       "      <th>gmap_id</th>\n",
       "      <th>latitude</th>\n",
       "      <th>longitude</th>\n",
       "      <th>category</th>\n",
       "      <th>avg_rating</th>\n",
       "      <th>num_of_reviews</th>\n",
       "    </tr>\n",
       "  </thead>\n",
       "  <tbody>\n",
       "    <tr>\n",
       "      <th>6</th>\n",
       "      <td>Vons Chicken</td>\n",
       "      <td>Vons Chicken, 12740 La Mirada Blvd, La Mirada,...</td>\n",
       "      <td>0x80dd2b4c8555edb7:0xfc33d65c4bdbef42</td>\n",
       "      <td>33.916402</td>\n",
       "      <td>-118.010855</td>\n",
       "      <td>Restaurant</td>\n",
       "      <td>4.5</td>\n",
       "      <td>18</td>\n",
       "    </tr>\n",
       "    <tr>\n",
       "      <th>65</th>\n",
       "      <td>Vivi Bubble Tea</td>\n",
       "      <td>Vivi Bubble Tea, 701 S 5th St, Philadelphia, P...</td>\n",
       "      <td>0x89c6c89efcaed69d:0xded973f6033e7dba</td>\n",
       "      <td>39.940293</td>\n",
       "      <td>-75.150923</td>\n",
       "      <td>Restaurant</td>\n",
       "      <td>4.0</td>\n",
       "      <td>8</td>\n",
       "    </tr>\n",
       "    <tr>\n",
       "      <th>90</th>\n",
       "      <td>Hale Pops</td>\n",
       "      <td>Hale Pops, 55-370 Kamehameha Hwy, Laie, HI 96762</td>\n",
       "      <td>0x7c00456eecad3111:0x8217f9600c51f33</td>\n",
       "      <td>21.637796</td>\n",
       "      <td>-157.920714</td>\n",
       "      <td>Restaurant</td>\n",
       "      <td>4.4</td>\n",
       "      <td>18</td>\n",
       "    </tr>\n",
       "    <tr>\n",
       "      <th>103</th>\n",
       "      <td>Cape Seafood Shack</td>\n",
       "      <td>Cape Seafood Shack, 603 Del Prado Blvd S, Cape...</td>\n",
       "      <td>0x88db4147b1d9e6f3:0x943dbd10a92ba1b1</td>\n",
       "      <td>26.641377</td>\n",
       "      <td>-81.940545</td>\n",
       "      <td>Restaurant</td>\n",
       "      <td>5.0</td>\n",
       "      <td>1</td>\n",
       "    </tr>\n",
       "    <tr>\n",
       "      <th>111</th>\n",
       "      <td>Golden Castle</td>\n",
       "      <td>Golden Castle, 1906 E 12th St, Austin, TX 78702</td>\n",
       "      <td>0x8644b59b8fe872e5:0x5e638876caa84cc3</td>\n",
       "      <td>30.273985</td>\n",
       "      <td>-97.719563</td>\n",
       "      <td>Restaurant</td>\n",
       "      <td>4.5</td>\n",
       "      <td>8</td>\n",
       "    </tr>\n",
       "    <tr>\n",
       "      <th>...</th>\n",
       "      <td>...</td>\n",
       "      <td>...</td>\n",
       "      <td>...</td>\n",
       "      <td>...</td>\n",
       "      <td>...</td>\n",
       "      <td>...</td>\n",
       "      <td>...</td>\n",
       "      <td>...</td>\n",
       "    </tr>\n",
       "    <tr>\n",
       "      <th>2216385</th>\n",
       "      <td>Kellz's</td>\n",
       "      <td>Kellz's, 3605 Auburn St, Rockford, IL 61101</td>\n",
       "      <td>0x880895be3a9be00f:0xa3a9327c8a78c19</td>\n",
       "      <td>42.288716</td>\n",
       "      <td>-89.114199</td>\n",
       "      <td>Restaurant</td>\n",
       "      <td>4.1</td>\n",
       "      <td>18</td>\n",
       "    </tr>\n",
       "    <tr>\n",
       "      <th>2216434</th>\n",
       "      <td>CHiKN Pop-Up</td>\n",
       "      <td>CHiKN Pop-Up, 5055 PA-8, Gibsonia, PA 15044</td>\n",
       "      <td>0x88348f87f1f45937:0x858b5082b070b572</td>\n",
       "      <td>40.607697</td>\n",
       "      <td>-79.947518</td>\n",
       "      <td>Restaurant</td>\n",
       "      <td>3.8</td>\n",
       "      <td>4</td>\n",
       "    </tr>\n",
       "    <tr>\n",
       "      <th>2216444</th>\n",
       "      <td>Craw Daddy's Seafood and Steaks</td>\n",
       "      <td>Craw Daddy's Seafood and Steaks, 1028 Central ...</td>\n",
       "      <td>0x86532148d4077c6f:0x909aeaa34d8d7699</td>\n",
       "      <td>33.932680</td>\n",
       "      <td>-98.517603</td>\n",
       "      <td>Restaurant</td>\n",
       "      <td>3.2</td>\n",
       "      <td>198</td>\n",
       "    </tr>\n",
       "    <tr>\n",
       "      <th>2216464</th>\n",
       "      <td>Mrs Rice's Oriental Restaurant</td>\n",
       "      <td>Mrs Rice's Oriental Restaurant, 1355 Broadway ...</td>\n",
       "      <td>0x80d94e823b18f809:0x8184c792243025ff</td>\n",
       "      <td>32.602569</td>\n",
       "      <td>-117.077593</td>\n",
       "      <td>Restaurant</td>\n",
       "      <td>4.6</td>\n",
       "      <td>88</td>\n",
       "    </tr>\n",
       "    <tr>\n",
       "      <th>2216475</th>\n",
       "      <td>Bakery Antojitos Colombianos</td>\n",
       "      <td>Bakery Antojitos Colombianos, 12161 SW 152nd S...</td>\n",
       "      <td>0x88d9c3c682fe8a01:0x34f123db79ec201e</td>\n",
       "      <td>25.627098</td>\n",
       "      <td>-80.389759</td>\n",
       "      <td>Restaurant</td>\n",
       "      <td>4.5</td>\n",
       "      <td>46</td>\n",
       "    </tr>\n",
       "  </tbody>\n",
       "</table>\n",
       "<p>34542 rows × 8 columns</p>\n",
       "</div>"
      ],
      "text/plain": [
       "                                    name   \n",
       "6                           Vons Chicken  \\\n",
       "65                       Vivi Bubble Tea   \n",
       "90                             Hale Pops   \n",
       "103                   Cape Seafood Shack   \n",
       "111                        Golden Castle   \n",
       "...                                  ...   \n",
       "2216385                          Kellz's   \n",
       "2216434                     CHiKN Pop-Up   \n",
       "2216444  Craw Daddy's Seafood and Steaks   \n",
       "2216464   Mrs Rice's Oriental Restaurant   \n",
       "2216475     Bakery Antojitos Colombianos   \n",
       "\n",
       "                                                   address   \n",
       "6        Vons Chicken, 12740 La Mirada Blvd, La Mirada,...  \\\n",
       "65       Vivi Bubble Tea, 701 S 5th St, Philadelphia, P...   \n",
       "90        Hale Pops, 55-370 Kamehameha Hwy, Laie, HI 96762   \n",
       "103      Cape Seafood Shack, 603 Del Prado Blvd S, Cape...   \n",
       "111        Golden Castle, 1906 E 12th St, Austin, TX 78702   \n",
       "...                                                    ...   \n",
       "2216385        Kellz's, 3605 Auburn St, Rockford, IL 61101   \n",
       "2216434        CHiKN Pop-Up, 5055 PA-8, Gibsonia, PA 15044   \n",
       "2216444  Craw Daddy's Seafood and Steaks, 1028 Central ...   \n",
       "2216464  Mrs Rice's Oriental Restaurant, 1355 Broadway ...   \n",
       "2216475  Bakery Antojitos Colombianos, 12161 SW 152nd S...   \n",
       "\n",
       "                                       gmap_id   latitude   longitude   \n",
       "6        0x80dd2b4c8555edb7:0xfc33d65c4bdbef42  33.916402 -118.010855  \\\n",
       "65       0x89c6c89efcaed69d:0xded973f6033e7dba  39.940293  -75.150923   \n",
       "90        0x7c00456eecad3111:0x8217f9600c51f33  21.637796 -157.920714   \n",
       "103      0x88db4147b1d9e6f3:0x943dbd10a92ba1b1  26.641377  -81.940545   \n",
       "111      0x8644b59b8fe872e5:0x5e638876caa84cc3  30.273985  -97.719563   \n",
       "...                                        ...        ...         ...   \n",
       "2216385   0x880895be3a9be00f:0xa3a9327c8a78c19  42.288716  -89.114199   \n",
       "2216434  0x88348f87f1f45937:0x858b5082b070b572  40.607697  -79.947518   \n",
       "2216444  0x86532148d4077c6f:0x909aeaa34d8d7699  33.932680  -98.517603   \n",
       "2216464  0x80d94e823b18f809:0x8184c792243025ff  32.602569 -117.077593   \n",
       "2216475  0x88d9c3c682fe8a01:0x34f123db79ec201e  25.627098  -80.389759   \n",
       "\n",
       "           category  avg_rating  num_of_reviews  \n",
       "6        Restaurant         4.5              18  \n",
       "65       Restaurant         4.0               8  \n",
       "90       Restaurant         4.4              18  \n",
       "103      Restaurant         5.0               1  \n",
       "111      Restaurant         4.5               8  \n",
       "...             ...         ...             ...  \n",
       "2216385  Restaurant         4.1              18  \n",
       "2216434  Restaurant         3.8               4  \n",
       "2216444  Restaurant         3.2             198  \n",
       "2216464  Restaurant         4.6              88  \n",
       "2216475  Restaurant         4.5              46  \n",
       "\n",
       "[34542 rows x 8 columns]"
      ]
     },
     "execution_count": 72,
     "metadata": {},
     "output_type": "execute_result"
    }
   ],
   "source": [
    "# Filtramos el DataFrame por la categoría 'restaurant'\n",
    "data_sitios = data_sitios[data_sitios['category'] == 'Restaurant']\n",
    "\n",
    "data_sitios"
   ]
  },
  {
   "cell_type": "code",
   "execution_count": 74,
   "metadata": {},
   "outputs": [
    {
     "data": {
      "text/html": [
       "<div>\n",
       "<style scoped>\n",
       "    .dataframe tbody tr th:only-of-type {\n",
       "        vertical-align: middle;\n",
       "    }\n",
       "\n",
       "    .dataframe tbody tr th {\n",
       "        vertical-align: top;\n",
       "    }\n",
       "\n",
       "    .dataframe thead th {\n",
       "        text-align: right;\n",
       "    }\n",
       "</style>\n",
       "<table border=\"1\" class=\"dataframe\">\n",
       "  <thead>\n",
       "    <tr style=\"text-align: right;\">\n",
       "      <th></th>\n",
       "      <th>name</th>\n",
       "      <th>address</th>\n",
       "      <th>gmap_id</th>\n",
       "      <th>latitude</th>\n",
       "      <th>longitude</th>\n",
       "      <th>category</th>\n",
       "      <th>avg_rating</th>\n",
       "      <th>num_of_reviews</th>\n",
       "    </tr>\n",
       "  </thead>\n",
       "  <tbody>\n",
       "    <tr>\n",
       "      <th>0</th>\n",
       "      <td>Vons Chicken</td>\n",
       "      <td>Vons Chicken, 12740 La Mirada Blvd, La Mirada,...</td>\n",
       "      <td>0x80dd2b4c8555edb7:0xfc33d65c4bdbef42</td>\n",
       "      <td>33.916402</td>\n",
       "      <td>-118.010855</td>\n",
       "      <td>Restaurant</td>\n",
       "      <td>4.5</td>\n",
       "      <td>18</td>\n",
       "    </tr>\n",
       "    <tr>\n",
       "      <th>1</th>\n",
       "      <td>Vivi Bubble Tea</td>\n",
       "      <td>Vivi Bubble Tea, 701 S 5th St, Philadelphia, P...</td>\n",
       "      <td>0x89c6c89efcaed69d:0xded973f6033e7dba</td>\n",
       "      <td>39.940293</td>\n",
       "      <td>-75.150923</td>\n",
       "      <td>Restaurant</td>\n",
       "      <td>4.0</td>\n",
       "      <td>8</td>\n",
       "    </tr>\n",
       "    <tr>\n",
       "      <th>2</th>\n",
       "      <td>Hale Pops</td>\n",
       "      <td>Hale Pops, 55-370 Kamehameha Hwy, Laie, HI 96762</td>\n",
       "      <td>0x7c00456eecad3111:0x8217f9600c51f33</td>\n",
       "      <td>21.637796</td>\n",
       "      <td>-157.920714</td>\n",
       "      <td>Restaurant</td>\n",
       "      <td>4.4</td>\n",
       "      <td>18</td>\n",
       "    </tr>\n",
       "    <tr>\n",
       "      <th>3</th>\n",
       "      <td>Cape Seafood Shack</td>\n",
       "      <td>Cape Seafood Shack, 603 Del Prado Blvd S, Cape...</td>\n",
       "      <td>0x88db4147b1d9e6f3:0x943dbd10a92ba1b1</td>\n",
       "      <td>26.641377</td>\n",
       "      <td>-81.940545</td>\n",
       "      <td>Restaurant</td>\n",
       "      <td>5.0</td>\n",
       "      <td>1</td>\n",
       "    </tr>\n",
       "    <tr>\n",
       "      <th>4</th>\n",
       "      <td>Golden Castle</td>\n",
       "      <td>Golden Castle, 1906 E 12th St, Austin, TX 78702</td>\n",
       "      <td>0x8644b59b8fe872e5:0x5e638876caa84cc3</td>\n",
       "      <td>30.273985</td>\n",
       "      <td>-97.719563</td>\n",
       "      <td>Restaurant</td>\n",
       "      <td>4.5</td>\n",
       "      <td>8</td>\n",
       "    </tr>\n",
       "    <tr>\n",
       "      <th>...</th>\n",
       "      <td>...</td>\n",
       "      <td>...</td>\n",
       "      <td>...</td>\n",
       "      <td>...</td>\n",
       "      <td>...</td>\n",
       "      <td>...</td>\n",
       "      <td>...</td>\n",
       "      <td>...</td>\n",
       "    </tr>\n",
       "    <tr>\n",
       "      <th>34537</th>\n",
       "      <td>Kellz's</td>\n",
       "      <td>Kellz's, 3605 Auburn St, Rockford, IL 61101</td>\n",
       "      <td>0x880895be3a9be00f:0xa3a9327c8a78c19</td>\n",
       "      <td>42.288716</td>\n",
       "      <td>-89.114199</td>\n",
       "      <td>Restaurant</td>\n",
       "      <td>4.1</td>\n",
       "      <td>18</td>\n",
       "    </tr>\n",
       "    <tr>\n",
       "      <th>34538</th>\n",
       "      <td>CHiKN Pop-Up</td>\n",
       "      <td>CHiKN Pop-Up, 5055 PA-8, Gibsonia, PA 15044</td>\n",
       "      <td>0x88348f87f1f45937:0x858b5082b070b572</td>\n",
       "      <td>40.607697</td>\n",
       "      <td>-79.947518</td>\n",
       "      <td>Restaurant</td>\n",
       "      <td>3.8</td>\n",
       "      <td>4</td>\n",
       "    </tr>\n",
       "    <tr>\n",
       "      <th>34539</th>\n",
       "      <td>Craw Daddy's Seafood and Steaks</td>\n",
       "      <td>Craw Daddy's Seafood and Steaks, 1028 Central ...</td>\n",
       "      <td>0x86532148d4077c6f:0x909aeaa34d8d7699</td>\n",
       "      <td>33.932680</td>\n",
       "      <td>-98.517603</td>\n",
       "      <td>Restaurant</td>\n",
       "      <td>3.2</td>\n",
       "      <td>198</td>\n",
       "    </tr>\n",
       "    <tr>\n",
       "      <th>34540</th>\n",
       "      <td>Mrs Rice's Oriental Restaurant</td>\n",
       "      <td>Mrs Rice's Oriental Restaurant, 1355 Broadway ...</td>\n",
       "      <td>0x80d94e823b18f809:0x8184c792243025ff</td>\n",
       "      <td>32.602569</td>\n",
       "      <td>-117.077593</td>\n",
       "      <td>Restaurant</td>\n",
       "      <td>4.6</td>\n",
       "      <td>88</td>\n",
       "    </tr>\n",
       "    <tr>\n",
       "      <th>34541</th>\n",
       "      <td>Bakery Antojitos Colombianos</td>\n",
       "      <td>Bakery Antojitos Colombianos, 12161 SW 152nd S...</td>\n",
       "      <td>0x88d9c3c682fe8a01:0x34f123db79ec201e</td>\n",
       "      <td>25.627098</td>\n",
       "      <td>-80.389759</td>\n",
       "      <td>Restaurant</td>\n",
       "      <td>4.5</td>\n",
       "      <td>46</td>\n",
       "    </tr>\n",
       "  </tbody>\n",
       "</table>\n",
       "<p>34542 rows × 8 columns</p>\n",
       "</div>"
      ],
      "text/plain": [
       "                                  name   \n",
       "0                         Vons Chicken  \\\n",
       "1                      Vivi Bubble Tea   \n",
       "2                            Hale Pops   \n",
       "3                   Cape Seafood Shack   \n",
       "4                        Golden Castle   \n",
       "...                                ...   \n",
       "34537                          Kellz's   \n",
       "34538                     CHiKN Pop-Up   \n",
       "34539  Craw Daddy's Seafood and Steaks   \n",
       "34540   Mrs Rice's Oriental Restaurant   \n",
       "34541     Bakery Antojitos Colombianos   \n",
       "\n",
       "                                                 address   \n",
       "0      Vons Chicken, 12740 La Mirada Blvd, La Mirada,...  \\\n",
       "1      Vivi Bubble Tea, 701 S 5th St, Philadelphia, P...   \n",
       "2       Hale Pops, 55-370 Kamehameha Hwy, Laie, HI 96762   \n",
       "3      Cape Seafood Shack, 603 Del Prado Blvd S, Cape...   \n",
       "4        Golden Castle, 1906 E 12th St, Austin, TX 78702   \n",
       "...                                                  ...   \n",
       "34537        Kellz's, 3605 Auburn St, Rockford, IL 61101   \n",
       "34538        CHiKN Pop-Up, 5055 PA-8, Gibsonia, PA 15044   \n",
       "34539  Craw Daddy's Seafood and Steaks, 1028 Central ...   \n",
       "34540  Mrs Rice's Oriental Restaurant, 1355 Broadway ...   \n",
       "34541  Bakery Antojitos Colombianos, 12161 SW 152nd S...   \n",
       "\n",
       "                                     gmap_id   latitude   longitude   \n",
       "0      0x80dd2b4c8555edb7:0xfc33d65c4bdbef42  33.916402 -118.010855  \\\n",
       "1      0x89c6c89efcaed69d:0xded973f6033e7dba  39.940293  -75.150923   \n",
       "2       0x7c00456eecad3111:0x8217f9600c51f33  21.637796 -157.920714   \n",
       "3      0x88db4147b1d9e6f3:0x943dbd10a92ba1b1  26.641377  -81.940545   \n",
       "4      0x8644b59b8fe872e5:0x5e638876caa84cc3  30.273985  -97.719563   \n",
       "...                                      ...        ...         ...   \n",
       "34537   0x880895be3a9be00f:0xa3a9327c8a78c19  42.288716  -89.114199   \n",
       "34538  0x88348f87f1f45937:0x858b5082b070b572  40.607697  -79.947518   \n",
       "34539  0x86532148d4077c6f:0x909aeaa34d8d7699  33.932680  -98.517603   \n",
       "34540  0x80d94e823b18f809:0x8184c792243025ff  32.602569 -117.077593   \n",
       "34541  0x88d9c3c682fe8a01:0x34f123db79ec201e  25.627098  -80.389759   \n",
       "\n",
       "         category  avg_rating  num_of_reviews  \n",
       "0      Restaurant         4.5              18  \n",
       "1      Restaurant         4.0               8  \n",
       "2      Restaurant         4.4              18  \n",
       "3      Restaurant         5.0               1  \n",
       "4      Restaurant         4.5               8  \n",
       "...           ...         ...             ...  \n",
       "34537  Restaurant         4.1              18  \n",
       "34538  Restaurant         3.8               4  \n",
       "34539  Restaurant         3.2             198  \n",
       "34540  Restaurant         4.6              88  \n",
       "34541  Restaurant         4.5              46  \n",
       "\n",
       "[34542 rows x 8 columns]"
      ]
     },
     "execution_count": 74,
     "metadata": {},
     "output_type": "execute_result"
    }
   ],
   "source": [
    "data_sitios.reset_index(drop=True, inplace=True)\n",
    "\n",
    "data_sitios"
   ]
  },
  {
   "cell_type": "markdown",
   "metadata": {},
   "source": [
    "Previamente, habíamos adquirido los estados del país junto con sus respectivas coordenadas geográficas. En esta etapa, procedemos a la importación de este archivo con el propósito de utilizarlo como referencia en nuestro dataframe principal, 'data_sitios'. Al hacerlo, habilitamos la capacidad de búsqueda y correspondencia entre los estados y sus coordenadas con la información contenida en 'data_sitios'. Esta combinación nos permite enriquecer nuestro análisis al sumar información geoespacial a los datos existentes, proporcionando una dimensión adicional a nuestra evaluación de los sitios en estudio."
   ]
  },
  {
   "cell_type": "code",
   "execution_count": 68,
   "metadata": {},
   "outputs": [],
   "source": [
    "ruta_csv = r\"Dataset de Google Maps\\metadata.sitios\\datos_estados_geograficos.csv\"\n",
    "\n",
    "datos_estados_geograficos = pd.read_csv(ruta_csv)"
   ]
  },
  {
   "cell_type": "markdown",
   "metadata": {},
   "source": [
    "En este fragmento de código, hemos diseñado una función con el objetivo de lograr una correspondencia precisa entre los registros contenidos en el dataframe 'data_sitios' y los estados geográficos correspondientes. Para llevar a cabo esta tarea, nos valemos de las coordenadas geográficas de cada registro, comparándolas con las coordenadas de los estados almacenadas en el archivo 'datos_estados_geograficos'. De esta manera, determinamos con precisión a qué estado pertenece cada sitio en estudio. Esta acción nos permite enriquecer nuestros datos y proporciona un contexto geoespacial fundamental para análisis y visualizaciones posteriores.\""
   ]
  },
  {
   "cell_type": "code",
   "execution_count": 75,
   "metadata": {},
   "outputs": [
    {
     "data": {
      "text/html": [
       "<div>\n",
       "<style scoped>\n",
       "    .dataframe tbody tr th:only-of-type {\n",
       "        vertical-align: middle;\n",
       "    }\n",
       "\n",
       "    .dataframe tbody tr th {\n",
       "        vertical-align: top;\n",
       "    }\n",
       "\n",
       "    .dataframe thead th {\n",
       "        text-align: right;\n",
       "    }\n",
       "</style>\n",
       "<table border=\"1\" class=\"dataframe\">\n",
       "  <thead>\n",
       "    <tr style=\"text-align: right;\">\n",
       "      <th></th>\n",
       "      <th>name</th>\n",
       "      <th>address</th>\n",
       "      <th>gmap_id</th>\n",
       "      <th>latitude</th>\n",
       "      <th>longitude</th>\n",
       "      <th>category</th>\n",
       "      <th>avg_rating</th>\n",
       "      <th>num_of_reviews</th>\n",
       "      <th>state</th>\n",
       "    </tr>\n",
       "  </thead>\n",
       "  <tbody>\n",
       "    <tr>\n",
       "      <th>0</th>\n",
       "      <td>Vons Chicken</td>\n",
       "      <td>Vons Chicken, 12740 La Mirada Blvd, La Mirada,...</td>\n",
       "      <td>0x80dd2b4c8555edb7:0xfc33d65c4bdbef42</td>\n",
       "      <td>33.916402</td>\n",
       "      <td>-118.010855</td>\n",
       "      <td>Restaurant</td>\n",
       "      <td>4.5</td>\n",
       "      <td>18</td>\n",
       "      <td>California</td>\n",
       "    </tr>\n",
       "    <tr>\n",
       "      <th>1</th>\n",
       "      <td>Vivi Bubble Tea</td>\n",
       "      <td>Vivi Bubble Tea, 701 S 5th St, Philadelphia, P...</td>\n",
       "      <td>0x89c6c89efcaed69d:0xded973f6033e7dba</td>\n",
       "      <td>39.940293</td>\n",
       "      <td>-75.150923</td>\n",
       "      <td>Restaurant</td>\n",
       "      <td>4.0</td>\n",
       "      <td>8</td>\n",
       "      <td>New Jersey</td>\n",
       "    </tr>\n",
       "    <tr>\n",
       "      <th>2</th>\n",
       "      <td>Hale Pops</td>\n",
       "      <td>Hale Pops, 55-370 Kamehameha Hwy, Laie, HI 96762</td>\n",
       "      <td>0x7c00456eecad3111:0x8217f9600c51f33</td>\n",
       "      <td>21.637796</td>\n",
       "      <td>-157.920714</td>\n",
       "      <td>Restaurant</td>\n",
       "      <td>4.4</td>\n",
       "      <td>18</td>\n",
       "      <td>Hawaii</td>\n",
       "    </tr>\n",
       "    <tr>\n",
       "      <th>3</th>\n",
       "      <td>Cape Seafood Shack</td>\n",
       "      <td>Cape Seafood Shack, 603 Del Prado Blvd S, Cape...</td>\n",
       "      <td>0x88db4147b1d9e6f3:0x943dbd10a92ba1b1</td>\n",
       "      <td>26.641377</td>\n",
       "      <td>-81.940545</td>\n",
       "      <td>Restaurant</td>\n",
       "      <td>5.0</td>\n",
       "      <td>1</td>\n",
       "      <td>Florida</td>\n",
       "    </tr>\n",
       "    <tr>\n",
       "      <th>4</th>\n",
       "      <td>Golden Castle</td>\n",
       "      <td>Golden Castle, 1906 E 12th St, Austin, TX 78702</td>\n",
       "      <td>0x8644b59b8fe872e5:0x5e638876caa84cc3</td>\n",
       "      <td>30.273985</td>\n",
       "      <td>-97.719563</td>\n",
       "      <td>Restaurant</td>\n",
       "      <td>4.5</td>\n",
       "      <td>8</td>\n",
       "      <td>Texas</td>\n",
       "    </tr>\n",
       "    <tr>\n",
       "      <th>...</th>\n",
       "      <td>...</td>\n",
       "      <td>...</td>\n",
       "      <td>...</td>\n",
       "      <td>...</td>\n",
       "      <td>...</td>\n",
       "      <td>...</td>\n",
       "      <td>...</td>\n",
       "      <td>...</td>\n",
       "      <td>...</td>\n",
       "    </tr>\n",
       "    <tr>\n",
       "      <th>34537</th>\n",
       "      <td>Kellz's</td>\n",
       "      <td>Kellz's, 3605 Auburn St, Rockford, IL 61101</td>\n",
       "      <td>0x880895be3a9be00f:0xa3a9327c8a78c19</td>\n",
       "      <td>42.288716</td>\n",
       "      <td>-89.114199</td>\n",
       "      <td>Restaurant</td>\n",
       "      <td>4.1</td>\n",
       "      <td>18</td>\n",
       "      <td>Illinois</td>\n",
       "    </tr>\n",
       "    <tr>\n",
       "      <th>34538</th>\n",
       "      <td>CHiKN Pop-Up</td>\n",
       "      <td>CHiKN Pop-Up, 5055 PA-8, Gibsonia, PA 15044</td>\n",
       "      <td>0x88348f87f1f45937:0x858b5082b070b572</td>\n",
       "      <td>40.607697</td>\n",
       "      <td>-79.947518</td>\n",
       "      <td>Restaurant</td>\n",
       "      <td>3.8</td>\n",
       "      <td>4</td>\n",
       "      <td>West Virginia</td>\n",
       "    </tr>\n",
       "    <tr>\n",
       "      <th>34539</th>\n",
       "      <td>Craw Daddy's Seafood and Steaks</td>\n",
       "      <td>Craw Daddy's Seafood and Steaks, 1028 Central ...</td>\n",
       "      <td>0x86532148d4077c6f:0x909aeaa34d8d7699</td>\n",
       "      <td>33.932680</td>\n",
       "      <td>-98.517603</td>\n",
       "      <td>Restaurant</td>\n",
       "      <td>3.2</td>\n",
       "      <td>198</td>\n",
       "      <td>Oklahoma</td>\n",
       "    </tr>\n",
       "    <tr>\n",
       "      <th>34540</th>\n",
       "      <td>Mrs Rice's Oriental Restaurant</td>\n",
       "      <td>Mrs Rice's Oriental Restaurant, 1355 Broadway ...</td>\n",
       "      <td>0x80d94e823b18f809:0x8184c792243025ff</td>\n",
       "      <td>32.602569</td>\n",
       "      <td>-117.077593</td>\n",
       "      <td>Restaurant</td>\n",
       "      <td>4.6</td>\n",
       "      <td>88</td>\n",
       "      <td>California</td>\n",
       "    </tr>\n",
       "    <tr>\n",
       "      <th>34541</th>\n",
       "      <td>Bakery Antojitos Colombianos</td>\n",
       "      <td>Bakery Antojitos Colombianos, 12161 SW 152nd S...</td>\n",
       "      <td>0x88d9c3c682fe8a01:0x34f123db79ec201e</td>\n",
       "      <td>25.627098</td>\n",
       "      <td>-80.389759</td>\n",
       "      <td>Restaurant</td>\n",
       "      <td>4.5</td>\n",
       "      <td>46</td>\n",
       "      <td>Florida</td>\n",
       "    </tr>\n",
       "  </tbody>\n",
       "</table>\n",
       "<p>34542 rows × 9 columns</p>\n",
       "</div>"
      ],
      "text/plain": [
       "                                  name   \n",
       "0                         Vons Chicken  \\\n",
       "1                      Vivi Bubble Tea   \n",
       "2                            Hale Pops   \n",
       "3                   Cape Seafood Shack   \n",
       "4                        Golden Castle   \n",
       "...                                ...   \n",
       "34537                          Kellz's   \n",
       "34538                     CHiKN Pop-Up   \n",
       "34539  Craw Daddy's Seafood and Steaks   \n",
       "34540   Mrs Rice's Oriental Restaurant   \n",
       "34541     Bakery Antojitos Colombianos   \n",
       "\n",
       "                                                 address   \n",
       "0      Vons Chicken, 12740 La Mirada Blvd, La Mirada,...  \\\n",
       "1      Vivi Bubble Tea, 701 S 5th St, Philadelphia, P...   \n",
       "2       Hale Pops, 55-370 Kamehameha Hwy, Laie, HI 96762   \n",
       "3      Cape Seafood Shack, 603 Del Prado Blvd S, Cape...   \n",
       "4        Golden Castle, 1906 E 12th St, Austin, TX 78702   \n",
       "...                                                  ...   \n",
       "34537        Kellz's, 3605 Auburn St, Rockford, IL 61101   \n",
       "34538        CHiKN Pop-Up, 5055 PA-8, Gibsonia, PA 15044   \n",
       "34539  Craw Daddy's Seafood and Steaks, 1028 Central ...   \n",
       "34540  Mrs Rice's Oriental Restaurant, 1355 Broadway ...   \n",
       "34541  Bakery Antojitos Colombianos, 12161 SW 152nd S...   \n",
       "\n",
       "                                     gmap_id   latitude   longitude   \n",
       "0      0x80dd2b4c8555edb7:0xfc33d65c4bdbef42  33.916402 -118.010855  \\\n",
       "1      0x89c6c89efcaed69d:0xded973f6033e7dba  39.940293  -75.150923   \n",
       "2       0x7c00456eecad3111:0x8217f9600c51f33  21.637796 -157.920714   \n",
       "3      0x88db4147b1d9e6f3:0x943dbd10a92ba1b1  26.641377  -81.940545   \n",
       "4      0x8644b59b8fe872e5:0x5e638876caa84cc3  30.273985  -97.719563   \n",
       "...                                      ...        ...         ...   \n",
       "34537   0x880895be3a9be00f:0xa3a9327c8a78c19  42.288716  -89.114199   \n",
       "34538  0x88348f87f1f45937:0x858b5082b070b572  40.607697  -79.947518   \n",
       "34539  0x86532148d4077c6f:0x909aeaa34d8d7699  33.932680  -98.517603   \n",
       "34540  0x80d94e823b18f809:0x8184c792243025ff  32.602569 -117.077593   \n",
       "34541  0x88d9c3c682fe8a01:0x34f123db79ec201e  25.627098  -80.389759   \n",
       "\n",
       "         category  avg_rating  num_of_reviews          state  \n",
       "0      Restaurant         4.5              18     California  \n",
       "1      Restaurant         4.0               8     New Jersey  \n",
       "2      Restaurant         4.4              18         Hawaii  \n",
       "3      Restaurant         5.0               1        Florida  \n",
       "4      Restaurant         4.5               8          Texas  \n",
       "...           ...         ...             ...            ...  \n",
       "34537  Restaurant         4.1              18       Illinois  \n",
       "34538  Restaurant         3.8               4  West Virginia  \n",
       "34539  Restaurant         3.2             198       Oklahoma  \n",
       "34540  Restaurant         4.6              88     California  \n",
       "34541  Restaurant         4.5              46        Florida  \n",
       "\n",
       "[34542 rows x 9 columns]"
      ]
     },
     "execution_count": 75,
     "metadata": {},
     "output_type": "execute_result"
    }
   ],
   "source": [
    "# Calcula la distancia euclidiana entre las coordenadas de cada sitio en data_sitios y todas las coordenadas de estados en el DataFrame datos_estados_geograficos\n",
    "\n",
    "def calculate_distance(coord1, coord2):\n",
    "    return np.sqrt((coord1[0] - coord2[0])**2 + (coord1[1] - coord2[1])**2)\n",
    "\n",
    "# Lista para almacenar el estado correspondiente a cada conjunto de coordenadas\n",
    "state_column = []\n",
    "\n",
    "for index, row in data_sitios.iterrows():\n",
    "    min_distance = float('inf')\n",
    "    closest_state = None\n",
    "    \n",
    "    for state_index, state_row in datos_estados_geograficos.iterrows():\n",
    "        distance = calculate_distance((row['latitude'], row['longitude']),\n",
    "                                       (state_row['latitude'], state_row['longitude']))\n",
    "        if distance < min_distance:\n",
    "            min_distance = distance\n",
    "            closest_state = state_row['state'] \n",
    "        \n",
    "    state_column.append(closest_state)\n",
    "\n",
    "# Agrega la columna 'state' al DataFrame data_sitios\n",
    "data_sitios['state'] = state_column\n",
    "\n",
    "# Muestra el DataFrame actualizado\n",
    "data_sitios"
   ]
  },
  {
   "cell_type": "markdown",
   "metadata": {},
   "source": [
    "Con el propósito de tomar decisiones informadas sobre los estados con los que focalizaremos nuestro proyecto, hemos diseñado un gráfico tipo treemap para visualizar el top 10 de estados más relevantes. Esta visualización nos permite identificar de manera clara y concisa los estados que concentran una mayor cantidad de registros, brindándonos una guía esencial para delinear el enfoque de nuestro proyecto y determinar los estados con los que trabajaremos en adelante."
   ]
  },
  {
   "cell_type": "code",
   "execution_count": 79,
   "metadata": {},
   "outputs": [
    {
     "data": {
      "application/vnd.plotly.v1+json": {
       "config": {
        "plotlyServerURL": "https://plot.ly"
       },
       "data": [
        {
         "branchvalues": "total",
         "domain": {
          "x": [
           0,
           1
          ],
          "y": [
           0,
           1
          ]
         },
         "hovertemplate": "labels=%{label}<br>count=%{value}<br>parent=%{parent}<br>id=%{id}<extra></extra>",
         "ids": [
          "California",
          "Florida",
          "Georgia",
          "Illinois",
          "Louisiana",
          "New Jersey",
          "Ohio",
          "Oklahoma",
          "South Carolina",
          "Texas"
         ],
         "labels": [
          "California",
          "Florida",
          "Georgia",
          "Illinois",
          "Louisiana",
          "New Jersey",
          "Ohio",
          "Oklahoma",
          "South Carolina",
          "Texas"
         ],
         "name": "",
         "parents": [
          "",
          "",
          "",
          "",
          "",
          "",
          "",
          "",
          "",
          ""
         ],
         "textinfo": "label+value+percent entry",
         "type": "treemap",
         "values": [
          3986,
          2474,
          1109,
          1433,
          1323,
          2512,
          1196,
          895,
          893,
          2198
         ]
        }
       ],
       "layout": {
        "legend": {
         "tracegroupgap": 0
        },
        "margin": {
         "t": 60
        },
        "template": {
         "data": {
          "bar": [
           {
            "error_x": {
             "color": "#2a3f5f"
            },
            "error_y": {
             "color": "#2a3f5f"
            },
            "marker": {
             "line": {
              "color": "#E5ECF6",
              "width": 0.5
             },
             "pattern": {
              "fillmode": "overlay",
              "size": 10,
              "solidity": 0.2
             }
            },
            "type": "bar"
           }
          ],
          "barpolar": [
           {
            "marker": {
             "line": {
              "color": "#E5ECF6",
              "width": 0.5
             },
             "pattern": {
              "fillmode": "overlay",
              "size": 10,
              "solidity": 0.2
             }
            },
            "type": "barpolar"
           }
          ],
          "carpet": [
           {
            "aaxis": {
             "endlinecolor": "#2a3f5f",
             "gridcolor": "white",
             "linecolor": "white",
             "minorgridcolor": "white",
             "startlinecolor": "#2a3f5f"
            },
            "baxis": {
             "endlinecolor": "#2a3f5f",
             "gridcolor": "white",
             "linecolor": "white",
             "minorgridcolor": "white",
             "startlinecolor": "#2a3f5f"
            },
            "type": "carpet"
           }
          ],
          "choropleth": [
           {
            "colorbar": {
             "outlinewidth": 0,
             "ticks": ""
            },
            "type": "choropleth"
           }
          ],
          "contour": [
           {
            "colorbar": {
             "outlinewidth": 0,
             "ticks": ""
            },
            "colorscale": [
             [
              0,
              "#0d0887"
             ],
             [
              0.1111111111111111,
              "#46039f"
             ],
             [
              0.2222222222222222,
              "#7201a8"
             ],
             [
              0.3333333333333333,
              "#9c179e"
             ],
             [
              0.4444444444444444,
              "#bd3786"
             ],
             [
              0.5555555555555556,
              "#d8576b"
             ],
             [
              0.6666666666666666,
              "#ed7953"
             ],
             [
              0.7777777777777778,
              "#fb9f3a"
             ],
             [
              0.8888888888888888,
              "#fdca26"
             ],
             [
              1,
              "#f0f921"
             ]
            ],
            "type": "contour"
           }
          ],
          "contourcarpet": [
           {
            "colorbar": {
             "outlinewidth": 0,
             "ticks": ""
            },
            "type": "contourcarpet"
           }
          ],
          "heatmap": [
           {
            "colorbar": {
             "outlinewidth": 0,
             "ticks": ""
            },
            "colorscale": [
             [
              0,
              "#0d0887"
             ],
             [
              0.1111111111111111,
              "#46039f"
             ],
             [
              0.2222222222222222,
              "#7201a8"
             ],
             [
              0.3333333333333333,
              "#9c179e"
             ],
             [
              0.4444444444444444,
              "#bd3786"
             ],
             [
              0.5555555555555556,
              "#d8576b"
             ],
             [
              0.6666666666666666,
              "#ed7953"
             ],
             [
              0.7777777777777778,
              "#fb9f3a"
             ],
             [
              0.8888888888888888,
              "#fdca26"
             ],
             [
              1,
              "#f0f921"
             ]
            ],
            "type": "heatmap"
           }
          ],
          "heatmapgl": [
           {
            "colorbar": {
             "outlinewidth": 0,
             "ticks": ""
            },
            "colorscale": [
             [
              0,
              "#0d0887"
             ],
             [
              0.1111111111111111,
              "#46039f"
             ],
             [
              0.2222222222222222,
              "#7201a8"
             ],
             [
              0.3333333333333333,
              "#9c179e"
             ],
             [
              0.4444444444444444,
              "#bd3786"
             ],
             [
              0.5555555555555556,
              "#d8576b"
             ],
             [
              0.6666666666666666,
              "#ed7953"
             ],
             [
              0.7777777777777778,
              "#fb9f3a"
             ],
             [
              0.8888888888888888,
              "#fdca26"
             ],
             [
              1,
              "#f0f921"
             ]
            ],
            "type": "heatmapgl"
           }
          ],
          "histogram": [
           {
            "marker": {
             "pattern": {
              "fillmode": "overlay",
              "size": 10,
              "solidity": 0.2
             }
            },
            "type": "histogram"
           }
          ],
          "histogram2d": [
           {
            "colorbar": {
             "outlinewidth": 0,
             "ticks": ""
            },
            "colorscale": [
             [
              0,
              "#0d0887"
             ],
             [
              0.1111111111111111,
              "#46039f"
             ],
             [
              0.2222222222222222,
              "#7201a8"
             ],
             [
              0.3333333333333333,
              "#9c179e"
             ],
             [
              0.4444444444444444,
              "#bd3786"
             ],
             [
              0.5555555555555556,
              "#d8576b"
             ],
             [
              0.6666666666666666,
              "#ed7953"
             ],
             [
              0.7777777777777778,
              "#fb9f3a"
             ],
             [
              0.8888888888888888,
              "#fdca26"
             ],
             [
              1,
              "#f0f921"
             ]
            ],
            "type": "histogram2d"
           }
          ],
          "histogram2dcontour": [
           {
            "colorbar": {
             "outlinewidth": 0,
             "ticks": ""
            },
            "colorscale": [
             [
              0,
              "#0d0887"
             ],
             [
              0.1111111111111111,
              "#46039f"
             ],
             [
              0.2222222222222222,
              "#7201a8"
             ],
             [
              0.3333333333333333,
              "#9c179e"
             ],
             [
              0.4444444444444444,
              "#bd3786"
             ],
             [
              0.5555555555555556,
              "#d8576b"
             ],
             [
              0.6666666666666666,
              "#ed7953"
             ],
             [
              0.7777777777777778,
              "#fb9f3a"
             ],
             [
              0.8888888888888888,
              "#fdca26"
             ],
             [
              1,
              "#f0f921"
             ]
            ],
            "type": "histogram2dcontour"
           }
          ],
          "mesh3d": [
           {
            "colorbar": {
             "outlinewidth": 0,
             "ticks": ""
            },
            "type": "mesh3d"
           }
          ],
          "parcoords": [
           {
            "line": {
             "colorbar": {
              "outlinewidth": 0,
              "ticks": ""
             }
            },
            "type": "parcoords"
           }
          ],
          "pie": [
           {
            "automargin": true,
            "type": "pie"
           }
          ],
          "scatter": [
           {
            "fillpattern": {
             "fillmode": "overlay",
             "size": 10,
             "solidity": 0.2
            },
            "type": "scatter"
           }
          ],
          "scatter3d": [
           {
            "line": {
             "colorbar": {
              "outlinewidth": 0,
              "ticks": ""
             }
            },
            "marker": {
             "colorbar": {
              "outlinewidth": 0,
              "ticks": ""
             }
            },
            "type": "scatter3d"
           }
          ],
          "scattercarpet": [
           {
            "marker": {
             "colorbar": {
              "outlinewidth": 0,
              "ticks": ""
             }
            },
            "type": "scattercarpet"
           }
          ],
          "scattergeo": [
           {
            "marker": {
             "colorbar": {
              "outlinewidth": 0,
              "ticks": ""
             }
            },
            "type": "scattergeo"
           }
          ],
          "scattergl": [
           {
            "marker": {
             "colorbar": {
              "outlinewidth": 0,
              "ticks": ""
             }
            },
            "type": "scattergl"
           }
          ],
          "scattermapbox": [
           {
            "marker": {
             "colorbar": {
              "outlinewidth": 0,
              "ticks": ""
             }
            },
            "type": "scattermapbox"
           }
          ],
          "scatterpolar": [
           {
            "marker": {
             "colorbar": {
              "outlinewidth": 0,
              "ticks": ""
             }
            },
            "type": "scatterpolar"
           }
          ],
          "scatterpolargl": [
           {
            "marker": {
             "colorbar": {
              "outlinewidth": 0,
              "ticks": ""
             }
            },
            "type": "scatterpolargl"
           }
          ],
          "scatterternary": [
           {
            "marker": {
             "colorbar": {
              "outlinewidth": 0,
              "ticks": ""
             }
            },
            "type": "scatterternary"
           }
          ],
          "surface": [
           {
            "colorbar": {
             "outlinewidth": 0,
             "ticks": ""
            },
            "colorscale": [
             [
              0,
              "#0d0887"
             ],
             [
              0.1111111111111111,
              "#46039f"
             ],
             [
              0.2222222222222222,
              "#7201a8"
             ],
             [
              0.3333333333333333,
              "#9c179e"
             ],
             [
              0.4444444444444444,
              "#bd3786"
             ],
             [
              0.5555555555555556,
              "#d8576b"
             ],
             [
              0.6666666666666666,
              "#ed7953"
             ],
             [
              0.7777777777777778,
              "#fb9f3a"
             ],
             [
              0.8888888888888888,
              "#fdca26"
             ],
             [
              1,
              "#f0f921"
             ]
            ],
            "type": "surface"
           }
          ],
          "table": [
           {
            "cells": {
             "fill": {
              "color": "#EBF0F8"
             },
             "line": {
              "color": "white"
             }
            },
            "header": {
             "fill": {
              "color": "#C8D4E3"
             },
             "line": {
              "color": "white"
             }
            },
            "type": "table"
           }
          ]
         },
         "layout": {
          "annotationdefaults": {
           "arrowcolor": "#2a3f5f",
           "arrowhead": 0,
           "arrowwidth": 1
          },
          "autotypenumbers": "strict",
          "coloraxis": {
           "colorbar": {
            "outlinewidth": 0,
            "ticks": ""
           }
          },
          "colorscale": {
           "diverging": [
            [
             0,
             "#8e0152"
            ],
            [
             0.1,
             "#c51b7d"
            ],
            [
             0.2,
             "#de77ae"
            ],
            [
             0.3,
             "#f1b6da"
            ],
            [
             0.4,
             "#fde0ef"
            ],
            [
             0.5,
             "#f7f7f7"
            ],
            [
             0.6,
             "#e6f5d0"
            ],
            [
             0.7,
             "#b8e186"
            ],
            [
             0.8,
             "#7fbc41"
            ],
            [
             0.9,
             "#4d9221"
            ],
            [
             1,
             "#276419"
            ]
           ],
           "sequential": [
            [
             0,
             "#0d0887"
            ],
            [
             0.1111111111111111,
             "#46039f"
            ],
            [
             0.2222222222222222,
             "#7201a8"
            ],
            [
             0.3333333333333333,
             "#9c179e"
            ],
            [
             0.4444444444444444,
             "#bd3786"
            ],
            [
             0.5555555555555556,
             "#d8576b"
            ],
            [
             0.6666666666666666,
             "#ed7953"
            ],
            [
             0.7777777777777778,
             "#fb9f3a"
            ],
            [
             0.8888888888888888,
             "#fdca26"
            ],
            [
             1,
             "#f0f921"
            ]
           ],
           "sequentialminus": [
            [
             0,
             "#0d0887"
            ],
            [
             0.1111111111111111,
             "#46039f"
            ],
            [
             0.2222222222222222,
             "#7201a8"
            ],
            [
             0.3333333333333333,
             "#9c179e"
            ],
            [
             0.4444444444444444,
             "#bd3786"
            ],
            [
             0.5555555555555556,
             "#d8576b"
            ],
            [
             0.6666666666666666,
             "#ed7953"
            ],
            [
             0.7777777777777778,
             "#fb9f3a"
            ],
            [
             0.8888888888888888,
             "#fdca26"
            ],
            [
             1,
             "#f0f921"
            ]
           ]
          },
          "colorway": [
           "#636efa",
           "#EF553B",
           "#00cc96",
           "#ab63fa",
           "#FFA15A",
           "#19d3f3",
           "#FF6692",
           "#B6E880",
           "#FF97FF",
           "#FECB52"
          ],
          "font": {
           "color": "#2a3f5f"
          },
          "geo": {
           "bgcolor": "white",
           "lakecolor": "white",
           "landcolor": "#E5ECF6",
           "showlakes": true,
           "showland": true,
           "subunitcolor": "white"
          },
          "hoverlabel": {
           "align": "left"
          },
          "hovermode": "closest",
          "mapbox": {
           "style": "light"
          },
          "paper_bgcolor": "white",
          "plot_bgcolor": "#E5ECF6",
          "polar": {
           "angularaxis": {
            "gridcolor": "white",
            "linecolor": "white",
            "ticks": ""
           },
           "bgcolor": "#E5ECF6",
           "radialaxis": {
            "gridcolor": "white",
            "linecolor": "white",
            "ticks": ""
           }
          },
          "scene": {
           "xaxis": {
            "backgroundcolor": "#E5ECF6",
            "gridcolor": "white",
            "gridwidth": 2,
            "linecolor": "white",
            "showbackground": true,
            "ticks": "",
            "zerolinecolor": "white"
           },
           "yaxis": {
            "backgroundcolor": "#E5ECF6",
            "gridcolor": "white",
            "gridwidth": 2,
            "linecolor": "white",
            "showbackground": true,
            "ticks": "",
            "zerolinecolor": "white"
           },
           "zaxis": {
            "backgroundcolor": "#E5ECF6",
            "gridcolor": "white",
            "gridwidth": 2,
            "linecolor": "white",
            "showbackground": true,
            "ticks": "",
            "zerolinecolor": "white"
           }
          },
          "shapedefaults": {
           "line": {
            "color": "#2a3f5f"
           }
          },
          "ternary": {
           "aaxis": {
            "gridcolor": "white",
            "linecolor": "white",
            "ticks": ""
           },
           "baxis": {
            "gridcolor": "white",
            "linecolor": "white",
            "ticks": ""
           },
           "bgcolor": "#E5ECF6",
           "caxis": {
            "gridcolor": "white",
            "linecolor": "white",
            "ticks": ""
           }
          },
          "title": {
           "x": 0.05
          },
          "xaxis": {
           "automargin": true,
           "gridcolor": "white",
           "linecolor": "white",
           "ticks": "",
           "title": {
            "standoff": 15
           },
           "zerolinecolor": "white",
           "zerolinewidth": 2
          },
          "yaxis": {
           "automargin": true,
           "gridcolor": "white",
           "linecolor": "white",
           "ticks": "",
           "title": {
            "standoff": 15
           },
           "zerolinecolor": "white",
           "zerolinewidth": 2
          }
         }
        },
        "title": {
         "text": "<b>Distribución de Restaurantes por Estado</b>"
        }
       }
      }
     },
     "metadata": {},
     "output_type": "display_data"
    }
   ],
   "source": [
    "# Calcular el recuento de restaurantes por estado\n",
    "state_counts = data_sitios['state'].value_counts()\n",
    "\n",
    "# Obtener el top 10 de estados\n",
    "top_10_states = state_counts.head(10)\n",
    "\n",
    "# Crear un DataFrame para el treemap\n",
    "state_data = pd.DataFrame({'state': top_10_states.index, 'count': top_10_states.values})\n",
    "\n",
    "# Crear el treemap interactivo\n",
    "fig = px.treemap(state_data, path=['state'], values='count')\n",
    "\n",
    "# Agregar etiquetas de texto con la cantidad de registros en negrita\n",
    "fig.update_traces(textinfo='label+value+percent entry')\n",
    "\n",
    "# Agregar título en negrita al treemap\n",
    "fig.update_layout(title={'text': '<b>Distribución de Restaurantes por Estado</b>'})\n",
    "\n",
    "# Mostrar el treemap\n",
    "fig.show()"
   ]
  },
  {
   "cell_type": "markdown",
   "metadata": {},
   "source": [
    "Finalmente, procedemos a guardar el archivo una vez que se han aplicado todos los filtros a los datos con los que trabajaremos. Mantenemos el formato Parquet para el archivo debido a consideraciones de procesamiento. Este formato nos permite conservar la eficiencia en el manejo de datos, garantizando que nuestras operaciones futuras sean ágiles y efectivas, al tiempo que aseguramos la integridad de la información filtrada y preparada para su uso en el proyecto."
   ]
  },
  {
   "cell_type": "code",
   "execution_count": 84,
   "metadata": {},
   "outputs": [
    {
     "name": "stdout",
     "output_type": "stream",
     "text": [
      "Datos guardados en Dataset de Google Maps\\metadata.sitios\\data_filtrada.parquet\n"
     ]
    }
   ],
   "source": [
    "data_folder = 'Dataset de Google Maps\\\\metadata.sitios'\n",
    "parquet_filepath = os.path.join(data_folder, 'data_filtrada.parquet')\n",
    "\n",
    "data_sitios.to_parquet(parquet_filepath, index=False)\n",
    "\n",
    "print(f\"Datos guardados en {parquet_filepath}\")"
   ]
  }
 ],
 "metadata": {
  "kernelspec": {
   "display_name": "Python 3",
   "language": "python",
   "name": "python3"
  },
  "language_info": {
   "codemirror_mode": {
    "name": "ipython",
    "version": 3
   },
   "file_extension": ".py",
   "mimetype": "text/x-python",
   "name": "python",
   "nbconvert_exporter": "python",
   "pygments_lexer": "ipython3",
   "version": "3.11.3"
  },
  "orig_nbformat": 4
 },
 "nbformat": 4,
 "nbformat_minor": 2
}
